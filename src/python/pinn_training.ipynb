{
 "cells": [
  {
   "cell_type": "markdown",
   "metadata": {},
   "source": [
    "# Physics Informed Neural Networks <br> F1 Car Front Wing Aerodymanics"
   ]
  },
  {
   "cell_type": "markdown",
   "metadata": {},
   "source": [
    "## PINN"
   ]
  },
  {
   "cell_type": "code",
   "execution_count": null,
   "metadata": {},
   "outputs": [],
   "source": [
    "import numpy as np\n",
    "import pandas as pd\n",
    "import torch\n",
    "from pinn import PINN\n",
    "import utils"
   ]
  },
  {
   "cell_type": "code",
   "execution_count": null,
   "metadata": {},
   "outputs": [],
   "source": [
    "in_dir = \"/Users/ggito/repos/pinns/data/\"\n",
    "points_filename = \"front_wing_points_final.csv\"\n",
    "norms_filename = \"front_wing_norms_final.csv\"\n",
    "\n",
    "out_dir = \"/Users/ggito/repos/pinns/data/\"\n",
    "models_out_dir = \"/Users/ggito/repos/pinns/data/models/\"\n",
    "log_out_dir = \"/Users/ggito/repos/pinns/data/log/\""
   ]
  },
  {
   "cell_type": "code",
   "execution_count": null,
   "metadata": {},
   "outputs": [],
   "source": [
    "if torch.backends.mps.is_available():\n",
    "  device = torch.device(\"mps\")\n",
    "elif torch.cuda.is_available():\n",
    "  device = torch.device(\"cuda\")\n",
    "else:\n",
    "  print(\"GPU device not found.\")\n",
    "\n",
    "print(device)"
   ]
  },
  {
   "cell_type": "code",
   "execution_count": null,
   "metadata": {},
   "outputs": [],
   "source": [
    "wing_df = pd.read_csv(in_dir + points_filename)\n",
    "# norm_df = pd.read_csv(in_dir + norms_filename)"
   ]
  },
  {
   "cell_type": "code",
   "execution_count": null,
   "metadata": {},
   "outputs": [],
   "source": [
    "# Density (rho): 1.2041kg/m^3\n",
    "# Dynamic viscosity (mu): 1.81e-5 kg/m.s\n",
    "rho = 1\n",
    "mu = 1\n",
    "\n",
    "# m/s\n",
    "in_velocity = 1\n",
    "\n",
    "# Domain limits\n",
    "x_max = 1\n",
    "y_max = 1\n",
    "z_max = 1\n",
    "t_max = 2"
   ]
  },
  {
   "cell_type": "code",
   "execution_count": null,
   "metadata": {},
   "outputs": [],
   "source": [
    "input_dim = 4\n",
    "output_dim = 4\n",
    "# hidden_units = [2058, 2058, 2058]\n",
    "hidden_units = [1024, 1024, 1024]\n",
    "\n",
    "pinn = PINN(input_dim, output_dim, hidden_units).to(device)"
   ]
  },
  {
   "cell_type": "code",
   "execution_count": null,
   "metadata": {},
   "outputs": [],
   "source": [
    "optimizer = torch.optim.LBFGS(pinn.parameters(), lr=1)\n",
    "\n",
    "epochs = 300\n",
    "\n",
    "Nf = 20000   # num of collocation points -> pde evaluation\n",
    "N0 = 20000   # num of points to evaluate initial conditons\n",
    "Nb = 20000   # num of points to evaluate boundary conditions\n",
    "Nw = 20000   # num of points of the surface of the front wing to evaluate boundary conditions\n",
    "\n",
    "c1 = 1\n",
    "c2 = 1\n",
    "c3 = 1\n",
    "c4 = 1"
   ]
  },
  {
   "cell_type": "code",
   "execution_count": null,
   "metadata": {},
   "outputs": [],
   "source": [
    "epoch_loss = []\n",
    "checkpoint_epochs = 2\n",
    "filename = \"v3\""
   ]
  },
  {
   "cell_type": "code",
   "execution_count": null,
   "metadata": {},
   "outputs": [],
   "source": [
    "try: \n",
    "  pinn.train_pinn(epochs=epochs, \n",
    "                optimizer=optimizer, \n",
    "                wing_df=wing_df,\n",
    "                Nf=Nf, \n",
    "                N0=N0, \n",
    "                Nb=Nb, \n",
    "                Nw=Nw, \n",
    "                x_max=x_max, \n",
    "                y_max=y_max, \n",
    "                z_max=z_max, \n",
    "                t_max=t_max, \n",
    "                c1=c1, \n",
    "                c2=c2, \n",
    "                c3=c3, \n",
    "                c4=c4, \n",
    "                in_velocity=in_velocity,\n",
    "                mu=mu, \n",
    "                rho=rho, \n",
    "                device=device,\n",
    "                checkpoint_epochs=checkpoint_epochs, \n",
    "                models_out_dir=models_out_dir, \n",
    "                filename=filename, \n",
    "                log_out_dir=log_out_dir)\n",
    "\n",
    "except KeyboardInterrupt:\n",
    "    print(\"Training stopped by user.\")"
   ]
  },
  {
   "cell_type": "code",
   "execution_count": null,
   "metadata": {},
   "outputs": [],
   "source": [
    "pinn, optimizer = utils.load_checkpoint(pinn, optimizer, models_out_dir + filename + \"_\" + str(2) + \".pt\")\n",
    "# for param_group in optimizer.param_groups:\n",
    "#     param_group['lr'] = 0.01\n",
    "\n",
    "# for param_group in optimizer.param_groups:\n",
    "#   print(param_group['lr'])  # Should print the new learning rate"
   ]
  },
  {
   "cell_type": "code",
   "execution_count": null,
   "metadata": {},
   "outputs": [],
   "source": [
    "pinn.print_all_metrics()"
   ]
  }
 ],
 "metadata": {
  "kernelspec": {
   "display_name": "Python 3",
   "language": "python",
   "name": "python3"
  },
  "language_info": {
   "codemirror_mode": {
    "name": "ipython",
    "version": 3
   },
   "file_extension": ".py",
   "mimetype": "text/x-python",
   "name": "python",
   "nbconvert_exporter": "python",
   "pygments_lexer": "ipython3",
   "version": "3.9.6"
  },
  "orig_nbformat": 4
 },
 "nbformat": 4,
 "nbformat_minor": 2
}
