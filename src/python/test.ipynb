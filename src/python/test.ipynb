{
 "cells": [
  {
   "cell_type": "markdown",
   "metadata": {},
   "source": [
    "# Physics Informed Neural Networks <br> F1 Car Front Wing Aerodymanics"
   ]
  },
  {
   "cell_type": "markdown",
   "metadata": {},
   "source": [
    "## PINN"
   ]
  },
  {
   "cell_type": "code",
   "execution_count": null,
   "metadata": {},
   "outputs": [],
   "source": [
    "import numpy as np\n",
    "import pandas as pd\n",
    "import matplotlib.pyplot as plt\n",
    "import torch\n",
    "from pinn import PINN"
   ]
  },
  {
   "cell_type": "code",
   "execution_count": null,
   "metadata": {},
   "outputs": [],
   "source": [
    "in_filepath = \"/Users/ggito/repos/pinns/data/\"\n",
    "points_filename = \"front_wing_points_final.csv\"\n",
    "\n",
    "wing_df = pd.read_csv(in_filepath + points_filename)\n",
    "\n",
    "print(wing_df)"
   ]
  },
  {
   "cell_type": "code",
   "execution_count": null,
   "metadata": {},
   "outputs": [],
   "source": [
    "x_min, y_min, z_min = wing_df.min()\n",
    "x_max, y_max, z_max = wing_df.max()\n",
    "\n",
    "overall_min = min(x_min, y_min, z_min)\n",
    "overall_max = max(x_max, y_max, z_max)\n",
    "\n",
    "range = (overall_min, overall_max)\n",
    "print(range)"
   ]
  },
  {
   "cell_type": "code",
   "execution_count": null,
   "metadata": {},
   "outputs": [],
   "source": [
    "import plotly.express as px\n",
    "\n",
    "df = px.data.iris()\n",
    "fig = px.scatter_3d(wing_df, x='x', y='y', z='z')\n",
    "fig.update_traces(marker_size = 1)\n",
    "fig.update_traces(marker_color = 'purple')\n",
    "fig.update_layout(\n",
    "    scene = dict(\n",
    "        xaxis = dict(range=range),\n",
    "        yaxis = dict(range=range),\n",
    "        zaxis = dict(range=range)))\n",
    "\n",
    "fig.show()"
   ]
  },
  {
   "cell_type": "code",
   "execution_count": null,
   "metadata": {},
   "outputs": [],
   "source": [
    "out_filepath = \"/Users/ggito/repos/pinns/data/\"\n",
    "pinn = torch.load(out_filepath + 'pinn9.pt')\n",
    "pinn.eval()"
   ]
  },
  {
   "cell_type": "code",
   "execution_count": null,
   "metadata": {},
   "outputs": [],
   "source": [
    "x_max = 1\n",
    "y_max = 1\n",
    "z_max = 1\n",
    "t_max = 1\n",
    "\n",
    "Nx = 20\n",
    "Ny = 20\n",
    "Nz = 20\n",
    "Nt = 10\n",
    "\n",
    "dx = x_max / (Nx - 1)\n",
    "dy = y_max / (Ny - 1)\n",
    "dz = z_max / (Nz - 1)\n",
    "dt = t_max / (Nt - 1)\n",
    "\n",
    "x_test = np.linspace(0, x_max, Nx)\n",
    "y_test = np.linspace(0, y_max, Ny)\n",
    "z_test = np.linspace(0, z_max, Nz)\n",
    "t_test = np.full(Nt, 0)\n",
    "\n",
    "x_grid, y_grid, z_grid = np.meshgrid(x_test, y_test, z_test)"
   ]
  },
  {
   "cell_type": "code",
   "execution_count": null,
   "metadata": {},
   "outputs": [],
   "source": [
    "t_test"
   ]
  },
  {
   "cell_type": "code",
   "execution_count": null,
   "metadata": {},
   "outputs": [],
   "source": [
    "xyz_combinations = torch.cartesian_prod(torch.tensor(x_test, dtype=torch.float32), torch.tensor(y_test, dtype=torch.float32), torch.tensor(z_test, dtype=torch.float32))"
   ]
  },
  {
   "cell_type": "code",
   "execution_count": null,
   "metadata": {},
   "outputs": [],
   "source": [
    "num_of_points = xyz_combinations.shape[0]"
   ]
  },
  {
   "cell_type": "code",
   "execution_count": null,
   "metadata": {},
   "outputs": [],
   "source": [
    "t = torch.full((num_of_points, 1), 0.1)"
   ]
  },
  {
   "cell_type": "code",
   "execution_count": null,
   "metadata": {},
   "outputs": [],
   "source": [
    "xyzt_combinations = torch.cat((xyz_combinations, t), dim=1)"
   ]
  },
  {
   "cell_type": "code",
   "execution_count": null,
   "metadata": {},
   "outputs": [],
   "source": [
    "xyzt_combinations.shape"
   ]
  },
  {
   "cell_type": "code",
   "execution_count": null,
   "metadata": {},
   "outputs": [],
   "source": [
    "if torch.backends.mps.is_available():\n",
    "  device = torch.device(\"mps\")\n",
    "  x = torch.ones(1, device=device)\n",
    "  print(x)\n",
    "else:\n",
    "  print(\"MPS device not found.\")\n",
    "  device = \"cpu\""
   ]
  },
  {
   "cell_type": "code",
   "execution_count": null,
   "metadata": {},
   "outputs": [],
   "source": [
    "input = xyzt_combinations.to(device)"
   ]
  },
  {
   "cell_type": "code",
   "execution_count": null,
   "metadata": {},
   "outputs": [],
   "source": [
    "output = pinn(input)"
   ]
  },
  {
   "cell_type": "code",
   "execution_count": null,
   "metadata": {},
   "outputs": [],
   "source": [
    "output.shape"
   ]
  },
  {
   "cell_type": "code",
   "execution_count": null,
   "metadata": {},
   "outputs": [],
   "source": [
    "u_test = output[:, 0].to(\"cpu\").detach().numpy()\n",
    "v_test = output[:, 1].to(\"cpu\").detach().numpy()\n",
    "w_test = output[:, 2].to(\"cpu\").detach().numpy()\n",
    "p_test = output[:, 3].to(\"cpu\").detach().numpy()"
   ]
  },
  {
   "cell_type": "code",
   "execution_count": null,
   "metadata": {},
   "outputs": [],
   "source": [
    "velocity_norm = np.linalg.norm([u_test, v_test, w_test], axis=0)"
   ]
  },
  {
   "cell_type": "code",
   "execution_count": null,
   "metadata": {},
   "outputs": [],
   "source": [
    "velocity_norm.min()"
   ]
  },
  {
   "cell_type": "code",
   "execution_count": null,
   "metadata": {},
   "outputs": [],
   "source": [
    "import plotly.graph_objects as go\n",
    "import pandas as pd\n",
    "\n",
    "scatter = go.Scatter3d(\n",
    "    x=wing_df['x'],\n",
    "    y=wing_df['y'],\n",
    "    z=wing_df['z'],\n",
    "    mode='markers',\n",
    "    marker=dict(size=1, color='purple')\n",
    ")\n",
    "\n",
    "cone = go.Cone(\n",
    "    x=x_grid.flatten(),\n",
    "    y=y_grid.flatten(),\n",
    "    z=z_grid.flatten(),\n",
    "    u=u_test,\n",
    "    v=v_test,\n",
    "    w=w_test,\n",
    "    colorscale='Bluered',\n",
    "    cmin=velocity_norm.min(),\n",
    "    cmax=velocity_norm.max(),\n",
    "    colorbar_title='Velocity<br>Magnitude',\n",
    "    sizemode=\"absolute\",\n",
    "    sizeref=0.2\n",
    ")\n",
    "\n",
    "fig = go.Figure(data=[scatter, cone])\n",
    "\n",
    "fig.update_layout(\n",
    "    scene = dict(\n",
    "        xaxis = dict(range=range),\n",
    "        yaxis = dict(range=range),\n",
    "        zaxis = dict(range=range)))\n",
    "\n",
    "fig.show()"
   ]
  },
  {
   "cell_type": "markdown",
   "metadata": {},
   "source": []
  }
 ],
 "metadata": {
  "kernelspec": {
   "display_name": "Python 3",
   "language": "python",
   "name": "python3"
  },
  "language_info": {
   "codemirror_mode": {
    "name": "ipython",
    "version": 3
   },
   "file_extension": ".py",
   "mimetype": "text/x-python",
   "name": "python",
   "nbconvert_exporter": "python",
   "pygments_lexer": "ipython3",
   "version": "3.9.6"
  },
  "orig_nbformat": 4
 },
 "nbformat": 4,
 "nbformat_minor": 2
}
