{
 "cells": [
  {
   "cell_type": "code",
   "execution_count": null,
   "metadata": {},
   "outputs": [],
   "source": [
    "import deepxde as dde\n",
    "import numpy as np\n",
    "import tensorflow as tf\n",
    "from matplotlib import pyplot as plt\n",
    "from naca4digit_airfoil import Naca4DigitAirfoil\n",
    "# from navier_stokes_with_data import NavierStokesPDEs\n",
    "from navier_stokes import NavierStokesPDEs\n",
    "import utils\n",
    "import pandas as pd\n",
    "from scipy.interpolate import griddata"
   ]
  },
  {
   "cell_type": "code",
   "execution_count": null,
   "metadata": {},
   "outputs": [],
   "source": [
    "cfd_df = pd.read_csv('NACA2412.txt', delimiter=',')"
   ]
  },
  {
   "cell_type": "code",
   "execution_count": null,
   "metadata": {},
   "outputs": [],
   "source": [
    "x_min = -5\n",
    "x_max = 15\n",
    "y_min = -5\n",
    "y_max = 5"
   ]
  },
  {
   "cell_type": "code",
   "execution_count": null,
   "metadata": {},
   "outputs": [],
   "source": [
    "dde.config.set_random_seed(48)\n",
    "dde.config.set_default_float('float64')\n",
    "dde.config.set_parallel_scaling('strong')\n",
    "\n",
    "rho  = 1.225\n",
    "mu   = 1.789e-5\n",
    "# u_in  = 15\n",
    "u_inlet  = 1"
   ]
  },
  {
   "cell_type": "code",
   "execution_count": null,
   "metadata": {},
   "outputs": [],
   "source": [
    "rho, mu"
   ]
  },
  {
   "cell_type": "code",
   "execution_count": null,
   "metadata": {},
   "outputs": [],
   "source": [
    "L = 1\n",
    "airfoil = Naca4DigitAirfoil(c=L, P=4, T=12, a=0, offset_x=0, offset_y=0)"
   ]
  },
  {
   "cell_type": "code",
   "execution_count": null,
   "metadata": {},
   "outputs": [],
   "source": [
    "Re = rho * u_inlet * L / mu"
   ]
  },
  {
   "cell_type": "code",
   "execution_count": null,
   "metadata": {},
   "outputs": [],
   "source": [
    "# Geometry defintion\n",
    "farfield = dde.geometry.Rectangle([x_min, y_min], [x_max, y_max])\n",
    "airfoil_geom  = dde.geometry.Polygon(airfoil.get_boundary_points(250))\n",
    "geom     = dde.geometry.CSGDifference(farfield, airfoil_geom)\n",
    "\n",
    "inner_rec  = dde.geometry.Rectangle([-0.5, -0.5], [0.5, 0.5])\n",
    "inner_dom  = dde.geometry.CSGDifference(inner_rec, airfoil_geom)\n",
    "\n",
    "outer_dom  = dde.geometry.CSGDifference(farfield, inner_rec)\n",
    "outer_dom  = dde.geometry.CSGDifference(outer_dom, airfoil_geom)"
   ]
  },
  {
   "cell_type": "code",
   "execution_count": null,
   "metadata": {},
   "outputs": [],
   "source": [
    "# Nf1 = 2**15 # = 32768\n",
    "# Nf2 = 2**16 # = 65536\n",
    "# Nb  = 2**11 # = 2048\n",
    "Nf1 = 2**10\n",
    "Nf2 = 2**10\n",
    "Nb  = 2**10\n",
    "Ns  = 250\n",
    "\n",
    "random = \"Sobol\"\n",
    "inner_points = inner_dom.random_points(Nf1, random=random)\n",
    "outer_points = outer_dom.random_points(Nf2, random=random)\n",
    "\n",
    "farfield_points = farfield.random_boundary_points(Nb, random=random)\n",
    "airfoil_points  = airfoil.get_boundary_points(Ns)\n",
    "\n",
    "points = np.append(inner_points, outer_points, axis = 0)\n",
    "points = np.append(points, airfoil_points, axis = 0)"
   ]
  },
  {
   "cell_type": "code",
   "execution_count": null,
   "metadata": {},
   "outputs": [],
   "source": [
    "fig1, ax1 = plt.subplots(figsize = (16, 9))\n",
    "plt.axis('equal')\n",
    "plt.scatter(farfield_points[:, 0], farfield_points[:, 1], s = 0.5, c='#40798C')  # Ocean blue for farfield points\n",
    "plt.scatter(inner_points[:, 0], inner_points[:, 1], s = 0.5, c = '#F6AE2D')  # Sunflower yellow for inner points\n",
    "plt.scatter(outer_points[:, 0], outer_points[:, 1], s = 0.5, c = '#F6AE2D')  # Sunflower yellow for outer points\n",
    "plt.scatter(airfoil_points[:, 0], airfoil_points[:, 1], s = 0.5, c = '#E9897E')  # Sunset coral for airfoil points\n",
    "plt.fill(airfoil_points[:, 0], airfoil_points[:, 1])\n",
    "plt.xlim([x_min - 0.1, x_max + 0.1])\n",
    "plt.ylim([y_min - 0.1, y_max + 0.1])"
   ]
  },
  {
   "cell_type": "code",
   "execution_count": null,
   "metadata": {},
   "outputs": [],
   "source": [
    "X, Y = np.meshgrid(np.linspace(cfd_df['x'].min(), cfd_df['x'].max(), 1000),\n",
    "                             np.linspace(cfd_df['y'].min(), cfd_df['y'].max(), 1000))\n",
    "\n",
    "U = griddata((cfd_df['x'], cfd_df['y']), cfd_df['u'], (X, Y), method='linear')\n",
    "\n",
    "fig, ax = plt.subplots(figsize=(10, 6))\n",
    "\n",
    "clev = np.arange(U.min(), U.max(), 0.01)\n",
    "cp = ax.contourf(X, Y, U, clev, cmap='jet')\n",
    "fig.colorbar(cp, ax=ax)\n",
    "ax.set_xlabel('X')\n",
    "ax.set_ylabel('Y')\n",
    "ax.set_title('Velocity Field - X Component')\n",
    "airfoil.plot(ax)\n",
    "ax.set_xlim(x_min, x_max)\n",
    "ax.set_ylim(y_min, y_max)\n",
    "plt.show()"
   ]
  },
  {
   "cell_type": "code",
   "execution_count": null,
   "metadata": {},
   "outputs": [],
   "source": [
    "V = griddata((cfd_df['x'], cfd_df['y']), cfd_df['v'], (X, Y), method='linear')\n",
    "\n",
    "fig, ax = plt.subplots(figsize=(10, 6))\n",
    "\n",
    "clev = np.arange(V.min(), V.max(), 0.01)\n",
    "cp = ax.contourf(X, Y, V, clev, cmap='jet')\n",
    "fig.colorbar(cp, ax=ax)\n",
    "ax.set_xlabel('X')\n",
    "ax.set_ylabel('Y')\n",
    "ax.set_title('Velocity Field - Y Component')\n",
    "airfoil.plot(ax)\n",
    "ax.set_xlim(x_min, x_max)\n",
    "ax.set_ylim(y_min, y_max)\n",
    "plt.show()"
   ]
  },
  {
   "cell_type": "code",
   "execution_count": null,
   "metadata": {},
   "outputs": [],
   "source": [
    "P = griddata((cfd_df['x'], cfd_df['y']), cfd_df['p'], (X, Y), method='linear')\n",
    "\n",
    "fig, ax = plt.subplots(figsize=(10, 6))\n",
    "\n",
    "clev = np.arange(P.min(), P.max(), 1)\n",
    "cp = ax.contourf(X, Y, P, clev, cmap='jet')\n",
    "fig.colorbar(cp, ax=ax)\n",
    "ax.set_xlabel('X')\n",
    "ax.set_ylabel('Y')\n",
    "ax.set_title('Pressure Field')\n",
    "airfoil.plot(ax)\n",
    "ax.set_xlim(x_min, x_max)\n",
    "ax.set_ylim(y_min, y_max)\n",
    "plt.show()"
   ]
  },
  {
   "cell_type": "code",
   "execution_count": null,
   "metadata": {},
   "outputs": [],
   "source": [
    "# x_data = farfield_points[:, 0]\n",
    "# y_data = farfield_points[:, 1]\n",
    "\n",
    "# grid_points = cfd_df[['x', 'y']].values\n",
    "# u_values = cfd_df['u'].values / sf_uv\n",
    "# v_values = cfd_df['v'].values / sf_uv\n",
    "# p_values = cfd_df['p'].values\n",
    "\n",
    "# u_interp = griddata(grid_points, u_values, (x_data, y_data), method='linear')\n",
    "# v_interp = griddata(grid_points, v_values, (x_data, y_data), method='linear')\n",
    "# p_interp = griddata(grid_points, p_values, (x_data, y_data), method='linear')\n",
    "\n",
    "# uvp_data = np.vstack((u_interp, v_interp, p_interp)).T\n",
    "# # uv_data = np.vstack((u_interp, v_interp)).T\n",
    "\n",
    "# u_data = np.array([uvp_data[i][0] for i in range(len(uvp_data))])\n",
    "# v_data = np.array([uvp_data[i][1] for i in range(len(uvp_data))])\n",
    "# p_data = np.array([uvp_data[i][2] for i in range(len(uvp_data))])\n",
    "\n",
    "# # u_data = np.array([uv_data[i][0] for i in range(len(uv_data))])\n",
    "# # v_data = np.array([uv_data[i][1] for i in range(len(uv_data))])"
   ]
  },
  {
   "cell_type": "code",
   "execution_count": null,
   "metadata": {},
   "outputs": [],
   "source": [
    "# fig1, ax1 = plt.subplots(figsize = (16, 9))\n",
    "# plt.axis('equal')\n",
    "# scatter = plt.scatter(x_data, y_data, c=u_data, s=0.5, cmap='jet')\n",
    "# plt.colorbar(scatter)\n",
    "# plt.title('Velocity Field - X Component')\n",
    "# plt.scatter(airfoil_points[:, 0], airfoil_points[:, 1], s = 0.5, c = '#E9897E')  # Sunset coral for airfoil points\n",
    "# plt.fill(airfoil_points[:, 0], airfoil_points[:, 1])\n",
    "# plt.xlim([x_min_scaled - 0.1, x_max_scaled + 0.1])\n",
    "# plt.ylim([y_min_scaled - 0.1, y_max_scaled + 0.1])\n",
    "# plt.show()"
   ]
  },
  {
   "cell_type": "code",
   "execution_count": null,
   "metadata": {},
   "outputs": [],
   "source": [
    "# fig1, ax1 = plt.subplots(figsize = (16, 9))\n",
    "# plt.axis('equal')\n",
    "# scatter = plt.scatter(x_data, y_data, c=v_data, s=0.5, cmap='jet')\n",
    "# plt.colorbar(scatter)\n",
    "# plt.title('Velocity Field - Y Component')\n",
    "# plt.scatter(airfoil_points[:, 0], airfoil_points[:, 1], s = 0.5, c = '#E9897E')  # Sunset coral for airfoil points\n",
    "# plt.fill(airfoil_points[:, 0], airfoil_points[:, 1])\n",
    "# plt.xlim([x_min_scaled - 0.1, x_max_scaled + 0.1])\n",
    "# plt.ylim([y_min_scaled - 0.1, y_max_scaled + 0.1])\n",
    "# plt.show()"
   ]
  },
  {
   "cell_type": "code",
   "execution_count": null,
   "metadata": {},
   "outputs": [],
   "source": [
    "# fig1, ax1 = plt.subplots(figsize = (16, 9))\n",
    "# plt.axis('equal')\n",
    "# scatter = plt.scatter(x_data, y_data, c=p_data, s=0.5, cmap='jet')\n",
    "# plt.colorbar(scatter)\n",
    "# plt.title('Pressure Field')\n",
    "# plt.scatter(airfoil_points[:, 0], airfoil_points[:, 1], s = 0.5, c = '#E9897E')  # Sunset coral for airfoil points\n",
    "# plt.fill(airfoil_points[:, 0], airfoil_points[:, 1])\n",
    "# plt.xlim([x_min_scaled - 0.1, x_max_scaled + 0.1])\n",
    "# plt.ylim([y_min_scaled - 0.1, y_max_scaled + 0.1])\n",
    "# plt.show()"
   ]
  },
  {
   "cell_type": "code",
   "execution_count": null,
   "metadata": {},
   "outputs": [],
   "source": [
    "navier_stokes_pdes = NavierStokesPDEs(rho=rho, mu=mu,\n",
    "                                      xmin=x_min, xmax=x_max, ymin=y_min, ymax=y_max,\n",
    "                                      airfoil_geom=airfoil_geom, geom=geom,\n",
    "                                      u_inlet=u_inlet, v_farfield=0)\n",
    "\n",
    "pdes_fun = navier_stokes_pdes.get_pdes\n",
    "bcs = navier_stokes_pdes.get_bcs()"
   ]
  },
  {
   "cell_type": "code",
   "execution_count": null,
   "metadata": {},
   "outputs": [],
   "source": [
    "# Problem setup\n",
    "data = dde.data.PDE(geom, pdes_fun, bcs, num_domain = 0, num_boundary = 0, num_test = 5000, anchors = points)\n",
    "\n",
    "dde.config.set_default_float('float64')"
   ]
  },
  {
   "cell_type": "code",
   "execution_count": null,
   "metadata": {},
   "outputs": [],
   "source": [
    "plt.figure(figsize = (32, 18))\n",
    "plt.scatter(data.train_x_all[:,0], data.train_x_all[:,1], s = 0.3)\n",
    "plt.axis('equal')"
   ]
  },
  {
   "cell_type": "code",
   "execution_count": null,
   "metadata": {},
   "outputs": [],
   "source": [
    "# Neural network definition\n",
    "# layer_size  = [2] + [32] * 10 + [2]\n",
    "layer_size  = [2] + [32] * 10 + [3]\n",
    "# layer_size  = [2] + [32] * 10 + [5]\n",
    "# activation  = 'silu'\n",
    "activation  = 'tanh' \n",
    "# n           = 10\n",
    "# activation  = f\"LAAF-{n} tanh\"\n",
    "initializer = 'Glorot uniform'\n",
    "\n",
    "net = dde.nn.FNN(layer_size, activation, initializer)\n",
    "\n",
    "# Model definition\n",
    "model = dde.Model(data, net)"
   ]
  },
  {
   "cell_type": "code",
   "execution_count": null,
   "metadata": {},
   "outputs": [],
   "source": [
    "name_generator = utils.NameGenerator()\n",
    "model_name = name_generator.generate_name()\n",
    "model_name"
   ]
  },
  {
   "cell_type": "code",
   "execution_count": null,
   "metadata": {},
   "outputs": [],
   "source": [
    "# model.compile(optimizer = 'adam', lr = 5e-4, loss_weights=[1, 1, 1, 1, 1, 1, 2, 2, 2, 2, 2])\n",
    "model.compile(optimizer = 'adam', lr = 5e-4, loss_weights=[1, 1, 2, 2, 2, 2, 2])\n",
    "# model.compile(optimizer = 'adam', lr = 1e-3, loss_weights=[1, 1, 2, 2, 2, 2, 2])"
   ]
  },
  {
   "cell_type": "code",
   "execution_count": null,
   "metadata": {},
   "outputs": [],
   "source": [
    "try:\n",
    "  losshistory, train_state = model.train(epochs = 1000, display_every = 1, model_save_path = './' + model_name + '/')\n",
    "  dde.saveplot(losshistory, train_state, issave = True, isplot = True)\n",
    "\n",
    "except KeyboardInterrupt:\n",
    "  print(f\"Training stopped by user.\")\n",
    "  print(\"=======================================================\")"
   ]
  },
  {
   "cell_type": "code",
   "execution_count": null,
   "metadata": {},
   "outputs": [],
   "source": [
    "# model_name = 'AtmosElegantGalaxy375'\n",
    "# model.restore('./out/AtmosElegantGalaxy375/-20000.ckpt.index')"
   ]
  },
  {
   "cell_type": "code",
   "execution_count": null,
   "metadata": {},
   "outputs": [],
   "source": [
    "# Plotting tool: thanks to @q769855234 code snippet\n",
    "dx = 0.01\n",
    "dy = 0.01\n",
    "x = np.arange(x_min, x_max + dy, dx)\n",
    "y = np.arange(y_min, y_max + dy, dy)\n",
    "\n",
    "X = np.zeros((len(x)*len(y), 2))\n",
    "xs = np.vstack((x,)*len(y)).reshape(-1)\n",
    "ys = np.vstack((y,)*len(x)).T.reshape(-1)\n",
    "X[:, 0] = xs\n",
    "X[:, 1] = ys"
   ]
  },
  {
   "cell_type": "code",
   "execution_count": null,
   "metadata": {},
   "outputs": [],
   "source": [
    "# Model predictions generation\n",
    "u = model.predict(X, operator = navier_stokes_pdes.getU)\n",
    "v = model.predict(X, operator = navier_stokes_pdes.getV)\n",
    "p = model.predict(X, operator = navier_stokes_pdes.getP)\n",
    "\n",
    "for i in range(len(X)):\n",
    "   if airfoil_geom.inside(np.array([X[i]]))[0]:\n",
    "       u[i] = 0.0\n",
    "       v[i] = 0.0\n",
    "\n",
    "u = u.reshape(len(y), len(x))\n",
    "v = v.reshape(len(y), len(x))\n",
    "p = p.reshape(len(y), len(x))\n",
    "\n",
    "airfoil_plot = airfoil.get_boundary_points(150)\n",
    "\n",
    "fig2, ax2 = plt.subplots(figsize = (16, 9))\n",
    "ax2.streamplot(x, y, u, v, density = 1.5)\n",
    "clev = np.arange(u.min(), u.max(), 0.1)\n",
    "cnt2 = ax2.contourf(x, y, u, clev, cmap = plt.cm.jet, extend='both')\n",
    "plt.axis('equal')\n",
    "plt.fill(airfoil_plot[:, 0], airfoil_plot[:, 1])\n",
    "fig2.colorbar(cnt2)\n",
    "plt.savefig('./u.png')\n",
    "\n",
    "fig3, ax3 = plt.subplots(figsize = (16, 9))\n",
    "ax3.streamplot(x, y, u, v, density = 1.5)\n",
    "clev = np.arange(v.min(), v.max(), 0.01)\n",
    "cnt3 = ax3.contourf(x, y, v, clev, cmap = plt.cm.jet, extend='both')\n",
    "plt.axis('equal')\n",
    "plt.fill(airfoil_plot[:, 0], airfoil_plot[:, 1])\n",
    "fig3.colorbar(cnt3)\n",
    "plt.savefig('./v.png')\n",
    "\n",
    "fig1, ax1 = plt.subplots(figsize = (16, 9))\n",
    "#ax1.streamplot(x, y, u, v, density = 1.5)\n",
    "clev = np.arange(p.min(), p.max(), 1)\n",
    "cnt1 = ax1.contourf(x, y, p, clev, cmap = plt.cm.jet, extend='both')\n",
    "plt.axis('equal')\n",
    "plt.fill(airfoil_plot[:, 0], airfoil_plot[:, 1])\n",
    "fig1.colorbar(cnt1)\n",
    "plt.savefig('./p.png')"
   ]
  }
 ],
 "metadata": {
  "kernelspec": {
   "display_name": "Python 3",
   "language": "python",
   "name": "python3"
  },
  "language_info": {
   "codemirror_mode": {
    "name": "ipython",
    "version": 3
   },
   "file_extension": ".py",
   "mimetype": "text/x-python",
   "name": "python",
   "nbconvert_exporter": "python",
   "pygments_lexer": "ipython3",
   "version": "3.9.6"
  },
  "orig_nbformat": 4
 },
 "nbformat": 4,
 "nbformat_minor": 2
}
