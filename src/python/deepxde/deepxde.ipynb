{
 "cells": [
  {
   "cell_type": "code",
   "execution_count": null,
   "metadata": {},
   "outputs": [],
   "source": [
    "import deepxde as dde\n",
    "import numpy as np\n",
    "import tensorflow as tf\n",
    "from matplotlib import pyplot as plt\n",
    "from naca4digit_airfoil import Naca4DigitAirfoil\n",
    "from navier_stokes import NavierStokesPDEs"
   ]
  },
  {
   "cell_type": "code",
   "execution_count": null,
   "metadata": {},
   "outputs": [],
   "source": [
    "dde.config.set_random_seed(48)\n",
    "dde.config.set_default_float('float64')\n",
    "\n",
    "xmin, xmax = 0.0, 1.0\n",
    "ymin, ymax = 0.0, 0.7\n",
    "\n",
    "rho  = 1.0\n",
    "mu   = 0.02\n",
    "umax = 1.0"
   ]
  },
  {
   "cell_type": "code",
   "execution_count": null,
   "metadata": {},
   "outputs": [],
   "source": [
    "airfoil = Naca4DigitAirfoil(c=0.2, M=2, P=4, T=12, a=10, offset_x=0.20, offset_y=0.35)"
   ]
  },
  {
   "cell_type": "code",
   "execution_count": null,
   "metadata": {},
   "outputs": [],
   "source": [
    "# Geometry defintion\n",
    "farfield = dde.geometry.Rectangle([xmin, ymin], [xmax, ymax])\n",
    "# airfoil_boundary = boundaryNACA4D(0, 0, 12, 0.2, 250, 0.20, 0.35)\n",
    "airfoil_geom  = dde.geometry.Polygon(airfoil.get_boundary_points(250))\n",
    "geom     = dde.geometry.CSGDifference(farfield, airfoil_geom)\n",
    "\n",
    "inner_rec  = dde.geometry.Rectangle([0.15, 0.28], [0.28, 0.42])\n",
    "outer_dom  = dde.geometry.CSGDifference(farfield, inner_rec)\n",
    "outer_dom  = dde.geometry.CSGDifference(outer_dom, airfoil_geom)\n",
    "inner_dom  = dde.geometry.CSGDifference(inner_rec, airfoil_geom)\n",
    "\n",
    "inner_points = inner_dom.random_points(10000)\n",
    "outer_points = outer_dom.random_points(40000)\n",
    "\n",
    "farfield_points = farfield.random_boundary_points(1280)\n",
    "airfoil_points  = airfoil.get_boundary_points(250)\n",
    "\n",
    "points = np.append(inner_points, outer_points, axis = 0)\n",
    "points = np.append(points, farfield_points, axis = 0)\n",
    "points = np.append(points, airfoil_points, axis = 0)"
   ]
  },
  {
   "cell_type": "code",
   "execution_count": null,
   "metadata": {},
   "outputs": [],
   "source": [
    "fig1, ax1 = plt.subplots(figsize = (16, 9))\n",
    "plt.axis('equal')\n",
    "plt.scatter(farfield_points[:, 0], farfield_points[:, 1], s = 0.5, c='b')\n",
    "plt.scatter(inner_points[:, 0], inner_points[:, 1], s = 0.5, c = 'g')\n",
    "plt.scatter(outer_points[:, 0], outer_points[:, 1], s = 0.5, c = 'y')\n",
    "plt.scatter(airfoil_points[:, 0], airfoil_points[:, 1], s = 0.5, c = 'r')\n",
    "plt.fill(airfoil_points[:, 0], airfoil_points[:, 1])\n",
    "ax1.set_xlim([xmin, xmax])"
   ]
  },
  {
   "cell_type": "code",
   "execution_count": null,
   "metadata": {},
   "outputs": [],
   "source": [
    "navier_stokes_pdes = NavierStokesPDEs(rho=rho, mu=mu,\n",
    "                                      xmin=xmin, xmax=xmax, ymin=ymin, ymax=ymax,\n",
    "                                      u_farfield=umax, v_farfield=0.0, p_farfield=0.0,\n",
    "                                      airfoil_geom=airfoil_geom, geom=geom)\n",
    "\n",
    "pdes_fun = navier_stokes_pdes.get_pdes\n",
    "bcs = navier_stokes_pdes.get_bcs()"
   ]
  },
  {
   "cell_type": "code",
   "execution_count": null,
   "metadata": {},
   "outputs": [],
   "source": [
    "# Problem setup\n",
    "data = dde.data.PDE(geom, pdes_fun, bcs, num_domain = 0, num_boundary = 0, num_test = 5000, anchors = points)\n",
    "\n",
    "dde.config.set_default_float('float64')"
   ]
  },
  {
   "cell_type": "code",
   "execution_count": null,
   "metadata": {},
   "outputs": [],
   "source": [
    "plt.figure(figsize = (32, 18))\n",
    "plt.scatter(data.train_x_all[:,0], data.train_x_all[:,1], s = 0.3)\n",
    "plt.axis('equal')"
   ]
  },
  {
   "cell_type": "code",
   "execution_count": null,
   "metadata": {},
   "outputs": [],
   "source": [
    "# Neural network definition\n",
    "layer_size  = [2] + [40] * 8 + [5]\n",
    "activation  = 'tanh' \n",
    "initializer = 'Glorot uniform'\n",
    "\n",
    "net = dde.nn.FNN(layer_size, activation, initializer)\n",
    "\n",
    "# Model definition\n",
    "model = dde.Model(data, net)"
   ]
  },
  {
   "cell_type": "code",
   "execution_count": null,
   "metadata": {},
   "outputs": [],
   "source": [
    "model.compile(optimizer = 'adam', lr = 5e-4, loss_weights = [1, 1, 1, 1, 1, 1, 2, 2, 2, 2, 2, 2, 2]) # Giving more weight to bcs\n",
    "losshistory, train_state = model.train(epochs = 30000, display_every = 100, model_save_path = './')\n",
    "dde.saveplot(losshistory, train_state, issave = True, isplot = True)"
   ]
  },
  {
   "cell_type": "code",
   "execution_count": null,
   "metadata": {},
   "outputs": [],
   "source": [
    "# model.compile(optimizer = 'L-BFGS-B', loss_weights = [1, 1, 1, 1, 1, 1, 2, 2, 2, 2, 2, 2, 2])\n",
    "# model.train_step.optimizer_kwargs = {'options': {'maxcor': 50, \n",
    "#                                                    'ftol': 1.0 * np.finfo(float).eps, \n",
    "#                                                    'maxfun':  50000, \n",
    "#                                                    'maxiter': 50000, \n",
    "#                                                    'maxls': 50}}"
   ]
  },
  {
   "cell_type": "code",
   "execution_count": null,
   "metadata": {},
   "outputs": [],
   "source": [
    "losshistory, train_state = model.train(display_every = 1, model_save_path = './')\n",
    "dde.saveplot(losshistory, train_state, issave = True, isplot = True)"
   ]
  },
  {
   "cell_type": "code",
   "execution_count": null,
   "metadata": {},
   "outputs": [],
   "source": [
    "# Plotting tool: thanks to @q769855234 code snippet\n",
    "dx = 0.01\n",
    "dy = 0.01\n",
    "x = np.arange(xmin, xmax + dy, dx)\n",
    "y = np.arange(ymin, ymax + dy, dy)\n",
    "\n",
    "X = np.zeros((len(x)*len(y), 2))\n",
    "xs = np.vstack((x,)*len(y)).reshape(-1)\n",
    "ys = np.vstack((y,)*len(x)).T.reshape(-1)\n",
    "X[:, 0] = xs\n",
    "X[:, 1] = ys"
   ]
  },
  {
   "cell_type": "code",
   "execution_count": null,
   "metadata": {},
   "outputs": [],
   "source": [
    "# Model predictions generation\n",
    "u = model.predict(X, operator = navier_stokes_pdes.getU)\n",
    "v = model.predict(X, operator = navier_stokes_pdes.getV)\n",
    "p = model.predict(X, operator = navier_stokes_pdes.getP)\n",
    "\n",
    "for i in range(len(X)):\n",
    "   if airfoil.inside(np.array([X[i]]))[0]:\n",
    "       u[i] = 0.0\n",
    "       v[i] = 0.0\n",
    "\n",
    "u = u.reshape(len(y), len(x))\n",
    "v = v.reshape(len(y), len(x))\n",
    "p = p.reshape(len(y), len(x))\n",
    "\n",
    "airfoil_plot = airfoil.get_boundary_points(150)\n",
    "\n",
    "fig1, ax1 = plt.subplots(figsize = (16, 9))\n",
    "#ax1.streamplot(x, y, u, v, density = 1.5)\n",
    "clev = np.arange(p.min(), 2, 0.001)\n",
    "cnt1 = ax1.contourf(x, y, p, clev, cmap = plt.cm.jet, extend='both')\n",
    "plt.axis('equal')\n",
    "plt.fill(airfoil_plot[:, 0], airfoil_plot[:, 1])\n",
    "fig1.colorbar(cnt1)\n",
    "plt.savefig('NACA0012NS0.png')\n",
    "\n",
    "fig2, ax2 = plt.subplots(figsize = (16, 9))\n",
    "ax2.streamplot(x, y, u, v, density = 1.5)\n",
    "clev = np.arange(0, u.max(), 0.001)\n",
    "cnt2 = ax2.contourf(x, y, u, clev, cmap = plt.cm.jet, extend='both')\n",
    "plt.axis('equal')\n",
    "plt.fill(airfoil_plot[:, 0], airfoil_plot[:, 1])\n",
    "fig2.colorbar(cnt2)\n",
    "plt.savefig('NACA0012NS1.png')\n",
    "\n",
    "fig3, ax3 = plt.subplots(figsize = (16, 9))\n",
    "ax3.streamplot(x, y, u, v, density = 1.5)\n",
    "clev = np.arange(-0.235, v.max(), 0.001)\n",
    "cnt3 = ax3.contourf(x, y, v, clev, cmap = plt.cm.jet, extend='both')\n",
    "plt.axis('equal')\n",
    "plt.fill(airfoil_plot[:, 0], airfoil_plot[:, 1])\n",
    "fig3.colorbar(cnt3)\n",
    "plt.savefig('NACA0012NS2.png')"
   ]
  }
 ],
 "metadata": {
  "kernelspec": {
   "display_name": "Python 3",
   "language": "python",
   "name": "python3"
  },
  "language_info": {
   "codemirror_mode": {
    "name": "ipython",
    "version": 3
   },
   "file_extension": ".py",
   "mimetype": "text/x-python",
   "name": "python",
   "nbconvert_exporter": "python",
   "pygments_lexer": "ipython3",
   "version": "3.9.6"
  },
  "orig_nbformat": 4
 },
 "nbformat": 4,
 "nbformat_minor": 2
}
