{
 "cells": [
  {
   "cell_type": "code",
   "execution_count": null,
   "metadata": {},
   "outputs": [],
   "source": [
    "import deepxde as dde\n",
    "import numpy as np\n",
    "import tensorflow as tf\n",
    "from matplotlib import pyplot as plt\n",
    "from mpl_toolkits.axes_grid1.inset_locator import inset_axes\n",
    "from naca4digit_airfoil import Naca4DigitAirfoil\n",
    "from navier_stokes import NavierStokesPDEs\n",
    "import utils\n",
    "import pandas as pd\n",
    "from scipy.interpolate import griddata"
   ]
  },
  {
   "cell_type": "code",
   "execution_count": null,
   "metadata": {},
   "outputs": [],
   "source": [
    "cfd_df = pd.read_csv('cfd_data.csv', delimiter=',')"
   ]
  },
  {
   "cell_type": "code",
   "execution_count": null,
   "metadata": {},
   "outputs": [],
   "source": [
    "x_min_init = -0.25\n",
    "x_max_init = 0.75\n",
    "y_min_init = -0.25\n",
    "y_max_init = 0.25\n",
    "\n",
    "x_min = -0.05\n",
    "x_max = 0.15\n",
    "y_min = -0.05\n",
    "y_max = 0.05"
   ]
  },
  {
   "cell_type": "code",
   "execution_count": null,
   "metadata": {},
   "outputs": [],
   "source": [
    "def set_domain_lims(ax):\n",
    "    ax.set_xlim(x_min, x_max)\n",
    "    ax.set_ylim(y_min, y_max)\n",
    "\n",
    "def set_zoomed_domain_lims(ax):\n",
    "    ax.set_xlim(x_min/2, x_max/2)\n",
    "    ax.set_ylim(y_min/2, y_max/2)\n",
    "\n",
    "def set_labels(ax):\n",
    "    ax.set_xlabel('$x$')\n",
    "    ax.set_ylabel('$y$')"
   ]
  },
  {
   "cell_type": "code",
   "execution_count": null,
   "metadata": {},
   "outputs": [],
   "source": [
    "dde.config.set_random_seed(48)\n",
    "dde.config.set_default_float('float64')\n",
    "dde.config.set_parallel_scaling('strong')"
   ]
  },
  {
   "cell_type": "code",
   "execution_count": null,
   "metadata": {},
   "outputs": [],
   "source": [
    "rho  = 1.225\n",
    "# mu   = 1.789e-5\n",
    "mu   = 0.0002\n",
    "# u_in  = 15\n",
    "u_inlet  = 0.75\n",
    "L = 0.05\n",
    "\n",
    "Re = rho * u_inlet * L / mu"
   ]
  },
  {
   "cell_type": "code",
   "execution_count": null,
   "metadata": {},
   "outputs": [],
   "source": [
    "rho, mu, u_inlet, L, Re"
   ]
  },
  {
   "cell_type": "code",
   "execution_count": null,
   "metadata": {},
   "outputs": [],
   "source": [
    "airfoil = Naca4DigitAirfoil(c=L, M=2, P=4, T=12, a=0, offset_x=0, offset_y=0)"
   ]
  },
  {
   "cell_type": "code",
   "execution_count": null,
   "metadata": {},
   "outputs": [],
   "source": [
    "# Geometry defintion\n",
    "farfield = dde.geometry.Rectangle([x_min, y_min], [x_max, y_max])\n",
    "airfoil_geom  = dde.geometry.Polygon(airfoil.get_boundary_points(250))\n",
    "geom     = dde.geometry.CSGDifference(farfield, airfoil_geom)\n",
    "\n",
    "inner_rec  = dde.geometry.Rectangle([-0.01, -0.01], [0.01, 0.01])\n",
    "inner_dom  = dde.geometry.CSGDifference(inner_rec, airfoil_geom)\n",
    "\n",
    "mid_rec  = dde.geometry.Rectangle([-0.03, -0.02], [0.075, 0.02])\n",
    "mid_dom  = dde.geometry.CSGDifference(mid_rec, inner_rec)\n",
    "mid_dom  = dde.geometry.CSGDifference(mid_dom, airfoil_geom)\n",
    "\n",
    "outer_dom  = dde.geometry.CSGDifference(farfield, inner_rec)\n",
    "outer_dom  = dde.geometry.CSGDifference(outer_dom, mid_rec)\n",
    "outer_dom  = dde.geometry.CSGDifference(outer_dom, airfoil_geom)"
   ]
  },
  {
   "cell_type": "code",
   "execution_count": null,
   "metadata": {},
   "outputs": [],
   "source": [
    "Nf1 = 2**14 # = 16384\n",
    "Nf2 = 2**14 # = 16384\n",
    "Nf3 = 2**16 # = 65536\n",
    "Nb  = 2**11 # = 2048\n",
    "Ns  = 250\n",
    "\n",
    "random = \"Sobol\"\n",
    "inner_points = inner_dom.random_points(Nf1, random=random)\n",
    "mid_points = mid_dom.random_points(Nf2, random=random)\n",
    "outer_points = outer_dom.random_points(Nf3, random=random)\n",
    "\n",
    "farfield_points = farfield.random_boundary_points(Nb, random=random)\n",
    "airfoil_points  = airfoil.get_boundary_points(Ns)\n",
    "\n",
    "static_points = np.append(inner_points, mid_points, axis = 0)\n",
    "static_points = np.append(static_points, airfoil_points, axis = 0)\n"
   ]
  },
  {
   "cell_type": "code",
   "execution_count": null,
   "metadata": {},
   "outputs": [],
   "source": [
    "fig, ax = plt.subplots(figsize=(18, 10))\n",
    "set_labels(ax)\n",
    "ax.set_title('Sampled Training Points')\n",
    "ax.scatter(inner_points[:, 0], inner_points[:, 1], s = 0.1, c = '#76c68f', label = 'Inner domain collocation points ($N_{f_1}$)')\n",
    "ax.scatter(mid_points[:, 0], mid_points[:, 1], s = 0.1, c = '#3498db', label = 'Mid domain collocation points ($N_{f_2}$)')\n",
    "ax.scatter(outer_points[:, 0], outer_points[:, 1], s = 0.1, c = '#d4ac0d', label = 'Outer domain collocation points ($N_{f_3})$')\n",
    "ax.scatter(airfoil_points[:, 0], airfoil_points[:, 1], s = 0.1, c = '#f1948a', label = 'Airfoil boundary points ($N_s$)')\n",
    "ax.scatter(farfield_points[:, 0], farfield_points[:, 1], s = 0.1, c='#9b59b6', label = 'CFD data points ($N_u$)')\n",
    "# ax.fill(airfoil_points[:, 0], airfoil_points[:, 1])\n",
    "ax.grid(False)\n",
    "legend = ax.legend(loc = 'upper right')\n",
    "for legend_handle in legend.legendHandles:\n",
    "    legend_handle._sizes = [30]  # Adjusting the size of the markers in the legend\n",
    "plt.savefig('hybrid_sampling1.png', dpi=300)\n",
    "plt.show()"
   ]
  },
  {
   "cell_type": "code",
   "execution_count": null,
   "metadata": {},
   "outputs": [],
   "source": [
    "# X, Y = np.meshgrid(np.linspace(cfd_df['x'].min(), cfd_df['x'].max(), 1000),\n",
    "#                              np.linspace(cfd_df['y'].min(), cfd_df['y'].max(), 1000))\n",
    "\n",
    "# U = griddata((cfd_df['x'], cfd_df['y']), cfd_df['u'], (X, Y), method='linear')\n",
    "\n",
    "# fig, ax = plt.subplots(figsize=(10, 6))\n",
    "\n",
    "# clev = np.arange(U.min(), U.max(), 0.01)\n",
    "# cp = ax.contourf(X, Y, U, clev, cmap='jet')\n",
    "# fig.colorbar(cp, ax=ax)\n",
    "# ax.set_xlabel('X')\n",
    "# ax.set_ylabel('Y')\n",
    "# ax.set_title('Velocity Field - X Component')\n",
    "# airfoil.plot(ax)\n",
    "# ax.set_xlim(x_min, x_max)\n",
    "# ax.set_ylim(y_min, y_max)\n",
    "# plt.show()"
   ]
  },
  {
   "cell_type": "code",
   "execution_count": null,
   "metadata": {},
   "outputs": [],
   "source": [
    "# V = griddata((cfd_df['x'], cfd_df['y']), cfd_df['v'], (X, Y), method='linear')\n",
    "\n",
    "# fig, ax = plt.subplots(figsize=(10, 6))\n",
    "\n",
    "# clev = np.arange(V.min(), V.max(), 0.01)\n",
    "# cp = ax.contourf(X, Y, V, clev, cmap='jet')\n",
    "# fig.colorbar(cp, ax=ax)\n",
    "# ax.set_xlabel('X')\n",
    "# ax.set_ylabel('Y')\n",
    "# ax.set_title('Velocity Field - Y Component')\n",
    "# airfoil.plot(ax)\n",
    "# ax.set_xlim(x_min, x_max)\n",
    "# ax.set_ylim(y_min, y_max)\n",
    "# plt.show()"
   ]
  },
  {
   "cell_type": "code",
   "execution_count": null,
   "metadata": {},
   "outputs": [],
   "source": [
    "# P = griddata((cfd_df['x'], cfd_df['y']), cfd_df['p'], (X, Y), method='linear')\n",
    "\n",
    "# fig, ax = plt.subplots(figsize=(10, 6))\n",
    "\n",
    "# clev = np.arange(P.min(), P.max(), 1)\n",
    "# cp = ax.contourf(X, Y, P, clev, cmap='jet')\n",
    "# fig.colorbar(cp, ax=ax)\n",
    "# ax.set_xlabel('X')\n",
    "# ax.set_ylabel('Y')\n",
    "# ax.set_title('Pressure Field')\n",
    "# airfoil.plot(ax)\n",
    "# ax.set_xlim(x_min, x_max)\n",
    "# ax.set_ylim(y_min, y_max)\n",
    "# plt.show()"
   ]
  },
  {
   "cell_type": "code",
   "execution_count": null,
   "metadata": {},
   "outputs": [],
   "source": [
    "x_data = farfield_points[:, 0]\n",
    "y_data = farfield_points[:, 1]\n",
    "\n",
    "grid_points = cfd_df[['x', 'y']].values\n",
    "u_values = cfd_df['u'].values\n",
    "v_values = cfd_df['v'].values\n",
    "p_values = cfd_df['p'].values\n",
    "\n",
    "u_interp = griddata(grid_points, u_values, (x_data, y_data), method='linear')\n",
    "v_interp = griddata(grid_points, v_values, (x_data, y_data), method='linear')\n",
    "p_interp = griddata(grid_points, p_values, (x_data, y_data), method='linear')\n",
    "\n",
    "uvp_data = np.vstack((u_interp, v_interp, p_interp)).T\n",
    "u_data = np.array([uvp_data[i][0] for i in range(len(uvp_data))])\n",
    "v_data = np.array([uvp_data[i][1] for i in range(len(uvp_data))])\n",
    "p_data = np.array([uvp_data[i][2] for i in range(len(uvp_data))])"
   ]
  },
  {
   "cell_type": "code",
   "execution_count": null,
   "metadata": {},
   "outputs": [],
   "source": [
    "fig, ax = plt.subplots(figsize=(18, 10))\n",
    "plt.axis('equal')\n",
    "scatter = plt.scatter(x_data, y_data, c=u_data, s=2, cmap='jet')\n",
    "set_labels(ax)\n",
    "plt.colorbar(scatter, ax=ax, label='Velocity')\n",
    "plt.title('CFD Solver Boundary Data, Velocity Field - X Component')\n",
    "airfoil.plot(ax)\n",
    "plt.xlim([x_min - 0.01, x_max + 0.01])\n",
    "plt.ylim([y_min - 0.01, y_max + 0.01])\n",
    "ax.grid(False)\n",
    "plt.savefig('u_boundary_cfd.png', dpi=300)\n",
    "plt.show()"
   ]
  },
  {
   "cell_type": "code",
   "execution_count": null,
   "metadata": {},
   "outputs": [],
   "source": [
    "fig, ax = plt.subplots(figsize=(18, 10))\n",
    "plt.axis('equal')\n",
    "scatter = plt.scatter(x_data, y_data, c=v_data, s=2, cmap='jet')\n",
    "set_labels(ax)\n",
    "plt.colorbar(scatter, ax=ax, label='Velocity')\n",
    "plt.title('CFD Solver Boundary Data, Velocity Field - Y Component')\n",
    "airfoil.plot(ax)\n",
    "plt.xlim([x_min - 0.01, x_max + 0.01])\n",
    "plt.ylim([y_min - 0.01, y_max + 0.01])\n",
    "ax.grid(False)\n",
    "plt.savefig('v_boundary_cfd.png', dpi=300)\n",
    "plt.show()"
   ]
  },
  {
   "cell_type": "code",
   "execution_count": null,
   "metadata": {},
   "outputs": [],
   "source": [
    "fig, ax = plt.subplots(figsize=(18, 10))\n",
    "plt.axis('equal')\n",
    "scatter = plt.scatter(x_data, y_data, c=p_data, s=2, cmap='jet')\n",
    "set_labels(ax)\n",
    "plt.colorbar(scatter, ax=ax, label='Velocity')\n",
    "plt.title('CFD Solver Boundary Data, Pressure Field')\n",
    "airfoil.plot(ax)\n",
    "plt.xlim([x_min - 0.01, x_max + 0.01])\n",
    "plt.ylim([y_min - 0.01, y_max + 0.01])\n",
    "ax.grid(False)\n",
    "plt.savefig('p_boundary_cfd.png', dpi=300)\n",
    "plt.show()"
   ]
  },
  {
   "cell_type": "code",
   "execution_count": null,
   "metadata": {},
   "outputs": [],
   "source": [
    "navier_stokes_pdes = NavierStokesPDEs(rho=rho, mu=mu,\n",
    "                                      xmin=x_min, xmax=x_max, ymin=y_min, ymax=y_max,\n",
    "                                      airfoil_geom=airfoil_geom, geom=geom,\n",
    "                                      x_data=x_data, y_data=y_data, u_data=u_data, v_data=v_data, p_data=p_data)\n",
    "\n",
    "pdes_fun = navier_stokes_pdes.get_pdes\n",
    "bcs = navier_stokes_pdes.get_bcs_with_data()"
   ]
  },
  {
   "cell_type": "code",
   "execution_count": null,
   "metadata": {},
   "outputs": [],
   "source": [
    "# Problem setup\n",
    "data = dde.data.PDE(geom, pdes_fun, bcs, num_domain = Nf3, num_boundary = 0, num_test = 1000, anchors = static_points, train_distribution = \"Hammersley\")"
   ]
  },
  {
   "cell_type": "code",
   "execution_count": null,
   "metadata": {},
   "outputs": [],
   "source": [
    "fig, ax = plt.subplots(figsize=(18, 10))\n",
    "set_labels(ax)\n",
    "ax.set_title('Sampled Training Points')\n",
    "ax.scatter(data.train_x[:,0], data.train_x[:,1], s = 0.1)\n",
    "ax.grid(False)\n",
    "plt.savefig('hybrid_sampling2.png', dpi=300)\n",
    "plt.show()"
   ]
  },
  {
   "cell_type": "code",
   "execution_count": null,
   "metadata": {},
   "outputs": [],
   "source": [
    "# Neural network definition\n",
    "layer_size  = [2] + [50] * 10 + [5]\n",
    "activation  = 'tanh'\n",
    "initializer = 'Glorot uniform'\n",
    "\n",
    "net = dde.nn.FNN(layer_size, activation, initializer)\n",
    "\n",
    "# Model definition\n",
    "model = dde.Model(data, net)"
   ]
  },
  {
   "cell_type": "code",
   "execution_count": null,
   "metadata": {},
   "outputs": [],
   "source": [
    "name_generator = utils.NameGenerator()\n",
    "model_name = name_generator.generate_name()\n",
    "model_name"
   ]
  },
  {
   "cell_type": "code",
   "execution_count": null,
   "metadata": {},
   "outputs": [],
   "source": [
    "model.compile(optimizer = 'adam', lr = 5e-4, loss_weights=[1, 1, 1, 1, 1, 1, 2, 2, 2, 2, 2])"
   ]
  },
  {
   "cell_type": "code",
   "execution_count": null,
   "metadata": {},
   "outputs": [],
   "source": [
    "resampler = dde.callbacks.PDEPointResampler(period = 100, pde_points=True, bc_points=False)"
   ]
  },
  {
   "cell_type": "code",
   "execution_count": null,
   "metadata": {},
   "outputs": [],
   "source": [
    "try:\n",
    "  losshistory, train_state = model.train(epochs = 1000, display_every = 50, callbacks=[resampler], model_save_path = './' + model_name + '/')\n",
    "  dde.saveplot(losshistory, train_state, issave = True, isplot = True)\n",
    "\n",
    "except KeyboardInterrupt:\n",
    "  print(f\"Training stopped by user.\")\n",
    "  print(\"=======================================================\")"
   ]
  },
  {
   "cell_type": "code",
   "execution_count": null,
   "metadata": {},
   "outputs": [],
   "source": [
    "# model_name = 'AtmosElegantGalaxy375'\n",
    "# model.restore('./out/AtmosElegantGalaxy375/-20000.ckpt.index')"
   ]
  },
  {
   "cell_type": "code",
   "execution_count": null,
   "metadata": {},
   "outputs": [],
   "source": [
    "# Plotting tool: thanks to @q769855234 code snippet\n",
    "dx = 0.025\n",
    "dy = 0.025\n",
    "x = np.arange(x_min, x_max + dy, dx)\n",
    "y = np.arange(y_min, y_max + dy, dy)\n",
    "\n",
    "X = np.zeros((len(x)*len(y), 2))\n",
    "xs = np.vstack((x,)*len(y)).reshape(-1)\n",
    "ys = np.vstack((y,)*len(x)).T.reshape(-1)\n",
    "X[:, 0] = xs\n",
    "X[:, 1] = ys"
   ]
  },
  {
   "cell_type": "code",
   "execution_count": null,
   "metadata": {},
   "outputs": [],
   "source": [
    "# Model predictions generation\n",
    "u = model.predict(X, operator = navier_stokes_pdes.getU)\n",
    "v = model.predict(X, operator = navier_stokes_pdes.getV)\n",
    "p = model.predict(X, operator = navier_stokes_pdes.getP)\n",
    "\n",
    "for i in range(len(X)):\n",
    "   if airfoil_geom.inside(np.array([X[i]]))[0]:\n",
    "       u[i] = 0.0\n",
    "       v[i] = 0.0\n",
    "\n",
    "u = u.reshape(len(y), len(x))\n",
    "v = v.reshape(len(y), len(x))\n",
    "p = p.reshape(len(y), len(x))\n",
    "\n",
    "airfoil_plot = airfoil.get_boundary_points(150)\n",
    "\n",
    "fig1, ax1 = plt.subplots(figsize = (16, 9))\n",
    "ax1.streamplot(x, y, u, v, density = 1.5)\n",
    "clev = np.arange(u.min(), u.max(), 0.001)\n",
    "cnt1 = ax1.contourf(x, y, u, clev, cmap = plt.cm.jet, extend='both')\n",
    "plt.axis('equal')\n",
    "plt.fill(airfoil_plot[:, 0], airfoil_plot[:, 1])\n",
    "fig1.colorbar(cnt1)\n",
    "plt.savefig('./u.png')\n",
    "\n",
    "fig2, ax2 = plt.subplots(figsize = (16, 9))\n",
    "ax2.streamplot(x, y, u, v, density = 1.5)\n",
    "clev = np.arange(v.min(), v.max(), 0.00001)\n",
    "cnt2 = ax2.contourf(x, y, v, clev, cmap = plt.cm.jet, extend='both')\n",
    "plt.axis('equal')\n",
    "plt.fill(airfoil_plot[:, 0], airfoil_plot[:, 1])\n",
    "fig2.colorbar(cnt2)\n",
    "plt.savefig('./v.png')\n",
    "\n",
    "fig3, ax3 = plt.subplots(figsize = (16, 9))\n",
    "clev = np.arange(p.min(), p.max(), 0.0001)\n",
    "cnt3 = ax3.contourf(x, y, p, clev, cmap = plt.cm.jet, extend='both')\n",
    "plt.axis('equal')\n",
    "plt.fill(airfoil_plot[:, 0], airfoil_plot[:, 1])\n",
    "fig3.colorbar(cnt3)\n",
    "plt.savefig('./p.png')"
   ]
  }
 ],
 "metadata": {
  "kernelspec": {
   "display_name": "Python 3",
   "language": "python",
   "name": "python3"
  },
  "language_info": {
   "codemirror_mode": {
    "name": "ipython",
    "version": 3
   },
   "file_extension": ".py",
   "mimetype": "text/x-python",
   "name": "python",
   "nbconvert_exporter": "python",
   "pygments_lexer": "ipython3",
   "version": "3.9.6"
  },
  "orig_nbformat": 4
 },
 "nbformat": 4,
 "nbformat_minor": 2
}
