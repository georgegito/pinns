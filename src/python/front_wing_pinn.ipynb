{
 "cells": [
  {
   "cell_type": "markdown",
   "metadata": {},
   "source": [
    "# Physics Informed Neural Networks <br> F1 Car Front Wing Aerodymanics"
   ]
  },
  {
   "cell_type": "markdown",
   "metadata": {},
   "source": [
    "## PINN"
   ]
  },
  {
   "cell_type": "code",
   "execution_count": 1,
   "metadata": {},
   "outputs": [],
   "source": [
    "import numpy as np\n",
    "import pandas as pd\n",
    "import matplotlib.pyplot as plt\n",
    "import torch\n",
    "import csv\n",
    "from pinn import PINN"
   ]
  },
  {
   "cell_type": "code",
   "execution_count": 2,
   "metadata": {},
   "outputs": [
    {
     "name": "stdout",
     "output_type": "stream",
     "text": [
      "              x         y         z\n",
      "0      0.440148  0.073950  0.103123\n",
      "1      0.713695  0.209429  0.055195\n",
      "2      0.451790  0.021569  0.052462\n",
      "3      0.032607  0.154912  0.108069\n",
      "4      0.750952  0.139930  0.113273\n",
      "...         ...       ...       ...\n",
      "19995  0.913177  0.282509  0.051195\n",
      "19996  0.115440  0.221203  0.028832\n",
      "19997  0.453917  0.034118  0.052462\n",
      "19998  0.556022  0.063779  0.101915\n",
      "19999  0.030382  0.130567  0.011402\n",
      "\n",
      "[20000 rows x 3 columns]\n",
      "              x         y         z\n",
      "0     -1.000000 -0.000293 -0.000429\n",
      "1     -0.283259 -0.649111 -0.705988\n",
      "2      0.000000  0.000000 -1.000000\n",
      "3     -0.974604  0.223384  0.015692\n",
      "4     -0.325352 -0.933390  0.151428\n",
      "...         ...       ...       ...\n",
      "19995 -0.018169 -0.132277  0.991046\n",
      "19996 -0.991501 -0.031098 -0.126326\n",
      "19997  0.000000  0.000000 -1.000000\n",
      "19998  1.000000 -0.000293 -0.000429\n",
      "19999 -0.730616  0.157085 -0.664473\n",
      "\n",
      "[20000 rows x 3 columns]\n"
     ]
    }
   ],
   "source": [
    "in_filepath = \"/Users/ggito/repos/pinns/data/\"\n",
    "points_filename = \"front_wing_points_final.csv\"\n",
    "norms_filename = \"front_wing_norms_final.csv\"\n",
    "\n",
    "wing_df = pd.read_csv(in_filepath + points_filename)\n",
    "norm_df = pd.read_csv(in_filepath + norms_filename)\n",
    "\n",
    "print(wing_df)\n",
    "print(norm_df)"
   ]
  },
  {
   "cell_type": "code",
   "execution_count": 3,
   "metadata": {},
   "outputs": [],
   "source": [
    "x_max = 1\n",
    "y_max = 1\n",
    "z_max = 1\n",
    "t_max = 1\n",
    "\n",
    "Nx = 10\n",
    "Ny = 10\n",
    "Nz = 10\n",
    "Nt = 10\n",
    "\n",
    "dx = x_max / (Nx - 1)\n",
    "dy = y_max / (Ny - 1)\n",
    "dz = z_max / (Nz - 1)\n",
    "dt = t_max / (Nt - 1)\n",
    "\n",
    "x_test = np.linspace(0, x_max, Nx)\n",
    "y_test = np.linspace(0, y_max, Ny)\n",
    "z_test = np.linspace(0, z_max, Nz)\n",
    "t_test = np.linspace(0, t_max, Nt)\n",
    "\n",
    "x_grid, y_grid, z_gripd, t_grid = np.meshgrid(x_test, y_test, z_test, t_test)"
   ]
  },
  {
   "cell_type": "code",
   "execution_count": 4,
   "metadata": {},
   "outputs": [
    {
     "name": "stdout",
     "output_type": "stream",
     "text": [
      "tensor([1.], device='mps:0')\n"
     ]
    }
   ],
   "source": [
    "input_dim = 4\n",
    "output_dim = 4\n",
    "# hidden_units = [32, 32, 32]\n",
    "# hidden_units = [64, 64, 64, 64]\n",
    "# hidden_units = [128, 128, 128, 128]\n",
    "# hidden_units = [256, 256, 256, 256]\n",
    "# hidden_units = [512, 512]\n",
    "hidden_units = [1024, 1024, 1024]\n",
    "# hidden_units = [20, 40, 80, 100, 100, 80, 40, 20]\n",
    "\n",
    "if torch.backends.mps.is_available():\n",
    "  device = torch.device(\"mps\")\n",
    "  x = torch.ones(1, device=device)\n",
    "  print(x)\n",
    "else:\n",
    "  print(\"MPS device not found.\")\n",
    "  device = \"cpu\"\n",
    "\n",
    "# device = \"cpu\"\n",
    "\n",
    "pinn = PINN(input_dim, output_dim, hidden_units).to(device)"
   ]
  },
  {
   "cell_type": "code",
   "execution_count": 5,
   "metadata": {},
   "outputs": [],
   "source": [
    "# optimizer = torch.optim.Adam(pinn.parameters(), lr=0.001)\n",
    "optimizer = torch.optim.LBFGS(pinn.parameters())\n",
    "\n",
    "epochs = 1000\n",
    "Nf = Nx   # num of collocation points -> pde evaluation -> Nf^4... needs fixing: sample Nf points from the whole 3D domain\n",
    "N0 = Ny   # num of points to evaluate initial conditons -> N0^4\n",
    "Nb = Nx   # num of points to evaluate boundary conditions -> Nb^4\n",
    "Nw = Nx   # num of points of the surface of the front wing to evaluate boundary conditions -> Nw^4\n",
    "\n",
    "# Density (rho): 1.184 kg/m³\n",
    "# Dynamic viscosity (mu): 1.81e-5 kg/m.s\n",
    "rho = 1184\n",
    "mu = 1.81e-5\n",
    "\n",
    "log_filepath = \"/Users/ggito/repos/pinns/data/log.csv\""
   ]
  },
  {
   "cell_type": "code",
   "execution_count": 6,
   "metadata": {},
   "outputs": [],
   "source": [
    "def sample_points_in_domain(min, max, num_of_samples):\n",
    "  return torch.tensor(np.random.uniform(min, max, size=(num_of_samples, 1)), dtype=torch.float32, device=device, requires_grad=True)"
   ]
  },
  {
   "cell_type": "code",
   "execution_count": 7,
   "metadata": {},
   "outputs": [],
   "source": [
    "def zeros(num):\n",
    "  return torch.zeros(size=(num, 1), dtype=torch.float32, device=device, requires_grad=True)"
   ]
  },
  {
   "cell_type": "code",
   "execution_count": 8,
   "metadata": {},
   "outputs": [],
   "source": [
    "def closure(report_losses=False):\n",
    "  optimizer.zero_grad()\n",
    "\n",
    "  # TODO: use quasi monte carlo sampling\n",
    "  z_f = sample_points_in_domain(0, x_max, Nf)\n",
    "  y_f = sample_points_in_domain(0, y_max, Nf)\n",
    "  x_f = sample_points_in_domain(0, z_max, Nf)\n",
    "  t_f = sample_points_in_domain(0, t_max, Nf)\n",
    "\n",
    "  x0 = sample_points_in_domain(dx, x_max, N0)\n",
    "  y0 = sample_points_in_domain(dy, y_max, N0)\n",
    "  z0 = sample_points_in_domain(dz, z_max, N0)\n",
    "  t0 = sample_points_in_domain(0, t_max, N0)\n",
    "\n",
    "  x_b = zeros(Nb)\n",
    "  y_b = sample_points_in_domain(0, y_max, Nb)\n",
    "  z_b = sample_points_in_domain(0, z_max, Nb)\n",
    "  t_b = sample_points_in_domain(0, t_max, Nb)\n",
    "  \n",
    "  # sample Nw wing points\n",
    "  sampled_indices = wing_df.sample(n=Nw).index\n",
    "\n",
    "  x_w, y_w, z_w = [torch.tensor(wing_df.loc[sampled_indices, col].values, dtype=torch.float32, device=device, requires_grad=True) for col in ['x', 'y', 'z']]\n",
    "  t_w = sample_points_in_domain(0, t_max, Nw)\n",
    "\n",
    "  total_loss, pde_loss, ic_loss, bc_loss, wing_loss = pinn.loss(\n",
    "                  x_f, y_f, z_f, t_f,\n",
    "                  x0, y0, z0, t0,\n",
    "                  x_b, y_b, z_b, t_b,\n",
    "                  x_w, y_w, z_w, t_w,\n",
    "                  mu, rho, dt,\n",
    "                  0.005, 0.25, 0.25, 0.25,\n",
    "                  log_filepath)\n",
    "\n",
    "  total_loss.backward()\n",
    "\n",
    "  if report_losses:\n",
    "      return total_loss, pde_loss, ic_loss, bc_loss, wing_loss\n",
    "  else:\n",
    "      return total_loss\n",
    "\n",
    "for epoch in range(epochs):\n",
    "  optimizer.step(closure)\n",
    "  # if epoch % 10 == 0:\n",
    "  total_loss, pde_loss, ic_loss, bc_loss, wing_loss = closure(report_losses=True)\n",
    "  print(f'Epoch: {epoch},\\tTotal loss: {total_loss.item()},\\tPDE loss: {pde_loss.item()},\\tIC loss: {ic_loss.item()},\\tBC loss: {bc_loss.item()},\\tWing loss: {wing_loss.item()}')"
   ]
  }
 ],
 "metadata": {
  "kernelspec": {
   "display_name": "Python 3",
   "language": "python",
   "name": "python3"
  },
  "language_info": {
   "codemirror_mode": {
    "name": "ipython",
    "version": 3
   },
   "file_extension": ".py",
   "mimetype": "text/x-python",
   "name": "python",
   "nbconvert_exporter": "python",
   "pygments_lexer": "ipython3",
   "version": "3.9.6"
  },
  "orig_nbformat": 4
 },
 "nbformat": 4,
 "nbformat_minor": 2
}
