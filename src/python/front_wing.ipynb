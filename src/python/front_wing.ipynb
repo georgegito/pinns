{
 "cells": [
  {
   "cell_type": "code",
   "execution_count": 7,
   "metadata": {},
   "outputs": [
    {
     "name": "stdout",
     "output_type": "stream",
     "text": [
      "exception (False, \"b'ha\\\\xcd\\\\xcc1c\\\\x04\\\\x02\\\\xc2b\\\\xcf\\\\x0cfa\\\\xcd\\\\xcc1c\\\\x00\\\\x00\\\\x00\\\\x00\\\\x00\\\\x00\\\\x00\\\\x00\\\\x00\\\\x00\\\\x00\\\\x00\\\\x80\\\\xbf\\\\x04\\\\x02\\\\xc2b\\\\xcf\\\\x0cfa\\\\xcd\\\\xcc1c\\\\xc7\\\\x96\\\\xc1b\\\\xef' should start with b'facet normal'\")\n"
     ]
    }
   ],
   "source": [
    "import numpy as np\n",
    "from stl import mesh\n",
    "\n",
    "# Load the STL file\n",
    "stl_mesh = mesh.Mesh.from_file(\"/Users/ggito/repos/pinns/src/julia/f1_front_wing/files/ferrari_open_f1_2019_wing_v2_part.STL\")"
   ]
  },
  {
   "cell_type": "code",
   "execution_count": 8,
   "metadata": {},
   "outputs": [],
   "source": [
    "# Calculate the area of each face\n",
    "v0, v1, v2 = stl_mesh.v0, stl_mesh.v1, stl_mesh.v2\n",
    "edge1 = v1 - v0\n",
    "edge2 = v2 - v0\n",
    "cross_product = np.cross(edge1, edge2)\n",
    "areas = 0.5 * np.linalg.norm(cross_product, axis=1)\n",
    "normals = cross_product / np.linalg.norm(cross_product, axis=1)[:, np.newaxis]\n",
    "\n",
    "# Calculate the total surface area\n",
    "total_area = np.sum(areas)"
   ]
  },
  {
   "cell_type": "code",
   "execution_count": 19,
   "metadata": {},
   "outputs": [],
   "source": [
    "# Decide the number of points to sample\n",
    "num_points_to_sample = 2000000\n",
    "\n",
    "# Sample points and associate normals\n",
    "sample_points = []\n",
    "sample_normals = []\n",
    "for i in range(len(stl_mesh)):\n",
    "    num_points_in_face = int(areas[i] / total_area * num_points_to_sample)\n",
    "    for _ in range(num_points_in_face):\n",
    "        barycentric_coords = np.random.random(3)\n",
    "        barycentric_coords /= barycentric_coords.sum()  # Ensure they sum to 1\n",
    "        sample_point = (\n",
    "            stl_mesh.v0[i] * barycentric_coords[0]\n",
    "            + stl_mesh.v1[i] * barycentric_coords[1]\n",
    "            + stl_mesh.v2[i] * barycentric_coords[2]\n",
    "        )\n",
    "        sample_points.append(sample_point)\n",
    "        sample_normals.append(normals[i])\n"
   ]
  },
  {
   "cell_type": "code",
   "execution_count": 20,
   "metadata": {},
   "outputs": [],
   "source": [
    "import matplotlib.pyplot as plt\n",
    "from mpl_toolkits.mplot3d.art3d import Poly3DCollection\n",
    "import numpy as np\n",
    "\n",
    "# Assuming sample_points and sample_normals are already defined\n",
    "\n",
    "# Create a new matplotlib figure and axes.\n",
    "fig = plt.figure()\n",
    "ax = fig.add_subplot(111, projection='3d')\n",
    "\n",
    "# Create a Poly3DCollection object with the faces of the STL mesh.\n",
    "poly_collection = Poly3DCollection(stl_mesh.vectors, facecolors='cyan', linewidths=0.05, edgecolors='r', alpha=0.1)\n",
    "# ax.add_collection3d(poly_collection)\n",
    "\n",
    "# Convert sample_points and sample_normals to numpy arrays if they are not already\n",
    "sample_points = np.array(sample_points)\n",
    "sample_normals = np.array(sample_normals)\n",
    "\n",
    "# Swap Y and Z axes for all sampled points and normals (if needed)\n",
    "sample_points = np.column_stack((sample_points[:, 0], sample_points[:, 2], sample_points[:, 1]))\n",
    "sample_normals = np.column_stack((sample_normals[:, 0], sample_normals[:, 2], sample_normals[:, 1]))\n",
    "\n",
    "# Scale the normals for visibility\n",
    "normal_scale = 2  # Adjust this scale factor as needed\n",
    "sample_normals_scaled = sample_normals * normal_scale\n",
    "\n",
    "# Plot sampled points\n",
    "ax.scatter(sample_points[:, 0], sample_points[:, 1], sample_points[:, 2], c='b', s=0.0005)\n",
    "\n",
    "# Plot normal vectors\n",
    "ax.quiver(\n",
    "    sample_points[:, 0], sample_points[:, 1], sample_points[:, 2],\n",
    "    sample_normals_scaled[:, 0], sample_normals_scaled[:, 1], sample_normals_scaled[:, 2],\n",
    "    color='green', length=0.1, normalize=True\n",
    ")\n",
    "\n",
    "# Set axis labels\n",
    "ax.set_xlabel('X')\n",
    "ax.set_ylabel('Y')\n",
    "ax.set_zlabel('Z')\n",
    "\n",
    "# Show plot\n",
    "plt.show()"
   ]
  },
  {
   "cell_type": "code",
   "execution_count": null,
   "metadata": {},
   "outputs": [],
   "source": [
    "import csv\n",
    "\n",
    "# Specify the file name\n",
    "points_filename = 'front_wing.csv'\n",
    "norms_filename = 'front_wing_norms.csv'\n",
    "\n",
    "# Open the file in write mode\n",
    "with open(points_filename, mode='w', newline='') as file:\n",
    "    writer = csv.writer(file)\n",
    "    \n",
    "    # Write header\n",
    "    writer.writerow(['x', 'y', 'z'])\n",
    "    \n",
    "    # Write each point's coordinates as a row in the file\n",
    "    for point in sample_points:\n",
    "        writer.writerow(point)\n",
    "\n",
    "with open(norms_filename, mode='w', newline='') as file:\n",
    "    writer = csv.writer(file)\n",
    "    \n",
    "    # Write header\n",
    "    writer.writerow(['x', 'y', 'z'])\n",
    "    \n",
    "    # Write each point's coordinates as a row in the file\n",
    "    for point in sample_normals:\n",
    "        writer.writerow(point)"
   ]
  },
  {
   "cell_type": "code",
   "execution_count": 12,
   "metadata": {},
   "outputs": [
    {
     "data": {
      "text/plain": [
       "12.333965"
      ]
     },
     "execution_count": 12,
     "metadata": {},
     "output_type": "execute_result"
    }
   ],
   "source": [
    "min(sample_points[1])"
   ]
  }
 ],
 "metadata": {
  "kernelspec": {
   "display_name": "Python 3",
   "language": "python",
   "name": "python3"
  },
  "language_info": {
   "codemirror_mode": {
    "name": "ipython",
    "version": 3
   },
   "file_extension": ".py",
   "mimetype": "text/x-python",
   "name": "python",
   "nbconvert_exporter": "python",
   "pygments_lexer": "ipython3",
   "version": "3.12.0"
  },
  "orig_nbformat": 4
 },
 "nbformat": 4,
 "nbformat_minor": 2
}
