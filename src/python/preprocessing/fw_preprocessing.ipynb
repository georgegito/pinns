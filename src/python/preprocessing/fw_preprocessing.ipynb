{
 "cells": [
  {
   "cell_type": "markdown",
   "metadata": {},
   "source": [
    "## Data Preprocessing"
   ]
  },
  {
   "cell_type": "code",
   "execution_count": null,
   "metadata": {},
   "outputs": [],
   "source": [
    "import pandas as pd\n",
    "import os\n",
    "import plotly.graph_objects as go\n",
    "import plotly.express as px"
   ]
  },
  {
   "cell_type": "code",
   "execution_count": null,
   "metadata": {},
   "outputs": [],
   "source": [
    "data_dir = \"/Users/ggito/repos/pinns/data/front_wing\"\n",
    "points_file_name = \"points.csv\"\n",
    "points_file_path = os.path.join(data_dir, points_file_name)\n",
    "\n",
    "p_df = pd.read_csv(points_file_path)\n",
    "print(p_df)"
   ]
  },
  {
   "cell_type": "code",
   "execution_count": null,
   "metadata": {},
   "outputs": [],
   "source": [
    "norms_file_name = \"norms.csv\"\n",
    "norms_file_path = os.path.join(data_dir, norms_file_name)\n",
    "\n",
    "n_df = pd.read_csv(norms_file_path)\n",
    "print(n_df)"
   ]
  },
  {
   "cell_type": "code",
   "execution_count": null,
   "metadata": {},
   "outputs": [],
   "source": [
    "num_of_samples = 20000"
   ]
  },
  {
   "cell_type": "code",
   "execution_count": null,
   "metadata": {},
   "outputs": [],
   "source": [
    "sampled_indices = p_df.sample(n=num_of_samples, random_state=1).index\n",
    "\n",
    "p_sampled_df = p_df.loc[sampled_indices]\n",
    "n_sampled_df = n_df.loc[sampled_indices]\n",
    "\n",
    "print(p_sampled_df)\n",
    "print(n_sampled_df)"
   ]
  },
  {
   "cell_type": "code",
   "execution_count": null,
   "metadata": {},
   "outputs": [],
   "source": [
    "x_min, y_min, z_min = p_df.min()\n",
    "x_max, y_max, z_max = p_df.max()\n",
    "\n",
    "overall_min = min(x_min, y_min, z_min)\n",
    "overall_max = max(x_max, y_max, z_max)\n",
    "\n",
    "range = (overall_min, overall_max)"
   ]
  },
  {
   "cell_type": "code",
   "execution_count": null,
   "metadata": {},
   "outputs": [],
   "source": [
    "fig = px.scatter_3d(p_sampled_df, x='x', y='y', z='z')\n",
    "fig.update_traces(marker_size = 1)\n",
    "fig.update_traces(marker_color = 'slategrey')\n",
    "fig.update_layout(\n",
    "    scene = dict(\n",
    "        xaxis = dict(range=range),\n",
    "        yaxis = dict(range=range),\n",
    "        zaxis = dict(range=range)),)\n",
    "\n",
    "fig.show()"
   ]
  },
  {
   "cell_type": "code",
   "execution_count": null,
   "metadata": {},
   "outputs": [],
   "source": [
    "p_tr_df = pd.DataFrame({\n",
    "    'x': p_sampled_df['x'] - p_sampled_df['x'].min(),\n",
    "    'y': p_sampled_df['y'] - p_sampled_df['y'].min(),\n",
    "    'z': p_sampled_df['z'] - p_sampled_df['z'].min()\n",
    "})\n",
    "\n",
    "print(p_tr_df)"
   ]
  },
  {
   "cell_type": "code",
   "execution_count": null,
   "metadata": {},
   "outputs": [],
   "source": [
    "x_min, y_min, z_min = p_tr_df.min()\n",
    "x_max, y_max, z_max = p_tr_df.max()\n",
    "\n",
    "overall_min = min(x_min, y_min, z_min)\n",
    "overall_max = max(x_max, y_max, z_max)\n",
    "\n",
    "range = (overall_min, overall_max)"
   ]
  },
  {
   "cell_type": "code",
   "execution_count": null,
   "metadata": {},
   "outputs": [],
   "source": [
    "fig = px.scatter_3d(p_tr_df, x='x', y='y', z='z')\n",
    "fig.update_traces(marker_size = 1)\n",
    "fig.update_traces(marker_color = 'slategrey')\n",
    "fig.update_layout(\n",
    "    scene = dict(\n",
    "        xaxis = dict(range=range),\n",
    "        yaxis = dict(range=range),\n",
    "        zaxis = dict(range=range)),)\n",
    "\n",
    "fig.show()"
   ]
  },
  {
   "cell_type": "code",
   "execution_count": null,
   "metadata": {},
   "outputs": [],
   "source": [
    "p_unif_scaled_df = p_tr_df / overall_max\n",
    "\n",
    "print(p_unif_scaled_df)"
   ]
  },
  {
   "cell_type": "code",
   "execution_count": null,
   "metadata": {},
   "outputs": [],
   "source": [
    "x_min, y_min, z_min = p_unif_scaled_df.min()\n",
    "x_max, y_max, z_max = p_unif_scaled_df.max()\n",
    "\n",
    "overall_min = min(x_min, y_min, z_min)\n",
    "overall_max = max(x_max, y_max, z_max)\n",
    "\n",
    "range = (overall_min, overall_max)"
   ]
  },
  {
   "cell_type": "code",
   "execution_count": null,
   "metadata": {},
   "outputs": [],
   "source": [
    "p_unif_scaled_df = p_unif_scaled_df / 2"
   ]
  },
  {
   "cell_type": "code",
   "execution_count": null,
   "metadata": {},
   "outputs": [],
   "source": [
    "fig = px.scatter_3d(p_unif_scaled_df, x='x', y='y', z='z')\n",
    "fig.update_traces(marker_size = 1)\n",
    "fig.update_traces(marker_color = 'slategrey')\n",
    "fig.update_layout(\n",
    "    scene = dict(\n",
    "        xaxis = dict(range=range),\n",
    "        yaxis = dict(range=range),\n",
    "        zaxis = dict(range=range)),)\n",
    "\n",
    "fig.show()"
   ]
  },
  {
   "cell_type": "code",
   "execution_count": null,
   "metadata": {},
   "outputs": [],
   "source": [
    "domain_size = overall_max - overall_min\n",
    "\n",
    "p_unif_scaled_df.x = p_unif_scaled_df.x + 0.25 * domain_size\n",
    "p_unif_scaled_df.y = p_unif_scaled_df.y + 0.5 * domain_size\n",
    "p_unif_scaled_df.z = p_unif_scaled_df.z + 0.1 * domain_size"
   ]
  },
  {
   "cell_type": "code",
   "execution_count": null,
   "metadata": {},
   "outputs": [],
   "source": [
    "fig = px.scatter_3d(p_unif_scaled_df, x='x', y='y', z='z')\n",
    "fig.update_traces(marker_size = 1)\n",
    "fig.update_traces(marker_color = 'slategrey')\n",
    "\n",
    "fig.update_layout(\n",
    "    scene = dict(\n",
    "        xaxis = dict(range=range),\n",
    "        yaxis = dict(range=range),\n",
    "        zaxis = dict(range=range)))\n",
    "\n",
    "fig.show()"
   ]
  },
  {
   "cell_type": "code",
   "execution_count": null,
   "metadata": {},
   "outputs": [],
   "source": [
    "scatter = go.Scatter3d(\n",
    "    x=p_unif_scaled_df['x'],\n",
    "    y=p_unif_scaled_df['y'],\n",
    "    z=p_unif_scaled_df['z'],\n",
    "    mode='markers',\n",
    "    marker=dict(size=1, color='slategrey')\n",
    ")\n",
    "\n",
    "cone = go.Cone(\n",
    "    x=p_unif_scaled_df['x'],\n",
    "    y=p_unif_scaled_df['y'],\n",
    "    z=p_unif_scaled_df['z'],\n",
    "    u=n_sampled_df['x'],\n",
    "    v=n_sampled_df['y'],\n",
    "    w=n_sampled_df['z'],\n",
    "    sizeref=5,\n",
    "    colorscale='haline',\n",
    "    cmin=0,\n",
    "    cmax=2\n",
    ")\n",
    "\n",
    "fig = go.Figure(data=[scatter, cone])\n",
    "\n",
    "fig.update_layout(\n",
    "    scene = dict(\n",
    "        xaxis = dict(range=range),\n",
    "        yaxis = dict(range=range),\n",
    "        zaxis = dict(range=range)))\n",
    "\n",
    "fig.show()"
   ]
  },
  {
   "cell_type": "code",
   "execution_count": null,
   "metadata": {},
   "outputs": [],
   "source": [
    "p_unif_scaled_df.describe()"
   ]
  },
  {
   "cell_type": "code",
   "execution_count": null,
   "metadata": {},
   "outputs": [],
   "source": [
    "n_sampled_df.describe()"
   ]
  },
  {
   "cell_type": "code",
   "execution_count": null,
   "metadata": {},
   "outputs": [],
   "source": [
    "final_points_file_name = 'points_final.csv'\n",
    "final_norms_file_name = 'norms_final.csv'\n",
    "\n",
    "final_points_file_path = os.path.join(data_dir, final_points_file_name)\n",
    "final_norms_file_path = os.path.join(data_dir, final_norms_file_name)\n",
    "\n",
    "p_unif_scaled_df.to_csv(final_points_file_path, index=False, header=True)\n",
    "n_sampled_df.to_csv(final_norms_file_path, index=False, header=True)"
   ]
  }
 ],
 "metadata": {
  "kernelspec": {
   "display_name": "Python 3",
   "language": "python",
   "name": "python3"
  },
  "language_info": {
   "codemirror_mode": {
    "name": "ipython",
    "version": 3
   },
   "file_extension": ".py",
   "mimetype": "text/x-python",
   "name": "python",
   "nbconvert_exporter": "python",
   "pygments_lexer": "ipython3",
   "version": "3.9.6"
  },
  "orig_nbformat": 4
 },
 "nbformat": 4,
 "nbformat_minor": 2
}
