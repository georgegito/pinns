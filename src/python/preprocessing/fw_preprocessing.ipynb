{
 "cells": [
  {
   "cell_type": "markdown",
   "metadata": {},
   "source": [
    "## Data Preprocessing"
   ]
  },
  {
   "cell_type": "code",
   "execution_count": null,
   "metadata": {},
   "outputs": [],
   "source": [
    "import pandas as pd\n",
    "import os\n",
    "import plotly.graph_objects as go\n",
    "import plotly.express as px"
   ]
  },
  {
   "cell_type": "code",
   "execution_count": null,
   "metadata": {},
   "outputs": [],
   "source": [
    "data_dir = \"/Users/ggito/repos/pinns/data/front_wing\"\n",
    "points_file_name = \"points.csv\"\n",
    "measurements_file_name = \"measurements.csv\"\n",
    "\n",
    "points_file_path = os.path.join(data_dir, points_file_name)\n",
    "measurements_df = pd.read_csv(os.path.join(data_dir, measurements_file_name))\n",
    "\n",
    "p_df = pd.read_csv(points_file_path)\n",
    "print(p_df)"
   ]
  },
  {
   "cell_type": "code",
   "execution_count": null,
   "metadata": {},
   "outputs": [],
   "source": [
    "num_of_samples = 20000"
   ]
  },
  {
   "cell_type": "code",
   "execution_count": null,
   "metadata": {},
   "outputs": [],
   "source": [
    "sampled_indices = p_df.sample(n=num_of_samples, random_state=1).index\n",
    "\n",
    "p_sampled_df = p_df.loc[sampled_indices]\n",
    "\n",
    "print(p_sampled_df)"
   ]
  },
  {
   "cell_type": "code",
   "execution_count": null,
   "metadata": {},
   "outputs": [],
   "source": [
    "x_min, y_min, z_min = p_df.min()\n",
    "x_max, y_max, z_max = p_df.max()\n",
    "\n",
    "overall_min = min(x_min, y_min, z_min)\n",
    "overall_max = max(x_max, y_max, z_max)\n",
    "\n",
    "range = (overall_min, overall_max)"
   ]
  },
  {
   "cell_type": "code",
   "execution_count": null,
   "metadata": {},
   "outputs": [],
   "source": [
    "fig = px.scatter_3d(p_sampled_df, x='x', y='y', z='z')\n",
    "fig.update_traces(marker_size = 1)\n",
    "fig.update_traces(marker_color = 'slategrey')\n",
    "fig.update_layout(\n",
    "    scene = dict(\n",
    "        xaxis = dict(range=range),\n",
    "        yaxis = dict(range=range),\n",
    "        zaxis = dict(range=range)),)\n",
    "\n",
    "fig.show()"
   ]
  },
  {
   "cell_type": "code",
   "execution_count": null,
   "metadata": {},
   "outputs": [],
   "source": [
    "p_tr_df = pd.DataFrame({\n",
    "    'x': p_sampled_df['x'] - p_sampled_df['x'].min(),\n",
    "    'y': p_sampled_df['y'] - p_sampled_df['y'].min(),\n",
    "    'z': p_sampled_df['z'] - p_sampled_df['z'].min()\n",
    "})\n",
    "\n",
    "print(p_tr_df)"
   ]
  },
  {
   "cell_type": "code",
   "execution_count": null,
   "metadata": {},
   "outputs": [],
   "source": [
    "x_min, y_min, z_min = p_tr_df.min()\n",
    "x_max, y_max, z_max = p_tr_df.max()\n",
    "\n",
    "overall_min = min(x_min, y_min, z_min)\n",
    "overall_max = max(x_max, y_max, z_max)\n",
    "\n",
    "range = (overall_min, overall_max)"
   ]
  },
  {
   "cell_type": "code",
   "execution_count": null,
   "metadata": {},
   "outputs": [],
   "source": [
    "fig = px.scatter_3d(p_tr_df, x='x', y='y', z='z')\n",
    "fig.update_traces(marker_size = 1)\n",
    "fig.update_traces(marker_color = 'slategrey')\n",
    "fig.update_layout(\n",
    "    scene = dict(\n",
    "        xaxis = dict(range=range),\n",
    "        yaxis = dict(range=range),\n",
    "        zaxis = dict(range=range)),)\n",
    "\n",
    "fig.show()"
   ]
  },
  {
   "cell_type": "code",
   "execution_count": null,
   "metadata": {},
   "outputs": [],
   "source": [
    "p_unif_scaled_df = p_tr_df / overall_max\n",
    "\n",
    "print(p_unif_scaled_df)"
   ]
  },
  {
   "cell_type": "code",
   "execution_count": null,
   "metadata": {},
   "outputs": [],
   "source": [
    "x_min, y_min, z_min = p_unif_scaled_df.min()\n",
    "x_max, y_max, z_max = p_unif_scaled_df.max()\n",
    "\n",
    "overall_min = min(x_min, y_min, z_min)\n",
    "overall_max = max(x_max, y_max, z_max)\n",
    "\n",
    "range = (overall_min, overall_max)"
   ]
  },
  {
   "cell_type": "code",
   "execution_count": null,
   "metadata": {},
   "outputs": [],
   "source": [
    "# p_unif_scaled_df = p_unif_scaled_df / 2"
   ]
  },
  {
   "cell_type": "code",
   "execution_count": null,
   "metadata": {},
   "outputs": [],
   "source": [
    "fig = px.scatter_3d(p_unif_scaled_df, x='x', y='y', z='z')\n",
    "fig.update_traces(marker_size = 1)\n",
    "fig.update_traces(marker_color = 'slategrey')\n",
    "fig.update_layout(\n",
    "    scene = dict(\n",
    "        xaxis = dict(range=range),\n",
    "        yaxis = dict(range=range),\n",
    "        zaxis = dict(range=range)),)\n",
    "\n",
    "fig.show()"
   ]
  },
  {
   "cell_type": "code",
   "execution_count": null,
   "metadata": {},
   "outputs": [],
   "source": [
    "domain_size = overall_max - overall_min\n",
    "\n",
    "# p_unif_scaled_df.x = p_unif_scaled_df.x + 0.25 * domain_size\n",
    "p_unif_scaled_df.y = p_unif_scaled_df.y + 0.4 * domain_size\n",
    "p_unif_scaled_df.z = p_unif_scaled_df.z + 0.05 * domain_size"
   ]
  },
  {
   "cell_type": "code",
   "execution_count": null,
   "metadata": {},
   "outputs": [],
   "source": [
    "# fig = px.scatter_3d(p_unif_scaled_df, x='x', y='y', z='z')\n",
    "# fig.update_traces(marker_size = 1)\n",
    "# fig.update_traces(marker_color = 'slategrey')\n",
    "\n",
    "# fig.update_layout(\n",
    "#     scene = dict(\n",
    "#         xaxis = dict(range=range),\n",
    "#         yaxis = dict(range=range),\n",
    "#         zaxis = dict(range=range)))\n",
    "\n",
    "# fig.show()\n",
    "\n",
    "\n",
    "_scatter = go.Scatter3d(\n",
    "    x=p_unif_scaled_df['x'],\n",
    "    y=p_unif_scaled_df['y'],\n",
    "    z=p_unif_scaled_df['z'],\n",
    "    mode='markers',\n",
    "    marker=dict(size=1, color='slategrey')\n",
    ")\n",
    "\n",
    "_cone = go.Cone(\n",
    "    x=measurements_df.x,\n",
    "    y=measurements_df.y,\n",
    "    z=measurements_df.z,\n",
    "    u=measurements_df.u,\n",
    "    v=measurements_df.v,\n",
    "    w=measurements_df.w,\n",
    "    colorscale='jet',\n",
    ")\n",
    "\n",
    "# Create figure\n",
    "fig = go.Figure(data=[_scatter, _cone])\n",
    "\n",
    "fig.update_layout(\n",
    "        scene = dict(\n",
    "          xaxis=dict(range=range, autorange=False),\n",
    "          yaxis=dict(range=range, autorange=False),\n",
    "          zaxis=dict(range=range, autorange=False),\n",
    "        ))\n",
    "\n",
    "fig.show()"
   ]
  },
  {
   "cell_type": "code",
   "execution_count": null,
   "metadata": {},
   "outputs": [],
   "source": [
    "p_unif_scaled_df.describe()"
   ]
  },
  {
   "cell_type": "code",
   "execution_count": null,
   "metadata": {},
   "outputs": [],
   "source": [
    "final_points_file_name = 'points_final.csv'\n",
    "\n",
    "final_points_file_path = os.path.join(data_dir, final_points_file_name)\n",
    "\n",
    "p_unif_scaled_df.to_csv(final_points_file_path, index=False, header=True)"
   ]
  }
 ],
 "metadata": {
  "kernelspec": {
   "display_name": "Python 3",
   "language": "python",
   "name": "python3"
  },
  "language_info": {
   "codemirror_mode": {
    "name": "ipython",
    "version": 3
   },
   "file_extension": ".py",
   "mimetype": "text/x-python",
   "name": "python",
   "nbconvert_exporter": "python",
   "pygments_lexer": "ipython3",
   "version": "3.9.6"
  },
  "orig_nbformat": 4
 },
 "nbformat": 4,
 "nbformat_minor": 2
}
