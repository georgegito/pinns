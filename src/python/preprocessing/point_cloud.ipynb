{
 "cells": [
  {
   "cell_type": "markdown",
   "metadata": {},
   "source": [
    "## STL Model to Point Cloud\n"
   ]
  },
  {
   "cell_type": "code",
   "execution_count": null,
   "metadata": {},
   "outputs": [],
   "source": [
    "import numpy as np\n",
    "from stl import mesh\n",
    "import os\n",
    "import matplotlib.pyplot as plt\n",
    "from mpl_toolkits.mplot3d.art3d import Poly3DCollection\n",
    "import numpy as np\n",
    "import csv"
   ]
  },
  {
   "cell_type": "code",
   "execution_count": null,
   "metadata": {},
   "outputs": [],
   "source": [
    "# Load the STL file\n",
    "data_dir = \"/Users/ggito/repos/pinns/data/rear_wing\"\n",
    "stl_file_name = \"rear_wing.STL\"\n",
    "stl_file_path = os.path.join(data_dir, stl_file_name)\n",
    "\n",
    "stl_mesh = mesh.Mesh.from_file(stl_file_path)"
   ]
  },
  {
   "cell_type": "code",
   "execution_count": null,
   "metadata": {},
   "outputs": [],
   "source": [
    "# Calculate the area of each face\n",
    "v0, v1, v2 = stl_mesh.v0, stl_mesh.v1, stl_mesh.v2\n",
    "edge1 = v1 - v0\n",
    "edge2 = v2 - v0\n",
    "cross_product = np.cross(edge1, edge2)\n",
    "areas = 0.5 * np.linalg.norm(cross_product, axis=1)\n",
    "normals = cross_product / np.linalg.norm(cross_product, axis=1)[:, np.newaxis]\n",
    "\n",
    "# Calculate the total surface area\n",
    "total_area = np.sum(areas)"
   ]
  },
  {
   "cell_type": "code",
   "execution_count": null,
   "metadata": {},
   "outputs": [],
   "source": [
    "# Decide the number of points to sample\n",
    "num_points_to_sample = 2000000\n",
    "\n",
    "# Sample points and associate normals\n",
    "sample_points = []\n",
    "sample_normals = []\n",
    "for i in range(len(stl_mesh)):\n",
    "    num_points_in_face = int(areas[i] / total_area * num_points_to_sample)\n",
    "    for _ in range(num_points_in_face):\n",
    "        barycentric_coords = np.random.random(3)\n",
    "        barycentric_coords /= barycentric_coords.sum()  # Ensure they sum to 1\n",
    "        sample_point = (\n",
    "            stl_mesh.v0[i] * barycentric_coords[0]\n",
    "            + stl_mesh.v1[i] * barycentric_coords[1]\n",
    "            + stl_mesh.v2[i] * barycentric_coords[2]\n",
    "        )\n",
    "        sample_points.append(sample_point)\n",
    "        sample_normals.append(normals[i])\n"
   ]
  },
  {
   "cell_type": "code",
   "execution_count": null,
   "metadata": {},
   "outputs": [],
   "source": [
    "# Assuming sample_points and sample_normals are already defined\n",
    "\n",
    "# Create a new matplotlib figure and axes.\n",
    "fig = plt.figure()\n",
    "ax = fig.add_subplot(111, projection='3d')\n",
    "\n",
    "# Create a Poly3DCollection object with the faces of the STL mesh.\n",
    "poly_collection = Poly3DCollection(stl_mesh.vectors, facecolors='cyan', linewidths=0.05, edgecolors='r', alpha=0.1)\n",
    "# ax.add_collection3d(poly_collection)\n",
    "\n",
    "# Convert sample_points and sample_normals to numpy arrays if they are not already\n",
    "sample_points = np.array(sample_points)\n",
    "sample_normals = np.array(sample_normals)\n",
    "\n",
    "# Swap Y and Z axes for all sampled points and normals (if needed)\n",
    "sample_points = np.column_stack((sample_points[:, 0], sample_points[:, 2], sample_points[:, 1]))\n",
    "sample_normals = np.column_stack((sample_normals[:, 0], sample_normals[:, 2], sample_normals[:, 1]))\n",
    "\n",
    "# Scale the normals for visibility\n",
    "normal_scale = 2  # Adjust this scale factor as needed\n",
    "sample_normals_scaled = sample_normals * normal_scale\n",
    "\n",
    "# Plot sampled points\n",
    "ax.scatter(sample_points[:, 0], sample_points[:, 1], sample_points[:, 2], c='b', s=0.0005)\n",
    "\n",
    "# Plot normal vectors\n",
    "ax.quiver(\n",
    "    sample_points[:, 0], sample_points[:, 1], sample_points[:, 2],\n",
    "    sample_normals_scaled[:, 0], sample_normals_scaled[:, 1], sample_normals_scaled[:, 2],\n",
    "    color='green', length=0.1, normalize=True\n",
    ")\n",
    "\n",
    "# Set axis labels\n",
    "ax.set_xlabel('X')\n",
    "ax.set_ylabel('Y')\n",
    "ax.set_zlabel('Z')\n",
    "\n",
    "# Show plot\n",
    "plt.show()"
   ]
  },
  {
   "cell_type": "code",
   "execution_count": null,
   "metadata": {},
   "outputs": [],
   "source": [
    "# Specify the file name\n",
    "points_filename = 'points.csv'\n",
    "norms_filename = 'norms.csv'\n",
    "out_filepath = '/Users/ggito/repos/pinns/data/rear_wing'\n",
    "\n",
    "# Open the file in write mode\n",
    "with open(os.path.join(out_filepath, points_filename), mode='w', newline='') as file:\n",
    "    writer = csv.writer(file)\n",
    "    \n",
    "    # Write header\n",
    "    writer.writerow(['x', 'y', 'z'])\n",
    "    \n",
    "    # Write each point's coordinates as a row in the file\n",
    "    for point in sample_points:\n",
    "        writer.writerow(point)\n",
    "\n",
    "with open(os.path.join(out_filepath, norms_filename), mode='w', newline='') as file:\n",
    "    writer = csv.writer(file)\n",
    "    \n",
    "    # Write header\n",
    "    writer.writerow(['x', 'y', 'z'])\n",
    "    \n",
    "    # Write each point's coordinates as a row in the file\n",
    "    for point in sample_normals:\n",
    "        writer.writerow(point)"
   ]
  },
  {
   "cell_type": "code",
   "execution_count": null,
   "metadata": {},
   "outputs": [],
   "source": [
    "min(sample_points[1])"
   ]
  }
 ],
 "metadata": {
  "kernelspec": {
   "display_name": "Python 3",
   "language": "python",
   "name": "python3"
  },
  "language_info": {
   "codemirror_mode": {
    "name": "ipython",
    "version": 3
   },
   "file_extension": ".py",
   "mimetype": "text/x-python",
   "name": "python",
   "nbconvert_exporter": "python",
   "pygments_lexer": "ipython3",
   "version": "3.9.6"
  },
  "orig_nbformat": 4
 },
 "nbformat": 4,
 "nbformat_minor": 2
}
