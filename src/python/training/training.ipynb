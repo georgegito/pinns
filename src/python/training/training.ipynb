{
 "cells": [
  {
   "cell_type": "markdown",
   "metadata": {},
   "source": [
    "# Physics Informed Neural Networks <br> F1 Car Front Wing Aerodymanics"
   ]
  },
  {
   "cell_type": "markdown",
   "metadata": {},
   "source": [
    "## PINN"
   ]
  },
  {
   "cell_type": "code",
   "execution_count": 1,
   "metadata": {},
   "outputs": [],
   "source": [
    "import os\n",
    "from dotenv import load_dotenv\n",
    "import sys"
   ]
  },
  {
   "cell_type": "code",
   "execution_count": 2,
   "metadata": {},
   "outputs": [],
   "source": [
    "load_dotenv()\n",
    "\n",
    "lib_dir = os.environ.get(\"LIB_DIR\")\n",
    "sys.path.append(lib_dir)\n",
    "\n",
    "data_dir = os.environ.get(\"DATA_DIR\")\n",
    "model_dir = os.path.join(data_dir, \"models\")\n",
    "\n",
    "points_filename = \"points_final.csv\"\n",
    "measurements_filename = \"measurements.csv\""
   ]
  },
  {
   "cell_type": "code",
   "execution_count": 3,
   "metadata": {},
   "outputs": [],
   "source": [
    "import pandas as pd\n",
    "import torch\n",
    "import yaml\n",
    "from pinn import PINN\n",
    "import utils"
   ]
  },
  {
   "cell_type": "code",
   "execution_count": 4,
   "metadata": {},
   "outputs": [
    {
     "name": "stdout",
     "output_type": "stream",
     "text": [
      "Device: mps\n"
     ]
    }
   ],
   "source": [
    "device = utils.get_device()\n",
    "print(f\"Device: {device}\")"
   ]
  },
  {
   "cell_type": "code",
   "execution_count": 5,
   "metadata": {},
   "outputs": [],
   "source": [
    "wing_df = pd.read_csv(os.path.join(data_dir, points_filename))\n",
    "measurements_df = pd.read_csv(os.path.join(data_dir, measurements_filename))"
   ]
  },
  {
   "cell_type": "code",
   "execution_count": 6,
   "metadata": {},
   "outputs": [],
   "source": [
    "with open(\"config.yaml\", 'r') as file:\n",
    "    config = yaml.safe_load(file)"
   ]
  },
  {
   "cell_type": "code",
   "execution_count": 7,
   "metadata": {},
   "outputs": [],
   "source": [
    "# Air Density (rho): 1.2041kg/m^3\n",
    "# Air Dynamic viscosity (mu): 1.81e-5 kg/m.s\n",
    "rho = config[\"rho\"]\n",
    "mu = config[\"mu\"]\n",
    "\n",
    "# m/s\n",
    "in_velocity = config[\"in_velocity\"]\n",
    "\n",
    "# Domain limits\n",
    "x_max = config[\"x_max\"]\n",
    "y_max = config[\"y_max\"]\n",
    "z_max = config[\"z_max\"]"
   ]
  },
  {
   "cell_type": "code",
   "execution_count": 8,
   "metadata": {},
   "outputs": [],
   "source": [
    "input_dim = 3\n",
    "output_dim = 4\n",
    "hidden_units = config[\"hidden_units\"]\n",
    "\n",
    "model_name = config[\"model_name\"]\n",
    "\n",
    "pinn = PINN(input_dim, output_dim, hidden_units, model_name).to(device)"
   ]
  },
  {
   "cell_type": "code",
   "execution_count": 9,
   "metadata": {},
   "outputs": [],
   "source": [
    "optimizer = torch.optim.LBFGS(pinn.parameters(), lr=1, line_search_fn=\"strong_wolfe\")\n",
    "# optimizer = torch.optim.Adam(pinn.parameters(), lr=1e-4)"
   ]
  },
  {
   "cell_type": "code",
   "execution_count": 10,
   "metadata": {},
   "outputs": [],
   "source": [
    "epochs = config[\"epochs\"]\n",
    "checkpoint_epochs = config[\"checkpoint_epochs\"]\n",
    "\n",
    "Nf = config[\"Nf\"]   # num of collocation points -> pde evaluation\n",
    "Nb = config[\"Nb\"]   # num of points to evaluate boundary conditions\n",
    "Nw = config[\"Nw\"]   # num of points of the surface of the front wing to evaluate boundary conditions\n",
    "Nu = config[\"Nu\"]   # num of points of real data"
   ]
  },
  {
   "cell_type": "code",
   "execution_count": 11,
   "metadata": {},
   "outputs": [
    {
     "name": "stdout",
     "output_type": "stream",
     "text": [
      "=======================================================\n",
      "PINN(\n",
      "  (layers): ModuleList(\n",
      "    (0): Linear(in_features=3, out_features=1000, bias=True)\n",
      "    (1-2): 2 x Linear(in_features=1000, out_features=1000, bias=True)\n",
      "    (3): Linear(in_features=1000, out_features=4, bias=True)\n",
      "  )\n",
      ")\n",
      "Model name: v30\n",
      "Number of epochs: 3000\n",
      "Number of collocation points Nf: 100\n",
      "Number of boundary condition points Nb: 100\n",
      "Number of object surface points Ns: 100\n",
      "Number of real data points Nu: 2\n",
      "X max: 1, Y max: 1, Z max: 1\n",
      "mu: 1, rho: 1\n",
      "c1: 1.0, c2: 100, c3: 100, c4: 100, c5: 100, c6: 100, c7: 1.0, c8: 100, c9: 100, c10: 1.0\n",
      "Inflow velocity: 10\n",
      "Device: mps\n",
      "Checkpoint epochs: 50\n",
      "Model directory: /Users/ggito/repos/pinns/data/front_wing/models\n",
      "=======================================================\n",
      "=> converting Nf, Nb, Ns, Nu to nearest power of 2...\n",
      "Nf: 128, Nb: 128, Ns: 128, Nu: 2\n",
      "=======================================================\n",
      "=> starting training...\n",
      "=======================================================\n",
      "Epoch: 1, Total Loss: 1321.2983, PDE Loss - Navier Stoker: 104.0296, PDE Loss - Poisson: 0.3990, BC Inlet Loss: 7.1191, BC Outlet Loss: 0.0001, BC Left Loss: 0.1173, BC Right Loss: 0.1332, BC Down Loss: 3.0425, BC Up Loss: 0.1773, No-Slip Loss: 4.1962, Real-Data Loss: 0.0000, Impermeability Loss: 0.0000\n",
      "Epoch: 2, Total Loss: 1320.8331, PDE Loss - Navier Stoker: 103.5825, PDE Loss - Poisson: 0.3727, BC Inlet Loss: 7.5237, BC Outlet Loss: 0.0041, BC Left Loss: 0.1420, BC Right Loss: 0.1448, BC Down Loss: 2.5369, BC Up Loss: 0.2882, No-Slip Loss: 3.6717, Real-Data Loss: 0.0000, Impermeability Loss: 0.0000\n",
      "Training stopped by user at epoch 3.\n"
     ]
    }
   ],
   "source": [
    "pinn.train_pinn(\n",
    "    epochs=epochs, \n",
    "    optimizer=optimizer, \n",
    "    s_df=wing_df, \n",
    "    u_df=measurements_df, \n",
    "    Nf=Nf, \n",
    "    Nb=Nb, \n",
    "    Ns=Nw, \n",
    "    Nu=Nu, \n",
    "    x_max=x_max, \n",
    "    y_max=y_max, \n",
    "    z_max=z_max, \n",
    "    in_velocity=in_velocity, \n",
    "    mu=mu, \n",
    "    rho=rho, \n",
    "    device=device, \n",
    "    checkpoint_epochs=checkpoint_epochs, \n",
    "    model_dir=model_dir,\n",
    "    c2=100, c3=100, c4=100, c5=100, c6=100, c8=100, c9=100,\n",
    ")"
   ]
  },
  {
   "cell_type": "code",
   "execution_count": null,
   "metadata": {},
   "outputs": [],
   "source": [
    "# pinn, optimizer = pinn.load_checkpoint_num(optimizer, model_dir, model_name, 2000)"
   ]
  }
 ],
 "metadata": {
  "kernelspec": {
   "display_name": "Python 3",
   "language": "python",
   "name": "python3"
  },
  "language_info": {
   "codemirror_mode": {
    "name": "ipython",
    "version": 3
   },
   "file_extension": ".py",
   "mimetype": "text/x-python",
   "name": "python",
   "nbconvert_exporter": "python",
   "pygments_lexer": "ipython3",
   "version": "3.9.6"
  },
  "orig_nbformat": 4
 },
 "nbformat": 4,
 "nbformat_minor": 2
}
