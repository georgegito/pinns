{
 "cells": [
  {
   "cell_type": "markdown",
   "metadata": {},
   "source": [
    "# Physics Informed Neural Networks <br> F1 Car Front Wing Aerodymanics"
   ]
  },
  {
   "cell_type": "markdown",
   "metadata": {},
   "source": [
    "## PINN"
   ]
  },
  {
   "cell_type": "code",
   "execution_count": null,
   "metadata": {},
   "outputs": [],
   "source": [
    "import os\n",
    "from dotenv import load_dotenv\n",
    "import sys"
   ]
  },
  {
   "cell_type": "code",
   "execution_count": null,
   "metadata": {},
   "outputs": [],
   "source": [
    "load_dotenv()\n",
    "\n",
    "lib_dir = os.environ.get(\"LIB_DIR\")\n",
    "sys.path.append(lib_dir)\n",
    "\n",
    "data_dir = os.environ.get(\"DATA_DIR\")\n",
    "model_dir = os.path.join(data_dir, \"models\")\n",
    "\n",
    "points_filename = \"points_final.csv\"\n",
    "measurements_filename = \"measurements.csv\""
   ]
  },
  {
   "cell_type": "code",
   "execution_count": null,
   "metadata": {},
   "outputs": [],
   "source": [
    "import pandas as pd\n",
    "import torch\n",
    "import yaml\n",
    "from pinn import PINN\n",
    "import utils"
   ]
  },
  {
   "cell_type": "code",
   "execution_count": null,
   "metadata": {},
   "outputs": [],
   "source": [
    "device = utils.get_device()\n",
    "print(f\"Device: {device}\")"
   ]
  },
  {
   "cell_type": "code",
   "execution_count": null,
   "metadata": {},
   "outputs": [],
   "source": [
    "wing_df = pd.read_csv(os.path.join(data_dir, points_filename))\n",
    "measurements_df = pd.read_csv(os.path.join(data_dir, measurements_filename))"
   ]
  },
  {
   "cell_type": "code",
   "execution_count": null,
   "metadata": {},
   "outputs": [],
   "source": [
    "with open(\"config.yaml\", 'r') as file:\n",
    "    config = yaml.safe_load(file)"
   ]
  },
  {
   "cell_type": "code",
   "execution_count": null,
   "metadata": {},
   "outputs": [],
   "source": [
    "# Air Density (rho): 1.2041kg/m^3\n",
    "# Air Dynamic viscosity (mu): 1.81e-5 kg/m.s\n",
    "rho = config[\"rho\"]\n",
    "mu = config[\"mu\"]\n",
    "\n",
    "# m/s\n",
    "in_velocity = config[\"in_velocity\"]\n",
    "\n",
    "# Domain limits\n",
    "x_max = config[\"x_max\"]\n",
    "y_max = config[\"y_max\"]\n",
    "z_max = config[\"z_max\"]"
   ]
  },
  {
   "cell_type": "code",
   "execution_count": null,
   "metadata": {},
   "outputs": [],
   "source": [
    "input_dim = 3\n",
    "output_dim = 4\n",
    "hidden_units = config[\"hidden_units\"]\n",
    "\n",
    "model_name = config[\"model_name\"]\n",
    "\n",
    "pinn = PINN(input_dim, output_dim, hidden_units, model_name).to(device)"
   ]
  },
  {
   "cell_type": "code",
   "execution_count": null,
   "metadata": {},
   "outputs": [],
   "source": [
    "optimizer = torch.optim.LBFGS(pinn.parameters(), lr=1, line_search_fn=\"strong_wolfe\")\n",
    "# optimizer = torch.optim.Adam(pinn.parameters(), lr=1e-4)"
   ]
  },
  {
   "cell_type": "code",
   "execution_count": null,
   "metadata": {},
   "outputs": [],
   "source": [
    "epochs = config[\"epochs\"]\n",
    "checkpoint_epochs = config[\"checkpoint_epochs\"]\n",
    "\n",
    "Nf = config[\"Nf\"]   # num of collocation points -> pde evaluation\n",
    "Nb = config[\"Nb\"]   # num of points to evaluate boundary conditions\n",
    "Nw = config[\"Nw\"]   # num of points of the surface of the front wing to evaluate boundary conditions\n",
    "Nu = config[\"Nu\"]   # num of points of real data"
   ]
  },
  {
   "cell_type": "code",
   "execution_count": null,
   "metadata": {},
   "outputs": [],
   "source": [
    "pinn.train_pinn(\n",
    "    epochs=epochs, \n",
    "    optimizer=optimizer, \n",
    "    s_df=wing_df, \n",
    "    u_df=measurements_df, \n",
    "    Nf=Nf, \n",
    "    Nb=Nb, \n",
    "    Ns=Nw, \n",
    "    Nu=Nu, \n",
    "    x_max=x_max, \n",
    "    y_max=y_max, \n",
    "    z_max=z_max, \n",
    "    in_velocity=in_velocity, \n",
    "    mu=mu, \n",
    "    rho=rho, \n",
    "    device=device, \n",
    "    checkpoint_epochs=checkpoint_epochs, \n",
    "    model_dir=model_dir,\n",
    "    c2=100, c3=100, c4=100, c5=100, c6=100, c8=100, c9=100,\n",
    ")"
   ]
  },
  {
   "cell_type": "code",
   "execution_count": null,
   "metadata": {},
   "outputs": [],
   "source": [
    "# pinn, optimizer = pinn.load_checkpoint_num(optimizer, model_dir, model_name, 2000)"
   ]
  }
 ],
 "metadata": {
  "kernelspec": {
   "display_name": "Python 3",
   "language": "python",
   "name": "python3"
  },
  "language_info": {
   "codemirror_mode": {
    "name": "ipython",
    "version": 3
   },
   "file_extension": ".py",
   "mimetype": "text/x-python",
   "name": "python",
   "nbconvert_exporter": "python",
   "pygments_lexer": "ipython3",
   "version": "3.9.6"
  },
  "orig_nbformat": 4
 },
 "nbformat": 4,
 "nbformat_minor": 2
}
