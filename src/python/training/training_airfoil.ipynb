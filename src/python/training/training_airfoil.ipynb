{
 "cells": [
  {
   "cell_type": "markdown",
   "metadata": {},
   "source": [
    "# Physics Informed Neural Networks <br> Airfoil Aerodymanics"
   ]
  },
  {
   "cell_type": "markdown",
   "metadata": {},
   "source": [
    "## PINN"
   ]
  },
  {
   "cell_type": "code",
   "execution_count": null,
   "metadata": {},
   "outputs": [],
   "source": [
    "import os\n",
    "from dotenv import load_dotenv\n",
    "import sys"
   ]
  },
  {
   "cell_type": "code",
   "execution_count": null,
   "metadata": {},
   "outputs": [],
   "source": [
    "load_dotenv()\n",
    "\n",
    "lib_dir = os.environ.get(\"LOCAL_LIB_DIR\")\n",
    "sys.path.append(lib_dir)\n",
    "\n",
    "data_dir_airfoil = os.environ.get(\"LOCAL_DATA_DIR_AIRFOIL\")\n",
    "model_dir_airfoil = os.path.join(data_dir_airfoil, \"models\")"
   ]
  },
  {
   "cell_type": "code",
   "execution_count": null,
   "metadata": {},
   "outputs": [],
   "source": [
    "import torch\n",
    "import yaml\n",
    "from airfoil_pinn import AirfoilPINN\n",
    "from naca4digit_airfoil import Naca4DigitAirfoil\n",
    "import utils"
   ]
  },
  {
   "cell_type": "code",
   "execution_count": null,
   "metadata": {},
   "outputs": [],
   "source": [
    "device = utils.get_device()\n",
    "# device = \"cpu\"\n",
    "print(f\"Device: {device}\")"
   ]
  },
  {
   "cell_type": "code",
   "execution_count": null,
   "metadata": {},
   "outputs": [],
   "source": [
    "with open(\"config_airfoil.yaml\", 'r') as file:\n",
    "    config = yaml.safe_load(file)"
   ]
  },
  {
   "cell_type": "code",
   "execution_count": null,
   "metadata": {},
   "outputs": [],
   "source": [
    "# Air Density (rho)\n",
    "# Air Dynamic viscosity (mu)\n",
    "rho = config[\"rho\"]\n",
    "mu = config[\"mu\"]\n",
    "\n",
    "# m/s\n",
    "in_velocity = config[\"in_velocity\"]\n",
    "\n",
    "# Domain limits\n",
    "x_min = config[\"x_min\"]\n",
    "y_min = config[\"y_min\"]\n",
    "x_max = config[\"x_max\"]\n",
    "y_max = config[\"y_max\"]"
   ]
  },
  {
   "cell_type": "code",
   "execution_count": null,
   "metadata": {},
   "outputs": [],
   "source": [
    "# Define airfoil parameters (example: NACA 2412)\n",
    "chord = 1.0\n",
    "m = 0.02  # maximum camber\n",
    "p = 0.4   # position of maximum camber\n",
    "t = 0.12  # maximum thickness\n",
    "num_points = 100\n",
    "\n",
    "airfoil = Naca4DigitAirfoil(chord, m, p, t)"
   ]
  },
  {
   "cell_type": "code",
   "execution_count": null,
   "metadata": {},
   "outputs": [],
   "source": [
    "hidden_units = config[\"hidden_units\"]\n",
    "\n",
    "pinn = AirfoilPINN(hidden_units, airfoil).to(device)"
   ]
  },
  {
   "cell_type": "code",
   "execution_count": null,
   "metadata": {},
   "outputs": [],
   "source": [
    "optimizer = torch.optim.LBFGS(pinn.parameters(), lr=1, line_search_fn=\"strong_wolfe\")\n",
    "# optimizer = torch.optim.Adam(pinn.parameters(), lr=5e-4)\n",
    "# optimizer = torch.optim.Adam(pinn.parameters(), lr=1e-6)\n",
    "# optimizer = torch.optim.Adam(pinn.parameters())"
   ]
  },
  {
   "cell_type": "code",
   "execution_count": null,
   "metadata": {},
   "outputs": [],
   "source": [
    "epochs = config[\"epochs\"]\n",
    "checkpoint_epochs = config[\"checkpoint_epochs\"]\n",
    "\n",
    "Nf = config[\"Nf\"]   # num of collocation points -> pde evaluation\n",
    "Nb = config[\"Nb\"]   # num of points to evaluate boundary conditions\n",
    "Ns = config[\"Ns\"]   # num of points of the surface of the airfoil to evaluate boundary conditions\n",
    "Nin = config[\"Nin\"] # num of points inside the airfoil to evaluate boundary conditions"
   ]
  },
  {
   "cell_type": "code",
   "execution_count": null,
   "metadata": {},
   "outputs": [],
   "source": [
    "pinn.train_pinn(\n",
    "  epochs=epochs, \n",
    "  optimizer=optimizer, \n",
    "  Nf=Nf, \n",
    "  Nb=Nb, \n",
    "  Ns=Ns, \n",
    "  Nin=Nin,\n",
    "  x_min=x_min, \n",
    "  y_min=y_min, \n",
    "  x_max=x_max, \n",
    "  y_max=y_max, \n",
    "  in_velocity=in_velocity, \n",
    "  mu=mu, \n",
    "  rho=rho, \n",
    "  device=device, \n",
    "  checkpoint_epochs=checkpoint_epochs, \n",
    "  model_dir=model_dir_airfoil, \n",
    ")"
   ]
  },
  {
   "cell_type": "code",
   "execution_count": null,
   "metadata": {},
   "outputs": [],
   "source": [
    "pinn.plot_learning_curves(output_dir=model_dir_airfoil)"
   ]
  }
 ],
 "metadata": {
  "kernelspec": {
   "display_name": "Python 3",
   "language": "python",
   "name": "python3"
  },
  "language_info": {
   "codemirror_mode": {
    "name": "ipython",
    "version": 3
   },
   "file_extension": ".py",
   "mimetype": "text/x-python",
   "name": "python",
   "nbconvert_exporter": "python",
   "pygments_lexer": "ipython3",
   "version": "3.9.6"
  },
  "orig_nbformat": 4
 },
 "nbformat": 4,
 "nbformat_minor": 2
}
