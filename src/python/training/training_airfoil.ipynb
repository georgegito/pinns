{
 "cells": [
  {
   "cell_type": "markdown",
   "metadata": {},
   "source": [
    "# Physics Informed Neural Networks <br> Airfoil Aerodymanics"
   ]
  },
  {
   "cell_type": "markdown",
   "metadata": {},
   "source": [
    "## PINN"
   ]
  },
  {
   "cell_type": "code",
   "execution_count": null,
   "metadata": {},
   "outputs": [],
   "source": [
    "import os\n",
    "from dotenv import load_dotenv\n",
    "import sys"
   ]
  },
  {
   "cell_type": "code",
   "execution_count": null,
   "metadata": {},
   "outputs": [],
   "source": [
    "load_dotenv()\n",
    "\n",
    "lib_dir = os.environ.get(\"LOCAL_LIB_DIR\")\n",
    "sys.path.append(lib_dir)\n",
    "\n",
    "data_dir_airfoil = os.environ.get(\"LOCAL_DATA_DIR_AIRFOIL\")\n",
    "model_dir_airfoil = os.path.join(data_dir_airfoil, \"models\")"
   ]
  },
  {
   "cell_type": "code",
   "execution_count": null,
   "metadata": {},
   "outputs": [],
   "source": [
    "import torch\n",
    "import yaml\n",
    "from airfoil_pinn import AirfoilPINN\n",
    "from naca4digit_airfoil import Naca4DigitAirfoil\n",
    "import utils\n",
    "import matplotlib.pyplot as plt"
   ]
  },
  {
   "cell_type": "code",
   "execution_count": null,
   "metadata": {},
   "outputs": [],
   "source": [
    "# device = utils.get_device()\n",
    "device = \"cpu\"\n",
    "print(f\"Device: {device}\")"
   ]
  },
  {
   "cell_type": "code",
   "execution_count": null,
   "metadata": {},
   "outputs": [],
   "source": [
    "with open(\"config_airfoil.yaml\", 'r') as file:\n",
    "    config = yaml.safe_load(file)"
   ]
  },
  {
   "cell_type": "code",
   "execution_count": null,
   "metadata": {},
   "outputs": [],
   "source": [
    "rho = config[\"rho\"]\n",
    "mu = config[\"mu\"]\n",
    "\n",
    "in_velocity = config[\"in_velocity\"]\n",
    "out_pressure = config[\"out_pressure\"]\n",
    "\n",
    "# Domain limits\n",
    "domain1 = utils.Domain2D(\n",
    "        x_min=config[\"domain1\"][\"x_min\"], \n",
    "        x_max=config[\"domain1\"][\"x_max\"], \n",
    "        y_min=config[\"domain1\"][\"y_min\"],\n",
    "        y_max=config[\"domain1\"][\"y_max\"])\n",
    "\n",
    "domain2 = utils.Domain2D(\n",
    "        x_min=config[\"domain2\"][\"x_min\"], \n",
    "        x_max=config[\"domain2\"][\"x_max\"], \n",
    "        y_min=config[\"domain2\"][\"y_min\"],\n",
    "        y_max=config[\"domain2\"][\"y_max\"])"
   ]
  },
  {
   "cell_type": "code",
   "execution_count": null,
   "metadata": {},
   "outputs": [],
   "source": [
    "# Define airfoil parameters (example: NACA 2412)\n",
    "chord = 1.0\n",
    "m = 0.02  # maximum camber\n",
    "p = 0.4   # position of maximum camber\n",
    "t = 0.12  # maximum thickness\n",
    "num_points = 100\n",
    "angle_of_attack = 10\n",
    "\n",
    "airfoil = Naca4DigitAirfoil(chord, m, p, t, alpha_deg=angle_of_attack)"
   ]
  },
  {
   "cell_type": "code",
   "execution_count": null,
   "metadata": {},
   "outputs": [],
   "source": [
    "hidden_units = config[\"hidden_units\"]\n",
    "\n",
    "if config[\"activation_function\"] == \"tanh\":\n",
    "    activation_function = torch.tanh\n",
    "elif config[\"activation_function\"] == \"sigmoid\":\n",
    "    activation_function = torch.sigmoid\n",
    "else:\n",
    "    raise ValueError(\"Activation function not recognized\")\n",
    "\n",
    "pinn = AirfoilPINN(hidden_units, activation_function, airfoil).to(device)"
   ]
  },
  {
   "cell_type": "code",
   "execution_count": null,
   "metadata": {},
   "outputs": [],
   "source": [
    "if config[\"optimizer\"][\"name\"] == \"adam\":\n",
    "    optimizer = torch.optim.Adam(pinn.parameters(), lr=config[\"optimizer\"][\"lr\"])\n",
    "elif config[\"optimizer\"][\"name\"] == \"lbfgs\":\n",
    "    optimizer = torch.optim.LBFGS(pinn.parameters(), lr=config[\"optimizer\"][\"lr\"], line_search_fn=\"strong_wolfe\")\n",
    "else:\n",
    "    raise ValueError(\"Optimizer not recognized\")"
   ]
  },
  {
   "cell_type": "code",
   "execution_count": null,
   "metadata": {},
   "outputs": [],
   "source": [
    "epochs = config[\"epochs\"]\n",
    "checkpoint_epochs = config[\"checkpoint_epochs\"]\n",
    "\n",
    "Nf = config[\"Nf\"]   # num of collocation points -> pde evaluation\n",
    "Nb = config[\"Nb\"]   # num of points to evaluate boundary conditions\n",
    "Ns = config[\"Ns\"]   # num of points of the surface of the airfoil to evaluate boundary conditions\n",
    "Nin = config[\"Nin\"] # num of points inside the airfoil to evaluate boundary conditions"
   ]
  },
  {
   "cell_type": "code",
   "execution_count": null,
   "metadata": {},
   "outputs": [],
   "source": [
    "fig, ax = plt.subplots(figsize=(12, 7))\n",
    "airfoil.plot(ax=ax)\n",
    "domain1.plot(ax=ax)\n",
    "domain2.plot(ax=ax, color=\"red\")\n",
    "\n",
    "plt.show()"
   ]
  },
  {
   "cell_type": "code",
   "execution_count": null,
   "metadata": {},
   "outputs": [],
   "source": [
    "pinn.train_pinn(\n",
    "  epochs=epochs, \n",
    "  optimizer=optimizer, \n",
    "  Nf1=Nf, \n",
    "  Nf2=Nf, \n",
    "  Nb=Nb, \n",
    "  Ns=Ns, \n",
    "  Nin=Nin,\n",
    "  domain1=domain1,\n",
    "  domain2=domain2,\n",
    "  in_velocity=in_velocity, \n",
    "  out_pressure=out_pressure, \n",
    "  mu=mu, \n",
    "  rho=rho, \n",
    "  device=device, \n",
    "  checkpoint_epochs=checkpoint_epochs, \n",
    "  model_dir=model_dir_airfoil, \n",
    ")"
   ]
  },
  {
   "cell_type": "code",
   "execution_count": null,
   "metadata": {},
   "outputs": [],
   "source": [
    "pinn.plot_learning_curves(output_dir=model_dir_airfoil)"
   ]
  }
 ],
 "metadata": {
  "kernelspec": {
   "display_name": "Python 3",
   "language": "python",
   "name": "python3"
  },
  "language_info": {
   "codemirror_mode": {
    "name": "ipython",
    "version": 3
   },
   "file_extension": ".py",
   "mimetype": "text/x-python",
   "name": "python",
   "nbconvert_exporter": "python",
   "pygments_lexer": "ipython3",
   "version": "3.9.6"
  },
  "orig_nbformat": 4
 },
 "nbformat": 4,
 "nbformat_minor": 2
}
