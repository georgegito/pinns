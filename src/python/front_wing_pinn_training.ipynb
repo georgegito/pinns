{
 "cells": [
  {
   "cell_type": "markdown",
   "metadata": {},
   "source": [
    "# Physics Informed Neural Networks <br> F1 Car Front Wing Aerodymanics"
   ]
  },
  {
   "cell_type": "markdown",
   "metadata": {},
   "source": [
    "## PINN"
   ]
  },
  {
   "cell_type": "code",
   "execution_count": 1,
   "metadata": {},
   "outputs": [],
   "source": [
    "import pandas as pd\n",
    "import torch\n",
    "from pinn import PINN\n",
    "import os"
   ]
  },
  {
   "cell_type": "code",
   "execution_count": 2,
   "metadata": {},
   "outputs": [],
   "source": [
    "data_dir = \"/Users/ggito/repos/pinns/data/front_wing\"\n",
    "model_dir = os.path.join(data_dir, \"models\")\n",
    "\n",
    "points_filename = \"points_final.csv\"\n",
    "norms_filename = \"norms_final.csv\"\n",
    "measurements_filename = \"measurements.csv\""
   ]
  },
  {
   "cell_type": "code",
   "execution_count": 3,
   "metadata": {},
   "outputs": [
    {
     "name": "stdout",
     "output_type": "stream",
     "text": [
      "mps\n"
     ]
    }
   ],
   "source": [
    "if torch.backends.mps.is_available():\n",
    "  device = torch.device(\"mps\")\n",
    "elif torch.cuda.is_available():\n",
    "  device = torch.device(\"cuda\")\n",
    "else:\n",
    "  print(\"GPU device not found.\")\n",
    "\n",
    "print(device)"
   ]
  },
  {
   "cell_type": "code",
   "execution_count": 4,
   "metadata": {},
   "outputs": [],
   "source": [
    "wing_df = pd.read_csv(os.path.join(data_dir, points_filename))\n",
    "norm_df = pd.read_csv(os.path.join(data_dir, norms_filename))\n",
    "measurements_df = pd.read_csv(os.path.join(data_dir, measurements_filename))"
   ]
  },
  {
   "cell_type": "code",
   "execution_count": 5,
   "metadata": {},
   "outputs": [],
   "source": [
    "# Density (rho): 1.2041kg/m^3\n",
    "# Dynamic viscosity (mu): 1.81e-5 kg/m.s\n",
    "rho = 1\n",
    "mu = 1\n",
    "\n",
    "# m/s\n",
    "in_velocity = 1\n",
    "\n",
    "# Domain limits\n",
    "x_max = 1\n",
    "y_max = 1\n",
    "z_max = 1"
   ]
  },
  {
   "cell_type": "code",
   "execution_count": 6,
   "metadata": {},
   "outputs": [],
   "source": [
    "input_dim = 3\n",
    "output_dim = 4\n",
    "hidden_units = [1000, 1000, 1000]\n",
    "\n",
    "model_name = \"v13\"\n",
    "\n",
    "pinn = PINN(input_dim, output_dim, hidden_units, model_name).to(device)"
   ]
  },
  {
   "cell_type": "code",
   "execution_count": 7,
   "metadata": {},
   "outputs": [],
   "source": [
    "optimizer = torch.optim.LBFGS(pinn.parameters(), lr=1)\n",
    "\n",
    "epochs = 2000\n",
    "checkpoint_epochs = 10\n",
    "\n",
    "Nf = 100   # num of collocation points -> pde evaluation\n",
    "Nb = 100   # num of points to evaluate boundary conditions\n",
    "Nw = 100    # num of points of the surface of the front wing to evaluate boundary conditions\n",
    "Nu = 35    # num of points of real data"
   ]
  },
  {
   "cell_type": "code",
   "execution_count": 8,
   "metadata": {},
   "outputs": [
    {
     "name": "stdout",
     "output_type": "stream",
     "text": [
      "=======================================================\n",
      "PINN(\n",
      "  (layers): ModuleList(\n",
      "    (0): Linear(in_features=3, out_features=1000, bias=True)\n",
      "    (1-2): 2 x Linear(in_features=1000, out_features=1000, bias=True)\n",
      "    (3): Linear(in_features=1000, out_features=4, bias=True)\n",
      "  )\n",
      ")\n",
      "Model name: v13\n",
      "Number of epochs: 2000\n",
      "Number of collocation points Nf: 100\n",
      "Number of boundary condition points Nb: 100\n",
      "Number of object surface points Ns: 100\n",
      "Number of real data points Nu: 35\n",
      "X max: 1, Y max: 1, Z max: 1\n",
      "mu: 1, rho: 1\n",
      "c1: 1.0, c2: 1.0, c3: 1.0, c4: 1.0, c5: 1.0, c6: 1.0, c7: 1.0, c8: 1.0, c9: 1.0, c10: 1.0\n",
      "Inflow velocity: 1\n",
      "Device: mps\n",
      "Checkpoint epochs: 10\n",
      "Model directory: /Users/ggito/repos/pinns/data/front_wing/models\n",
      "=======================================================\n",
      "=> converting Nf, Nb, Ns, Nu to nearest power of 2...\n",
      "Nf: 128, Nb: 128, Ns: 128, Nu: 32\n",
      "=======================================================\n",
      "=> starting training...\n",
      "=======================================================\n",
      "Epoch: 1, Total Loss: 8.3141, PDE Loss - Navier Stoker: 0.0062, PDE Loss - Poisson: 0.4384, BC Inlet Loss: 6.3811, BC Outlet Loss: 0.0009, BC Left Loss: 0.0000, BC Right Loss: 0.0000, BC Down Loss: 0.0663, BC Up Loss: 0.1211, No-Slip Loss: 1.2958, Real-Data Loss: 0.0000, Impermeability Loss: 0.0043\n",
      "Epoch: 2, Total Loss: 8.3079, PDE Loss - Navier Stoker: 0.0055, PDE Loss - Poisson: 0.4313, BC Inlet Loss: 6.3462, BC Outlet Loss: 0.0002, BC Left Loss: 0.0000, BC Right Loss: 0.0000, BC Down Loss: 0.0698, BC Up Loss: 0.1218, No-Slip Loss: 1.3283, Real-Data Loss: 0.0000, Impermeability Loss: 0.0047\n",
      "Epoch: 3, Total Loss: 8.4223, PDE Loss - Navier Stoker: 0.0062, PDE Loss - Poisson: 0.4452, BC Inlet Loss: 6.4273, BC Outlet Loss: 0.0006, BC Left Loss: 0.0000, BC Right Loss: 0.0000, BC Down Loss: 0.0700, BC Up Loss: 0.1192, No-Slip Loss: 1.3481, Real-Data Loss: 0.0000, Impermeability Loss: 0.0057\n",
      "Epoch: 4, Total Loss: 8.0312, PDE Loss - Navier Stoker: 0.0135, PDE Loss - Poisson: 0.4357, BC Inlet Loss: 6.1475, BC Outlet Loss: 0.0030, BC Left Loss: 0.0000, BC Right Loss: 0.0000, BC Down Loss: 0.0630, BC Up Loss: 0.0912, No-Slip Loss: 1.2721, Real-Data Loss: 0.0000, Impermeability Loss: 0.0052\n",
      "Epoch: 5, Total Loss: 7.9347, PDE Loss - Navier Stoker: 0.0096, PDE Loss - Poisson: 0.3301, BC Inlet Loss: 5.9185, BC Outlet Loss: 0.0109, BC Left Loss: 0.0000, BC Right Loss: 0.0000, BC Down Loss: 0.1188, BC Up Loss: 0.1095, No-Slip Loss: 1.4328, Real-Data Loss: 0.0000, Impermeability Loss: 0.0047\n",
      "Epoch: 6, Total Loss: 7.3479, PDE Loss - Navier Stoker: 0.0454, PDE Loss - Poisson: 0.4790, BC Inlet Loss: 5.2150, BC Outlet Loss: 0.0027, BC Left Loss: 0.0000, BC Right Loss: 0.0000, BC Down Loss: 0.2037, BC Up Loss: 0.1413, No-Slip Loss: 1.2559, Real-Data Loss: 0.0000, Impermeability Loss: 0.0049\n",
      "Epoch: 7, Total Loss: 7.5612, PDE Loss - Navier Stoker: 0.0753, PDE Loss - Poisson: 0.5700, BC Inlet Loss: 5.2065, BC Outlet Loss: 0.0053, BC Left Loss: 0.0000, BC Right Loss: 0.0000, BC Down Loss: 0.2356, BC Up Loss: 0.0904, No-Slip Loss: 1.3730, Real-Data Loss: 0.0000, Impermeability Loss: 0.0051\n",
      "Epoch: 8, Total Loss: 7.5651, PDE Loss - Navier Stoker: 0.0915, PDE Loss - Poisson: 0.6592, BC Inlet Loss: 5.0195, BC Outlet Loss: 0.0134, BC Left Loss: 0.0000, BC Right Loss: 0.0000, BC Down Loss: 0.2724, BC Up Loss: 0.0916, No-Slip Loss: 1.4115, Real-Data Loss: 0.0000, Impermeability Loss: 0.0059\n",
      "Epoch: 9, Total Loss: 7.5318, PDE Loss - Navier Stoker: 0.1269, PDE Loss - Poisson: 0.7247, BC Inlet Loss: 4.8356, BC Outlet Loss: 0.0198, BC Left Loss: 0.0000, BC Right Loss: 0.0000, BC Down Loss: 0.3418, BC Up Loss: 0.0694, No-Slip Loss: 1.4074, Real-Data Loss: 0.0000, Impermeability Loss: 0.0063\n",
      "Epoch: 10, Total Loss: 7.4017, PDE Loss - Navier Stoker: 0.1286, PDE Loss - Poisson: 0.7381, BC Inlet Loss: 4.7382, BC Outlet Loss: 0.0169, BC Left Loss: 0.0000, BC Right Loss: 0.0000, BC Down Loss: 0.3422, BC Up Loss: 0.0819, No-Slip Loss: 1.3513, Real-Data Loss: 0.0000, Impermeability Loss: 0.0045\n",
      "=> saving checkpoint '/Users/ggito/repos/pinns/data/front_wing/models/v13/10.pt'\n",
      "Epoch: 11, Total Loss: 7.4754, PDE Loss - Navier Stoker: 0.1413, PDE Loss - Poisson: 0.7571, BC Inlet Loss: 4.7403, BC Outlet Loss: 0.0190, BC Left Loss: 0.0000, BC Right Loss: 0.0000, BC Down Loss: 0.3238, BC Up Loss: 0.0744, No-Slip Loss: 1.4154, Real-Data Loss: 0.0000, Impermeability Loss: 0.0040\n"
     ]
    }
   ],
   "source": [
    "pinn.train_pinn(\n",
    "    epochs=epochs, \n",
    "    optimizer=optimizer, \n",
    "    s_df=wing_df, \n",
    "    n_df=norm_df, \n",
    "    u_df=measurements_df, \n",
    "    Nf=Nf, \n",
    "    Nb=Nb, \n",
    "    Ns=Nw, \n",
    "    Nu=Nu, \n",
    "    x_max=x_max, \n",
    "    y_max=y_max, \n",
    "    z_max=z_max, \n",
    "    in_velocity=in_velocity, \n",
    "    mu=mu, \n",
    "    rho=rho, \n",
    "    device=device, \n",
    "    checkpoint_epochs=checkpoint_epochs, \n",
    "    model_dir=model_dir)"
   ]
  },
  {
   "cell_type": "code",
   "execution_count": null,
   "metadata": {},
   "outputs": [],
   "source": [
    "# pinn, optimizer = pinn.load_checkpoint_num(optimizer, model_dir, model_name, 50)"
   ]
  }
 ],
 "metadata": {
  "kernelspec": {
   "display_name": "Python 3",
   "language": "python",
   "name": "python3"
  },
  "language_info": {
   "codemirror_mode": {
    "name": "ipython",
    "version": 3
   },
   "file_extension": ".py",
   "mimetype": "text/x-python",
   "name": "python",
   "nbconvert_exporter": "python",
   "pygments_lexer": "ipython3",
   "version": "3.9.6"
  },
  "orig_nbformat": 4
 },
 "nbformat": 4,
 "nbformat_minor": 2
}
