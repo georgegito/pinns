{
 "cells": [
  {
   "cell_type": "markdown",
   "metadata": {},
   "source": [
    "# Physics Informed Neural Networks <br> F1 Car Front Wing Aerodymanics"
   ]
  },
  {
   "cell_type": "markdown",
   "metadata": {},
   "source": [
    "## PINN"
   ]
  },
  {
   "cell_type": "code",
   "execution_count": 1,
   "metadata": {},
   "outputs": [],
   "source": [
    "import pandas as pd\n",
    "import torch\n",
    "from pinn import PINN\n",
    "import os"
   ]
  },
  {
   "cell_type": "code",
   "execution_count": 2,
   "metadata": {},
   "outputs": [],
   "source": [
    "data_dir = \"/Users/ggito/repos/pinns/data/front_wing\"\n",
    "model_dir = os.path.join(data_dir, \"models\")\n",
    "\n",
    "points_filename = \"points_final.csv\"\n",
    "norms_filename = \"norms_final.csv\""
   ]
  },
  {
   "cell_type": "code",
   "execution_count": 3,
   "metadata": {},
   "outputs": [
    {
     "name": "stdout",
     "output_type": "stream",
     "text": [
      "mps\n"
     ]
    }
   ],
   "source": [
    "if torch.backends.mps.is_available():\n",
    "  device = torch.device(\"mps\")\n",
    "elif torch.cuda.is_available():\n",
    "  device = torch.device(\"cuda\")\n",
    "else:\n",
    "  print(\"GPU device not found.\")\n",
    "\n",
    "print(device)"
   ]
  },
  {
   "cell_type": "code",
   "execution_count": 4,
   "metadata": {},
   "outputs": [],
   "source": [
    "wing_df = pd.read_csv(os.path.join(data_dir, points_filename))\n",
    "# norm_df = pd.read_csv(os.path.join(in_dir, norms_filename))"
   ]
  },
  {
   "cell_type": "code",
   "execution_count": 5,
   "metadata": {},
   "outputs": [],
   "source": [
    "# Density (rho): 1.2041kg/m^3\n",
    "# Dynamic viscosity (mu): 1.81e-5 kg/m.s\n",
    "rho = 1\n",
    "mu = 1\n",
    "\n",
    "# m/s\n",
    "in_velocity = 1\n",
    "\n",
    "# Domain limits\n",
    "x_max = 1\n",
    "y_max = 1\n",
    "z_max = 1\n",
    "t_max = 2"
   ]
  },
  {
   "cell_type": "code",
   "execution_count": 6,
   "metadata": {},
   "outputs": [],
   "source": [
    "input_dim = 4\n",
    "output_dim = 4\n",
    "# hidden_units = [2058, 2058, 2058, 2058, 2058]\n",
    "# hidden_units = [1024, 1024, 1024, 1024, 1024]\n",
    "hidden_units = [2058, 2058, 2058]\n",
    "# hidden_units = [4, 4, 4]\n",
    "\n",
    "model_name = \"v8\"\n",
    "\n",
    "pinn = PINN(input_dim, output_dim, hidden_units, model_name).to(device)"
   ]
  },
  {
   "cell_type": "code",
   "execution_count": 7,
   "metadata": {},
   "outputs": [],
   "source": [
    "optimizer = torch.optim.LBFGS(pinn.parameters(), lr=1)\n",
    "\n",
    "epochs = 2000\n",
    "checkpoint_epochs = 10\n",
    "\n",
    "Nf = 500    # num of collocation points -> pde evaluation\n",
    "N0 = 500    # num of points to evaluate initial conditons\n",
    "Nb = 1500   # num of points to evaluate boundary conditions\n",
    "Nw = 500    # num of points of the surface of the front wing to evaluate boundary conditions"
   ]
  },
  {
   "cell_type": "code",
   "execution_count": 9,
   "metadata": {},
   "outputs": [
    {
     "name": "stdout",
     "output_type": "stream",
     "text": [
      "=======================================================\n",
      "PINN(\n",
      "  (layers): ModuleList(\n",
      "    (0): Linear(in_features=4, out_features=2058, bias=True)\n",
      "    (1-2): 2 x Linear(in_features=2058, out_features=2058, bias=True)\n",
      "    (3): Linear(in_features=2058, out_features=4, bias=True)\n",
      "  )\n",
      ")\n",
      "Model name: v8\n",
      "Number of epochs: 2000\n",
      "Number of collocation points Nf: 500\n",
      "Number of initial condition points N0: 500\n",
      "Number of boundary condition points Nb: 1500\n",
      "Number of object surface points Ns: 500\n",
      "X max: 1, Y max: 1, Z max: 1, T max: 2\n",
      "mu: 1, rho: 1\n",
      "c1: 1.0, c2: 1.0, c3: 1.0, c4: 1.0, c5: 1.0, c6: 1.0, c7: 1.0, c8: 1.0, c9: 1.0, c10: 1.0\n",
      "Inflow velocity: 1\n",
      "Device: mps\n",
      "Checkpoint epochs: 10\n",
      "Model directory: /Users/ggito/repos/pinns/data/front_wing/models\n",
      "=======================================================\n",
      "=> converting Nf, N0, Nb, Ns to nearest power of 2...\n",
      "Nf: 512, N0: 512, Nb: 2048, Ns: 512\n",
      "=======================================================\n",
      "=> starting training...\n",
      "=======================================================\n"
     ]
    }
   ],
   "source": [
    "pinn.train_pinn(\n",
    "    epochs=epochs, \n",
    "    optimizer=optimizer, \n",
    "    s_df=wing_df, \n",
    "    Nf=Nf, \n",
    "    N0=N0, \n",
    "    Nb=Nb, \n",
    "    Ns=Nw, \n",
    "    x_max=x_max, \n",
    "    y_max=y_max, \n",
    "    z_max=z_max, \n",
    "    t_max=t_max, \n",
    "    in_velocity=in_velocity, \n",
    "    mu=mu, \n",
    "    rho=rho, \n",
    "    device=device, \n",
    "    checkpoint_epochs=checkpoint_epochs, \n",
    "    model_dir=model_dir)"
   ]
  },
  {
   "cell_type": "code",
   "execution_count": 8,
   "metadata": {},
   "outputs": [
    {
     "name": "stdout",
     "output_type": "stream",
     "text": [
      "=> loading checkpoint '/Users/ggito/repos/pinns/data/front_wing/models/v8/40.pt'\n",
      "=> loaded checkpoint '/Users/ggito/repos/pinns/data/front_wing/models/v8/40.pt' (epoch 40)\n"
     ]
    }
   ],
   "source": [
    "pinn, optimizer = pinn.load_checkpoint_num(optimizer, model_dir, model_name, 40)"
   ]
  }
 ],
 "metadata": {
  "kernelspec": {
   "display_name": "Python 3",
   "language": "python",
   "name": "python3"
  },
  "language_info": {
   "codemirror_mode": {
    "name": "ipython",
    "version": 3
   },
   "file_extension": ".py",
   "mimetype": "text/x-python",
   "name": "python",
   "nbconvert_exporter": "python",
   "pygments_lexer": "ipython3",
   "version": "3.9.6"
  },
  "orig_nbformat": 4
 },
 "nbformat": 4,
 "nbformat_minor": 2
}
