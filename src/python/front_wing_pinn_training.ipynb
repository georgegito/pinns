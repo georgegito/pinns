{
 "cells": [
  {
   "cell_type": "markdown",
   "metadata": {},
   "source": [
    "# Physics Informed Neural Networks <br> F1 Car Front Wing Aerodymanics"
   ]
  },
  {
   "cell_type": "markdown",
   "metadata": {},
   "source": [
    "## PINN"
   ]
  },
  {
   "cell_type": "code",
   "execution_count": null,
   "metadata": {},
   "outputs": [],
   "source": [
    "import pandas as pd\n",
    "import torch\n",
    "from pinn import PINN\n",
    "import os"
   ]
  },
  {
   "cell_type": "code",
   "execution_count": null,
   "metadata": {},
   "outputs": [],
   "source": [
    "data_dir = \"/Users/ggito/repos/pinns/data/front_wing\"\n",
    "model_dir = os.path.join(data_dir, \"models\")\n",
    "\n",
    "points_filename = \"points_final.csv\"\n",
    "norms_filename = \"norms_final.csv\"\n",
    "measurements_filename = \"measurements.csv\""
   ]
  },
  {
   "cell_type": "code",
   "execution_count": null,
   "metadata": {},
   "outputs": [],
   "source": [
    "if torch.backends.mps.is_available():\n",
    "  device = torch.device(\"mps\")\n",
    "elif torch.cuda.is_available():\n",
    "  device = torch.device(\"cuda\")\n",
    "else:\n",
    "  print(\"GPU device not found.\")\n",
    "\n",
    "print(device)"
   ]
  },
  {
   "cell_type": "code",
   "execution_count": null,
   "metadata": {},
   "outputs": [],
   "source": [
    "wing_df = pd.read_csv(os.path.join(data_dir, points_filename))\n",
    "# norm_df = pd.read_csv(os.path.join(in_dir, norms_filename))\n",
    "measurements_df = pd.read_csv(os.path.join(data_dir, measurements_filename))"
   ]
  },
  {
   "cell_type": "code",
   "execution_count": null,
   "metadata": {},
   "outputs": [],
   "source": [
    "# Density (rho): 1.2041kg/m^3\n",
    "# Dynamic viscosity (mu): 1.81e-5 kg/m.s\n",
    "rho = 1\n",
    "mu = 1\n",
    "\n",
    "# m/s\n",
    "in_velocity = 1\n",
    "\n",
    "# Domain limits\n",
    "x_max = 1\n",
    "y_max = 1\n",
    "z_max = 1\n",
    "t_max = 2"
   ]
  },
  {
   "cell_type": "code",
   "execution_count": null,
   "metadata": {},
   "outputs": [],
   "source": [
    "input_dim = 4\n",
    "output_dim = 4\n",
    "hidden_units = [2000, 2000, 2000]\n",
    "\n",
    "model_name = \"v10\"\n",
    "\n",
    "pinn = PINN(input_dim, output_dim, hidden_units, model_name).to(device)"
   ]
  },
  {
   "cell_type": "code",
   "execution_count": null,
   "metadata": {},
   "outputs": [],
   "source": [
    "optimizer = torch.optim.LBFGS(pinn.parameters(), lr=1)\n",
    "\n",
    "epochs = 2000\n",
    "checkpoint_epochs = 10\n",
    "\n",
    "Nf = 500   # num of collocation points -> pde evaluation\n",
    "N0 = 500    # num of points to evaluate initial conditons\n",
    "Nb = 500   # num of points to evaluate boundary conditions\n",
    "Nw = 500    # num of points of the surface of the front wing to evaluate boundary conditions\n",
    "Nu = 35    # num of points of real data"
   ]
  },
  {
   "cell_type": "code",
   "execution_count": null,
   "metadata": {},
   "outputs": [],
   "source": [
    "pinn.train_pinn(\n",
    "    epochs=epochs, \n",
    "    optimizer=optimizer, \n",
    "    s_df=wing_df, \n",
    "    u_df=measurements_df, \n",
    "    Nf=Nf, \n",
    "    N0=N0, \n",
    "    Nb=Nb, \n",
    "    Ns=Nw, \n",
    "    Nu=Nu, \n",
    "    x_max=x_max, \n",
    "    y_max=y_max, \n",
    "    z_max=z_max, \n",
    "    t_max=t_max, \n",
    "    in_velocity=in_velocity, \n",
    "    mu=mu, \n",
    "    rho=rho, \n",
    "    device=device, \n",
    "    checkpoint_epochs=checkpoint_epochs, \n",
    "    model_dir=model_dir)"
   ]
  },
  {
   "cell_type": "code",
   "execution_count": null,
   "metadata": {},
   "outputs": [],
   "source": [
    "# pinn, optimizer = pinn.load_checkpoint_num(optimizer, model_dir, model_name, 10)"
   ]
  }
 ],
 "metadata": {
  "kernelspec": {
   "display_name": "Python 3",
   "language": "python",
   "name": "python3"
  },
  "language_info": {
   "codemirror_mode": {
    "name": "ipython",
    "version": 3
   },
   "file_extension": ".py",
   "mimetype": "text/x-python",
   "name": "python",
   "nbconvert_exporter": "python",
   "pygments_lexer": "ipython3",
   "version": "3.9.6"
  },
  "orig_nbformat": 4
 },
 "nbformat": 4,
 "nbformat_minor": 2
}
