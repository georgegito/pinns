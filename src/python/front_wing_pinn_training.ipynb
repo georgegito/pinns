{
 "cells": [
  {
   "cell_type": "markdown",
   "metadata": {},
   "source": [
    "# Physics Informed Neural Networks <br> F1 Car Front Wing Aerodymanics"
   ]
  },
  {
   "cell_type": "markdown",
   "metadata": {},
   "source": [
    "## PINN"
   ]
  },
  {
   "cell_type": "code",
   "execution_count": 1,
   "metadata": {},
   "outputs": [],
   "source": [
    "import numpy as np\n",
    "import pandas as pd\n",
    "import matplotlib.pyplot as plt\n",
    "import torch\n",
    "import csv\n",
    "from pinn import PINN\n",
    "import utils"
   ]
  },
  {
   "cell_type": "code",
   "execution_count": 2,
   "metadata": {},
   "outputs": [
    {
     "name": "stdout",
     "output_type": "stream",
     "text": [
      "              x         y         z\n",
      "0      0.440148  0.373950  0.203123\n",
      "1      0.713695  0.509429  0.155195\n",
      "2      0.451790  0.321569  0.152462\n",
      "3      0.032607  0.454912  0.208069\n",
      "4      0.750952  0.439930  0.213273\n",
      "...         ...       ...       ...\n",
      "19995  0.913177  0.582509  0.151195\n",
      "19996  0.115440  0.521203  0.128832\n",
      "19997  0.453917  0.334118  0.152462\n",
      "19998  0.556022  0.363779  0.201915\n",
      "19999  0.030382  0.430567  0.111402\n",
      "\n",
      "[20000 rows x 3 columns]\n",
      "              x         y         z\n",
      "0     -1.000000 -0.000293 -0.000429\n",
      "1     -0.283259 -0.649111 -0.705988\n",
      "2      0.000000  0.000000 -1.000000\n",
      "3     -0.974604  0.223384  0.015692\n",
      "4     -0.325352 -0.933390  0.151428\n",
      "...         ...       ...       ...\n",
      "19995 -0.018169 -0.132277  0.991046\n",
      "19996 -0.991501 -0.031098 -0.126326\n",
      "19997  0.000000  0.000000 -1.000000\n",
      "19998  1.000000 -0.000293 -0.000429\n",
      "19999 -0.730616  0.157085 -0.664473\n",
      "\n",
      "[20000 rows x 3 columns]\n"
     ]
    }
   ],
   "source": [
    "in_filepath = \"/Users/ggito/repos/pinns/data/\"\n",
    "points_filename = \"front_wing_points_final.csv\"\n",
    "norms_filename = \"front_wing_norms_final.csv\"\n",
    "\n",
    "wing_df = pd.read_csv(in_filepath + points_filename)\n",
    "norm_df = pd.read_csv(in_filepath + norms_filename)\n",
    "\n",
    "print(wing_df)\n",
    "print(norm_df)"
   ]
  },
  {
   "cell_type": "code",
   "execution_count": 3,
   "metadata": {},
   "outputs": [],
   "source": [
    "x_max = 1\n",
    "y_max = 1\n",
    "z_max = 1\n",
    "t_max = 1\n",
    "\n",
    "Nx = 10\n",
    "Ny = 10\n",
    "Nz = 10\n",
    "Nt = 10\n",
    "\n",
    "dx = x_max / (Nx - 1)\n",
    "dy = y_max / (Ny - 1)\n",
    "dz = z_max / (Nz - 1)\n",
    "dt = t_max / (Nt - 1)\n",
    "\n",
    "x_test = np.linspace(0, x_max, Nx)\n",
    "y_test = np.linspace(0, y_max, Ny)\n",
    "z_test = np.linspace(0, z_max, Nz)\n",
    "t_test = np.linspace(0, t_max, Nt)\n",
    "\n",
    "x_grid, y_grid, z_gripd, t_grid = np.meshgrid(x_test, y_test, z_test, t_test)"
   ]
  },
  {
   "cell_type": "code",
   "execution_count": 4,
   "metadata": {},
   "outputs": [
    {
     "name": "stdout",
     "output_type": "stream",
     "text": [
      "tensor([1.], device='mps:0')\n"
     ]
    }
   ],
   "source": [
    "input_dim = 4\n",
    "output_dim = 4\n",
    "# hidden_units = [32, 32, 32]\n",
    "# hidden_units = [64, 64, 64, 64]\n",
    "# hidden_units = [128, 128, 128, 128]\n",
    "# hidden_units = [256, 256, 256, 256]\n",
    "# hidden_units = [512, 512]\n",
    "# hidden_units = [1024, 1024, 1024]\n",
    "hidden_units = [1024, 1024, 1024, 1024]\n",
    "# hidden_units = [2048, 2048, 2048, 2048]\n",
    "# hidden_units = [20, 40, 80, 100, 100, 80, 40, 20]\n",
    "\n",
    "if torch.backends.mps.is_available():\n",
    "  device = torch.device(\"mps\")\n",
    "  x = torch.ones(1, device=device)\n",
    "  print(x)\n",
    "else:\n",
    "  print(\"MPS device not found.\")\n",
    "  device = \"cpu\"\n",
    "\n",
    "# device = \"cpu\"\n",
    "\n",
    "pinn = PINN(input_dim, output_dim, hidden_units).to(device)"
   ]
  },
  {
   "cell_type": "code",
   "execution_count": 5,
   "metadata": {},
   "outputs": [],
   "source": [
    "# optimizer = torch.optim.Adam(pinn.parameters(), lr=0.001)\n",
    "optimizer = torch.optim.LBFGS(pinn.parameters())\n",
    "\n",
    "epochs = 305\n",
    "Nf = 20000   # num of collocation points -> pde evaluation\n",
    "N0 = 20000   # num of points to evaluate initial conditons\n",
    "Nb = 20000   # num of points to evaluate boundary conditions\n",
    "Nw = 20000   # num of points of the surface of the front wing to evaluate boundary conditions\n",
    "\n",
    "# Density (rho): 1.2041kg/m^3\n",
    "# Dynamic viscosity (mu): 1.81e-5 kg/m.s\n",
    "rho = 1.2\n",
    "mu = 1.81e-5\n",
    "\n",
    "# m/s\n",
    "in_velocity = 20\n",
    "\n",
    "log_filepath = \"/Users/ggito/repos/pinns/data/log.csv\""
   ]
  },
  {
   "cell_type": "code",
   "execution_count": 6,
   "metadata": {},
   "outputs": [],
   "source": [
    "def sample_points_in_domain(min, max, num_of_samples):\n",
    "  return np.random.uniform(min, max, size=num_of_samples)"
   ]
  },
  {
   "cell_type": "code",
   "execution_count": 7,
   "metadata": {},
   "outputs": [],
   "source": [
    "def zeros(num):\n",
    "  return np.zeros(num)"
   ]
  },
  {
   "cell_type": "code",
   "execution_count": 8,
   "metadata": {},
   "outputs": [],
   "source": [
    "def ones(num):\n",
    "  return np.ones(num)"
   ]
  },
  {
   "cell_type": "code",
   "execution_count": 9,
   "metadata": {},
   "outputs": [],
   "source": [
    "def create_training_inputs(x_max, y_max, z_max, t_max, Nf, N0, Nb, Nw):\n",
    "  # TODO: use quasi monte carlo sampling\n",
    "  # collocation points\n",
    "  x_f = utils.tensor_from_array(sample_points_in_domain(0, x_max, Nf), device=device, requires_grad=True)\n",
    "  y_f = utils.tensor_from_array(sample_points_in_domain(0, y_max, Nf), device=device, requires_grad=True)\n",
    "  z_f = utils.tensor_from_array(sample_points_in_domain(0, z_max, Nf), device=device, requires_grad=True)\n",
    "  t_f = utils.tensor_from_array(sample_points_in_domain(0, t_max, Nf), device=device, requires_grad=True)\n",
    "  # xyzt_f = utils.stack_xyzt_tensors(x_f, y_f, z_f, t_f)\n",
    "\n",
    "  # initial condition points (t=0)\n",
    "  x0 = utils.tensor_from_array(sample_points_in_domain(0, x_max, N0), device=device, requires_grad=False)\n",
    "  y0 = utils.tensor_from_array(sample_points_in_domain(0, y_max, N0), device=device, requires_grad=False)\n",
    "  z0 = utils.tensor_from_array(sample_points_in_domain(0, z_max, N0), device=device, requires_grad=False)\n",
    "  t0 = utils.tensor_from_array(zeros(N0), device=device, requires_grad=False)\n",
    "  xyzt_0 = utils.stack_xyzt_tensors(x0, y0, z0, t0)\n",
    "\n",
    "  # boundary condition points (inflow, y=1)\n",
    "  x_b = utils.tensor_from_array(sample_points_in_domain(0, x_max, Nb), device=device, requires_grad=False)\n",
    "  y_b = utils.tensor_from_array(ones(Nb), device=device, requires_grad=False)\n",
    "  z_b = utils.tensor_from_array(sample_points_in_domain(0, z_max, Nb), device=device, requires_grad=False)\n",
    "  t_b = utils.tensor_from_array(sample_points_in_domain(0, t_max, Nb), device=device, requires_grad=False)\n",
    "  xyzt_b = utils.stack_xyzt_tensors(x_b, y_b, z_b, t_b)\n",
    "\n",
    "  # points & normal vectors on the surface of the wing\n",
    "  ## sample Nw wing points with the corresponding normals\n",
    "  sampled_indices = wing_df.sample(n=Nw).index\n",
    "\n",
    "  x_w, y_w, z_w = [utils.tensor_from_array(wing_df.loc[sampled_indices, col].values, device=device, requires_grad=False) for col in ['x', 'y', 'z']]\n",
    "  n_x, n_y, n_z = [utils.tensor_from_array(norm_df.loc[sampled_indices, col].values, device=device, requires_grad=False) for col in ['x', 'y', 'z']]\n",
    "  t_w = utils.tensor_from_array(sample_points_in_domain(0, t_max, Nw), device=device, requires_grad=False)\n",
    "\n",
    "  xyzt_w = utils.stack_xyzt_tensors(x_w, y_w, z_w, t_w)\n",
    "  n_xyz = utils.stack_xyz_tensors(n_x, n_y, n_z)\n",
    "\n",
    "  return (x_f, y_f, z_f, t_f, xyzt_0, xyzt_b, xyzt_w, n_xyz)"
   ]
  },
  {
   "cell_type": "code",
   "execution_count": 10,
   "metadata": {},
   "outputs": [],
   "source": [
    "out_filepath = \"/Users/ggito/repos/pinns/data/\"\n",
    "# torch.save(pinn, out_filepath + 'pinn10.pt')"
   ]
  },
  {
   "cell_type": "code",
   "execution_count": 11,
   "metadata": {},
   "outputs": [
    {
     "name": "stdout",
     "output_type": "stream",
     "text": [
      "Epoch: 0,\tTotal loss: 68.02820587158203,\tPDE loss: 1.9007532596588135,\tIC loss: 6.383991241455078,\tBC loss: 39.526371002197266,\tNo-slip loss: 20.21708869934082,\tImpermeability loss: 0\n",
      "Epoch: 1,\tTotal loss: 60.642738342285156,\tPDE loss: 0.4980859160423279,\tIC loss: 7.354363918304443,\tBC loss: 38.69352340698242,\tNo-slip loss: 14.096762657165527,\tImpermeability loss: 0\n",
      "Epoch: 2,\tTotal loss: 58.6119384765625,\tPDE loss: 0.04701992869377136,\tIC loss: 10.798709869384766,\tBC loss: 37.22823715209961,\tNo-slip loss: 10.537971496582031,\tImpermeability loss: 0\n",
      "Epoch: 3,\tTotal loss: 57.92830276489258,\tPDE loss: 0.18190434575080872,\tIC loss: 10.03573989868164,\tBC loss: 38.04023361206055,\tNo-slip loss: 9.670424461364746,\tImpermeability loss: 0\n",
      "Epoch: 4,\tTotal loss: 57.06977081298828,\tPDE loss: 0.19689522683620453,\tIC loss: 9.1410493850708,\tBC loss: 38.17107391357422,\tNo-slip loss: 9.560751914978027,\tImpermeability loss: 0\n",
      "Epoch: 5,\tTotal loss: 56.539791107177734,\tPDE loss: 0.392861008644104,\tIC loss: 8.882582664489746,\tBC loss: 38.494197845458984,\tNo-slip loss: 8.770150184631348,\tImpermeability loss: 0\n",
      "Epoch: 6,\tTotal loss: 56.2708740234375,\tPDE loss: 0.5008508563041687,\tIC loss: 8.719893455505371,\tBC loss: 38.60615158081055,\tNo-slip loss: 8.443977355957031,\tImpermeability loss: 0\n",
      "Epoch: 7,\tTotal loss: 55.15536117553711,\tPDE loss: 0.666835367679596,\tIC loss: 7.909900665283203,\tBC loss: 37.94833755493164,\tNo-slip loss: 8.630287170410156,\tImpermeability loss: 0\n",
      "Epoch: 8,\tTotal loss: 55.068241119384766,\tPDE loss: 0.7757531404495239,\tIC loss: 8.192641258239746,\tBC loss: 37.69927978515625,\tNo-slip loss: 8.400567054748535,\tImpermeability loss: 0\n",
      "Epoch: 9,\tTotal loss: 53.85031509399414,\tPDE loss: 1.3454312086105347,\tIC loss: 6.831655025482178,\tBC loss: 37.798954010009766,\tNo-slip loss: 7.874275207519531,\tImpermeability loss: 0\n",
      "Epoch: 10,\tTotal loss: 53.01742935180664,\tPDE loss: 1.013443946838379,\tIC loss: 7.016215801239014,\tBC loss: 36.54316329956055,\tNo-slip loss: 8.444605827331543,\tImpermeability loss: 0\n",
      "Epoch: 11,\tTotal loss: 51.5100212097168,\tPDE loss: 1.6160290241241455,\tIC loss: 5.864492416381836,\tBC loss: 37.860084533691406,\tNo-slip loss: 6.1694159507751465,\tImpermeability loss: 0\n",
      "Epoch: 12,\tTotal loss: 50.390045166015625,\tPDE loss: 1.786726713180542,\tIC loss: 6.010929107666016,\tBC loss: 36.48773956298828,\tNo-slip loss: 6.104650497436523,\tImpermeability loss: 0\n",
      "Epoch: 13,\tTotal loss: 50.254913330078125,\tPDE loss: 1.6953544616699219,\tIC loss: 5.921653747558594,\tBC loss: 36.648319244384766,\tNo-slip loss: 5.989587783813477,\tImpermeability loss: 0\n",
      "Epoch: 14,\tTotal loss: 49.16658020019531,\tPDE loss: 1.7668821811676025,\tIC loss: 6.030830383300781,\tBC loss: 36.03193664550781,\tNo-slip loss: 5.336931228637695,\tImpermeability loss: 0\n",
      "Epoch: 15,\tTotal loss: 48.98949432373047,\tPDE loss: 1.5230779647827148,\tIC loss: 5.749186992645264,\tBC loss: 36.04993438720703,\tNo-slip loss: 5.667295455932617,\tImpermeability loss: 0\n",
      "Epoch: 16,\tTotal loss: 48.61868667602539,\tPDE loss: 1.4979215860366821,\tIC loss: 5.428232192993164,\tBC loss: 36.46971130371094,\tNo-slip loss: 5.222820281982422,\tImpermeability loss: 0\n",
      "Epoch: 17,\tTotal loss: 47.96928024291992,\tPDE loss: 1.6947782039642334,\tIC loss: 5.184412002563477,\tBC loss: 35.998199462890625,\tNo-slip loss: 5.091892242431641,\tImpermeability loss: 0\n",
      "Epoch: 18,\tTotal loss: 47.94100570678711,\tPDE loss: 1.836525797843933,\tIC loss: 5.560610294342041,\tBC loss: 35.4834098815918,\tNo-slip loss: 5.060457706451416,\tImpermeability loss: 0\n",
      "Epoch: 19,\tTotal loss: 47.5367317199707,\tPDE loss: 1.8315777778625488,\tIC loss: 5.35972785949707,\tBC loss: 35.07653045654297,\tNo-slip loss: 5.268895626068115,\tImpermeability loss: 0\n",
      "Epoch: 20,\tTotal loss: 47.051605224609375,\tPDE loss: 1.9996637105941772,\tIC loss: 5.239391803741455,\tBC loss: 34.67782974243164,\tNo-slip loss: 5.134720802307129,\tImpermeability loss: 0\n",
      "Epoch: 21,\tTotal loss: 46.896427154541016,\tPDE loss: 2.0518076419830322,\tIC loss: 5.285687446594238,\tBC loss: 34.60771179199219,\tNo-slip loss: 4.951221942901611,\tImpermeability loss: 0\n",
      "Epoch: 22,\tTotal loss: 47.146034240722656,\tPDE loss: 2.125098943710327,\tIC loss: 5.543410778045654,\tBC loss: 34.80772018432617,\tNo-slip loss: 4.669802188873291,\tImpermeability loss: 0\n",
      "Epoch: 23,\tTotal loss: 46.31535339355469,\tPDE loss: 1.890901803970337,\tIC loss: 5.392714977264404,\tBC loss: 34.39804458618164,\tNo-slip loss: 4.633687973022461,\tImpermeability loss: 0\n",
      "Epoch: 24,\tTotal loss: 46.31782531738281,\tPDE loss: 1.6459157466888428,\tIC loss: 6.000703811645508,\tBC loss: 33.95124435424805,\tNo-slip loss: 4.719964504241943,\tImpermeability loss: 0\n",
      "Epoch: 25,\tTotal loss: 45.64640808105469,\tPDE loss: 1.8796718120574951,\tIC loss: 5.466987609863281,\tBC loss: 33.90596389770508,\tNo-slip loss: 4.393782615661621,\tImpermeability loss: 0\n",
      "Epoch: 26,\tTotal loss: 45.42127227783203,\tPDE loss: 1.8739089965820312,\tIC loss: 5.622053623199463,\tBC loss: 33.4976692199707,\tNo-slip loss: 4.427640438079834,\tImpermeability loss: 0\n",
      "Epoch: 27,\tTotal loss: 45.177513122558594,\tPDE loss: 1.9563637971878052,\tIC loss: 5.413411617279053,\tBC loss: 33.689571380615234,\tNo-slip loss: 4.118166446685791,\tImpermeability loss: 0\n",
      "Epoch: 28,\tTotal loss: 45.039608001708984,\tPDE loss: 1.8028022050857544,\tIC loss: 5.590286731719971,\tBC loss: 33.211891174316406,\tNo-slip loss: 4.434628486633301,\tImpermeability loss: 0\n",
      "Epoch: 29,\tTotal loss: 44.71757888793945,\tPDE loss: 1.6222528219223022,\tIC loss: 5.710944652557373,\tBC loss: 33.20854568481445,\tNo-slip loss: 4.175835132598877,\tImpermeability loss: 0\n",
      "Epoch: 30,\tTotal loss: 44.436283111572266,\tPDE loss: 1.7932682037353516,\tIC loss: 5.272850513458252,\tBC loss: 33.0802116394043,\tNo-slip loss: 4.289950847625732,\tImpermeability loss: 0\n",
      "Epoch: 31,\tTotal loss: 43.54204559326172,\tPDE loss: 1.9119900465011597,\tIC loss: 5.231658458709717,\tBC loss: 32.03280258178711,\tNo-slip loss: 4.365594387054443,\tImpermeability loss: 0\n",
      "Epoch: 32,\tTotal loss: 43.150909423828125,\tPDE loss: 2.145557165145874,\tIC loss: 5.5447163581848145,\tBC loss: 31.651273727416992,\tNo-slip loss: 3.8093626499176025,\tImpermeability loss: 0\n",
      "Epoch: 33,\tTotal loss: 42.58719253540039,\tPDE loss: 2.0411031246185303,\tIC loss: 4.911265850067139,\tBC loss: 31.6805419921875,\tNo-slip loss: 3.95428204536438,\tImpermeability loss: 0\n",
      "Epoch: 34,\tTotal loss: 42.11111068725586,\tPDE loss: 2.126883029937744,\tIC loss: 5.394860744476318,\tBC loss: 30.615806579589844,\tNo-slip loss: 3.9735615253448486,\tImpermeability loss: 0\n",
      "Epoch: 35,\tTotal loss: 40.98616409301758,\tPDE loss: 2.1578729152679443,\tIC loss: 5.183506011962891,\tBC loss: 29.453630447387695,\tNo-slip loss: 4.1911540031433105,\tImpermeability loss: 0\n",
      "Epoch: 36,\tTotal loss: 39.87511444091797,\tPDE loss: 2.3192732334136963,\tIC loss: 4.68358850479126,\tBC loss: 29.04554557800293,\tNo-slip loss: 3.82670521736145,\tImpermeability loss: 0\n",
      "Epoch: 37,\tTotal loss: 39.79344940185547,\tPDE loss: 2.915903091430664,\tIC loss: 4.5055108070373535,\tBC loss: 28.29136085510254,\tNo-slip loss: 4.080671787261963,\tImpermeability loss: 0\n",
      "Epoch: 38,\tTotal loss: 38.60638427734375,\tPDE loss: 2.868910789489746,\tIC loss: 4.220129489898682,\tBC loss: 27.440263748168945,\tNo-slip loss: 4.077081680297852,\tImpermeability loss: 0\n",
      "Epoch: 39,\tTotal loss: 37.61597442626953,\tPDE loss: 2.8832459449768066,\tIC loss: 4.035521507263184,\tBC loss: 26.98185920715332,\tNo-slip loss: 3.715348243713379,\tImpermeability loss: 0\n",
      "Epoch: 40,\tTotal loss: 37.19843673706055,\tPDE loss: 2.8637163639068604,\tIC loss: 4.0132246017456055,\tBC loss: 26.27067756652832,\tNo-slip loss: 4.0508198738098145,\tImpermeability loss: 0\n",
      "Epoch: 41,\tTotal loss: 35.87732696533203,\tPDE loss: 2.524031162261963,\tIC loss: 3.8917949199676514,\tBC loss: 25.565244674682617,\tNo-slip loss: 3.896254539489746,\tImpermeability loss: 0\n",
      "Epoch: 42,\tTotal loss: 35.17949295043945,\tPDE loss: 2.7227189540863037,\tIC loss: 3.912644624710083,\tBC loss: 24.56714630126953,\tNo-slip loss: 3.9769814014434814,\tImpermeability loss: 0\n",
      "Epoch: 43,\tTotal loss: 34.251731872558594,\tPDE loss: 2.4691061973571777,\tIC loss: 3.903116226196289,\tBC loss: 24.32466697692871,\tNo-slip loss: 3.554840087890625,\tImpermeability loss: 0\n",
      "Epoch: 44,\tTotal loss: 33.73463821411133,\tPDE loss: 2.887557029724121,\tIC loss: 3.552779197692871,\tBC loss: 23.689376831054688,\tNo-slip loss: 3.604924201965332,\tImpermeability loss: 0\n",
      "Epoch: 45,\tTotal loss: 33.154823303222656,\tPDE loss: 3.0634469985961914,\tIC loss: 3.286780595779419,\tBC loss: 23.274009704589844,\tNo-slip loss: 3.5305843353271484,\tImpermeability loss: 0\n",
      "Epoch: 46,\tTotal loss: 32.26118469238281,\tPDE loss: 2.8514022827148438,\tIC loss: 3.10817551612854,\tBC loss: 22.81786346435547,\tNo-slip loss: 3.4837443828582764,\tImpermeability loss: 0\n",
      "Epoch: 47,\tTotal loss: 31.811410903930664,\tPDE loss: 2.855717182159424,\tIC loss: 3.252424955368042,\tBC loss: 22.21942901611328,\tNo-slip loss: 3.4838383197784424,\tImpermeability loss: 0\n",
      "Epoch: 48,\tTotal loss: 31.15700340270996,\tPDE loss: 3.2497024536132812,\tIC loss: 3.343798875808716,\tBC loss: 21.48866844177246,\tNo-slip loss: 3.0748355388641357,\tImpermeability loss: 0\n",
      "Epoch: 49,\tTotal loss: 30.337257385253906,\tPDE loss: 3.0468428134918213,\tIC loss: 3.279313802719116,\tBC loss: 20.820831298828125,\tNo-slip loss: 3.1902694702148438,\tImpermeability loss: 0\n",
      "Epoch: 50,\tTotal loss: 29.158510208129883,\tPDE loss: 3.3643150329589844,\tIC loss: 3.1289780139923096,\tBC loss: 19.674428939819336,\tNo-slip loss: 2.9907896518707275,\tImpermeability loss: 0\n",
      "Epoch: 51,\tTotal loss: 28.454036712646484,\tPDE loss: 3.538181781768799,\tIC loss: 3.1615517139434814,\tBC loss: 18.655614852905273,\tNo-slip loss: 3.098687171936035,\tImpermeability loss: 0\n",
      "Epoch: 52,\tTotal loss: 28.04296875,\tPDE loss: 3.6066596508026123,\tIC loss: 3.2169535160064697,\tBC loss: 17.888343811035156,\tNo-slip loss: 3.331012725830078,\tImpermeability loss: 0\n",
      "Epoch: 53,\tTotal loss: 28.040782928466797,\tPDE loss: 3.6712646484375,\tIC loss: 3.036094903945923,\tBC loss: 18.262012481689453,\tNo-slip loss: 3.0714118480682373,\tImpermeability loss: 0\n",
      "Epoch: 54,\tTotal loss: 26.987287521362305,\tPDE loss: 3.664795398712158,\tIC loss: 3.168964385986328,\tBC loss: 17.23503875732422,\tNo-slip loss: 2.918489456176758,\tImpermeability loss: 0\n",
      "Epoch: 55,\tTotal loss: 26.907968521118164,\tPDE loss: 3.517498016357422,\tIC loss: 3.1584365367889404,\tBC loss: 17.33660888671875,\tNo-slip loss: 2.895426034927368,\tImpermeability loss: 0\n",
      "Epoch: 56,\tTotal loss: 26.406301498413086,\tPDE loss: 3.7609012126922607,\tIC loss: 3.020112991333008,\tBC loss: 16.760976791381836,\tNo-slip loss: 2.8643100261688232,\tImpermeability loss: 0\n",
      "Epoch: 57,\tTotal loss: 26.01706886291504,\tPDE loss: 3.621589183807373,\tIC loss: 3.1548006534576416,\tBC loss: 16.21625328063965,\tNo-slip loss: 3.024425506591797,\tImpermeability loss: 0\n",
      "Epoch: 58,\tTotal loss: 25.632875442504883,\tPDE loss: 3.4653537273406982,\tIC loss: 3.2154970169067383,\tBC loss: 16.01297378540039,\tNo-slip loss: 2.939051389694214,\tImpermeability loss: 0\n",
      "Epoch: 59,\tTotal loss: 25.410608291625977,\tPDE loss: 3.3883137702941895,\tIC loss: 3.0851247310638428,\tBC loss: 15.922991752624512,\tNo-slip loss: 3.0141773223876953,\tImpermeability loss: 0\n",
      "Epoch: 60,\tTotal loss: 25.108604431152344,\tPDE loss: 3.399062395095825,\tIC loss: 3.1783645153045654,\tBC loss: 15.599021911621094,\tNo-slip loss: 2.932154655456543,\tImpermeability loss: 0\n",
      "Epoch: 61,\tTotal loss: 24.88880157470703,\tPDE loss: 3.4795758724212646,\tIC loss: 3.3088538646698,\tBC loss: 15.2503662109375,\tNo-slip loss: 2.8500070571899414,\tImpermeability loss: 0\n",
      "Epoch: 62,\tTotal loss: 24.61747169494629,\tPDE loss: 3.741441249847412,\tIC loss: 3.214399576187134,\tBC loss: 14.88451862335205,\tNo-slip loss: 2.7771127223968506,\tImpermeability loss: 0\n",
      "Epoch: 63,\tTotal loss: 24.2025089263916,\tPDE loss: 3.8677587509155273,\tIC loss: 3.2821414470672607,\tBC loss: 14.248091697692871,\tNo-slip loss: 2.8045170307159424,\tImpermeability loss: 0\n",
      "Epoch: 64,\tTotal loss: 24.186206817626953,\tPDE loss: 3.764801502227783,\tIC loss: 3.276535749435425,\tBC loss: 14.355674743652344,\tNo-slip loss: 2.7891950607299805,\tImpermeability loss: 0\n"
     ]
    }
   ],
   "source": [
    "def closure(report_losses=False):\n",
    "  optimizer.zero_grad()\n",
    "\n",
    "  training_input = create_training_inputs(x_max, y_max, z_max, t_max, Nf, N0, Nb, Nw)\n",
    "\n",
    "  total_loss, pde_loss, ic_loss, bc_loss, no_slip_loss, imp_loss = pinn.loss(\n",
    "                  *training_input,\n",
    "                  in_velocity,\n",
    "                  mu, rho,\n",
    "                  1, 1, 1, 1, 1,\n",
    "                  log_filepath)\n",
    "\n",
    "  total_loss.backward()\n",
    "\n",
    "  if report_losses:\n",
    "      return total_loss, pde_loss, ic_loss, bc_loss, no_slip_loss, imp_loss\n",
    "  else:\n",
    "      return total_loss\n",
    "\n",
    "for epoch in range(epochs):\n",
    "  \n",
    "  optimizer.step(closure)\n",
    "\n",
    "  total_loss, pde_loss, ic_loss, bc_loss, no_slip_loss, imp_loss = closure(report_losses=True)\n",
    "  print(f'Epoch: {epoch},\\tTotal loss: {total_loss.item()},\\tPDE loss: {pde_loss.item()},\\tIC loss: {ic_loss.item()},\\tBC loss: {bc_loss.item()},\\tNo-slip loss: {no_slip_loss.item()},\\tImpermeability loss: {imp_loss.item()}')\n",
    "\n",
    "  if np.isnan(total_loss.item()):\n",
    "    break\n",
    "\n",
    "  if epoch % 100 == 0:\n",
    "    torch.save(pinn, out_filepath + 'pinn11.pt')"
   ]
  },
  {
   "cell_type": "code",
   "execution_count": null,
   "metadata": {},
   "outputs": [],
   "source": [
    "# out_filepath = \"/Users/ggito/repos/pinns/data/\"\n",
    "# torch.save(pinn, out_filepath + 'pinn10.pt')"
   ]
  },
  {
   "cell_type": "code",
   "execution_count": null,
   "metadata": {},
   "outputs": [],
   "source": [
    "# out_filepath = \"/Users/ggito/repos/pinns/data/\"\n",
    "# pinn = torch.load(out_filepath + 'pinn8.pt')\n",
    "# pinn.train()\n",
    "# # loaded_model.eval()"
   ]
  }
 ],
 "metadata": {
  "kernelspec": {
   "display_name": "Python 3",
   "language": "python",
   "name": "python3"
  },
  "language_info": {
   "codemirror_mode": {
    "name": "ipython",
    "version": 3
   },
   "file_extension": ".py",
   "mimetype": "text/x-python",
   "name": "python",
   "nbconvert_exporter": "python",
   "pygments_lexer": "ipython3",
   "version": "3.9.6"
  },
  "orig_nbformat": 4
 },
 "nbformat": 4,
 "nbformat_minor": 2
}
