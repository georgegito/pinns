{
 "cells": [
  {
   "cell_type": "markdown",
   "metadata": {},
   "source": [
    "# PINN Evaluation"
   ]
  },
  {
   "cell_type": "code",
   "execution_count": 1,
   "metadata": {},
   "outputs": [],
   "source": [
    "import numpy as np\n",
    "import pandas as pd\n",
    "import torch\n",
    "from pinn import PINN\n",
    "import os"
   ]
  },
  {
   "cell_type": "code",
   "execution_count": 2,
   "metadata": {},
   "outputs": [],
   "source": [
    "data_dir = \"/Users/ggito/repos/pinns/data/front_wing\"\n",
    "model_dir = os.path.join(data_dir, \"models\")\n",
    "points_file_name = \"points_final.csv\"\n",
    "model_name = \"v8\"\n",
    "model_checkpoint_num = 60"
   ]
  },
  {
   "cell_type": "code",
   "execution_count": 3,
   "metadata": {},
   "outputs": [],
   "source": [
    "wing_df = pd.read_csv(os.path.join(data_dir, points_file_name))"
   ]
  },
  {
   "cell_type": "code",
   "execution_count": 4,
   "metadata": {},
   "outputs": [],
   "source": [
    "device = torch.device(\"cpu\")"
   ]
  },
  {
   "cell_type": "code",
   "execution_count": 5,
   "metadata": {},
   "outputs": [],
   "source": [
    "x_min, y_min, z_min = wing_df.min()\n",
    "x_max, y_max, z_max = wing_df.max()\n",
    "\n",
    "overall_min = min(x_min, y_min, z_min)\n",
    "overall_max = max(x_max, y_max, z_max)\n",
    "\n",
    "xyz_range = (overall_min, overall_max)"
   ]
  },
  {
   "cell_type": "code",
   "execution_count": 6,
   "metadata": {},
   "outputs": [
    {
     "name": "stdout",
     "output_type": "stream",
     "text": [
      "=> loading checkpoint '/Users/ggito/repos/pinns/data/front_wing/models/v8/60.pt'\n",
      "=> loaded checkpoint '/Users/ggito/repos/pinns/data/front_wing/models/v8/60.pt' (epoch 60)\n"
     ]
    },
    {
     "data": {
      "text/plain": [
       "PINN(\n",
       "  (layers): ModuleList(\n",
       "    (0): Linear(in_features=4, out_features=2058, bias=True)\n",
       "    (1-2): 2 x Linear(in_features=2058, out_features=2058, bias=True)\n",
       "    (3): Linear(in_features=2058, out_features=4, bias=True)\n",
       "  )\n",
       ")"
      ]
     },
     "execution_count": 6,
     "metadata": {},
     "output_type": "execute_result"
    }
   ],
   "source": [
    "# load model\n",
    "input_dim = 4\n",
    "output_dim = 4\n",
    "# hidden_units = [1024, 1024, 1024]\n",
    "hidden_units = [2058, 2058, 2058]\n",
    "# hidden_units = [1024, 1024, 1024, 1024, 1024]\n",
    "pinn = PINN(input_dim, output_dim, hidden_units, model_name=None).to(device)\n",
    "pinn, _ = pinn.load_checkpoint_num(optimizer=None, checkpoint_dir=model_dir, model_name=model_name, checkpoint_num=model_checkpoint_num, mode='test')\n",
    "pinn.eval()"
   ]
  },
  {
   "cell_type": "code",
   "execution_count": 7,
   "metadata": {},
   "outputs": [],
   "source": [
    "# testing domain\n",
    "x_max = 1\n",
    "y_max = 1\n",
    "z_max = 1\n",
    "t_max = 2 # TODO: set t>2 to test outside of training domain\n",
    "\n",
    "Nx = 200\n",
    "Ny = 200\n",
    "Nz = 200\n",
    "Nt = 200\n",
    "\n",
    "dx = x_max / (Nx - 1)\n",
    "dy = y_max / (Ny - 1)\n",
    "dz = z_max / (Nz - 1)\n",
    "dt = t_max / (Nt - 1)\n",
    "\n",
    "x_test = np.linspace(0, x_max, Nx)\n",
    "y_test = np.linspace(0, y_max, Ny)\n",
    "z_test = np.linspace(0, z_max, Nz)\n",
    "t_test = np.linspace(0, t_max, Nt)\n",
    "\n",
    "x_grid, y_grid, z_grid = np.meshgrid(x_test, y_test, z_test, indexing='ij')"
   ]
  },
  {
   "cell_type": "code",
   "execution_count": 8,
   "metadata": {},
   "outputs": [
    {
     "data": {
      "text/plain": [
       "(tensor(17.5380, grad_fn=<AddBackward0>),\n",
       " tensor(2.8642, grad_fn=<AddBackward0>),\n",
       " tensor(1.8327, grad_fn=<MulBackward0>),\n",
       " tensor(1.0601, grad_fn=<MulBackward0>),\n",
       " tensor(3.4177, grad_fn=<MulBackward0>),\n",
       " tensor(0.2177, grad_fn=<MulBackward0>),\n",
       " tensor(2.1076, grad_fn=<MulBackward0>),\n",
       " tensor(2.1155, grad_fn=<MulBackward0>),\n",
       " tensor(1.2026, grad_fn=<MulBackward0>),\n",
       " tensor(0.9891, grad_fn=<MulBackward0>),\n",
       " tensor(1.7308, grad_fn=<MulBackward0>))"
      ]
     },
     "execution_count": 8,
     "metadata": {},
     "output_type": "execute_result"
    }
   ],
   "source": [
    "pinn.eval_pinn(s_df=wing_df, Nf=10000, N0=10000, Nb=10000, Ns=10000,\n",
    "               x_max=x_max, y_max=y_max, z_max=z_max, t_max=t_max,\n",
    "               in_velocity=1, mu=1, rho=1,\n",
    "               device=device)"
   ]
  }
 ],
 "metadata": {
  "kernelspec": {
   "display_name": "Python 3",
   "language": "python",
   "name": "python3"
  },
  "language_info": {
   "codemirror_mode": {
    "name": "ipython",
    "version": 3
   },
   "file_extension": ".py",
   "mimetype": "text/x-python",
   "name": "python",
   "nbconvert_exporter": "python",
   "pygments_lexer": "ipython3",
   "version": "3.9.6"
  },
  "orig_nbformat": 4
 },
 "nbformat": 4,
 "nbformat_minor": 2
}
