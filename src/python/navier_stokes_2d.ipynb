{
 "cells": [
  {
   "cell_type": "code",
   "execution_count": 1,
   "metadata": {},
   "outputs": [],
   "source": [
    "import numpy as np"
   ]
  },
  {
   "cell_type": "code",
   "execution_count": 2,
   "metadata": {},
   "outputs": [],
   "source": [
    "# Define the main function to solve the 2D Navier-Stokes equations\n",
    "def navier_stokes_2d(dx, dy, dt, nu, steps, u, v, p):\n",
    "    # Define a function to build up the b term (for pressure)\n",
    "    def build_up_b(b, rho, dt, u, v, dx, dy):\n",
    "        # Compute the b term using the given equation\n",
    "        b[1:-1, 1:-1] = (rho * (1 / dt * ((u[1:-1, 2:] - u[1:-1, 0:-2]) / (2 * dx) + (v[2:, 1:-1] - v[0:-2, 1:-1]) / (2 * dy)) - ((u[1:-1, 2:] - u[1:-1, 0:-2]) / (2 * dx)) ** 2 - 2 * ((u[2:, 1:-1] - u[0:-2, 1:-1]) / (2 * dy) * (v[1:-1, 2:] - v[1:-1, 0:-2]) / (2 * dx)) - ((v[2:, 1:-1] - v[0:-2, 1:-1]) / (2 * dy)) ** 2))\n",
    "        return b\n",
    "\n",
    "    # Define a function to solve the pressure Poisson equation\n",
    "    def pressure_poisson(p, dx, dy, b):\n",
    "        pn = np.empty_like(p)\n",
    "        for q in range(nit):\n",
    "            pn = p.copy()\n",
    "            # Update the pressure using the given equation\n",
    "            p[1:-1, 1:-1] = (((pn[1:-1, 2:] + pn[1:-1, 0:-2]) * dy ** 2 + (pn[2:, 1:-1] + pn[0:-2, 1:-1]) * dx ** 2) / (2 * (dx ** 2 + dy ** 2)) - dx ** 2 * dy ** 2 / (2 * (dx ** 2 + dy ** 2)) * b[1:-1, 1:-1])\n",
    "\n",
    "            # Apply Neumann boundary conditions for pressure\n",
    "            p[:, -1] = p[:, -2]\n",
    "            p[0, :] = p[1, :]\n",
    "            p[:, 0] = p[:, 1]\n",
    "            p[-1, :] = p[-2, :]\n",
    "        return p\n",
    "\n",
    "    # Define a function to compute the cavity flow\n",
    "    def cavity_flow(nt, u, v, dt, dx, dy, p, rho, nu):\n",
    "        un = np.empty_like(u)\n",
    "        vn = np.empty_like(v)\n",
    "        b = np.zeros((ny, nx))\n",
    "\n",
    "        for n in range(nt):\n",
    "            un = u.copy()\n",
    "            vn = v.copy()\n",
    "\n",
    "            # Build up the b term and solve the pressure Poisson equation\n",
    "            b = build_up_b(b, rho, dt, u, v, dx, dy)\n",
    "            p = pressure_poisson(p, dx, dy, b)\n",
    "\n",
    "            # Update the velocity fields (u and v) using the given equations\n",
    "            u[1:-1, 1:-1] = (un[1:-1, 1:-1] - un[1:-1, 1:-1] * dt / dx * (un[1:-1, 1:-1] - un[1:-1, 0:-2]) - vn[1:-1, 1:-1] * dt / dy * (un[1:-1, 1:-1] - un[0:-2, 1:-1]) - dt / (2 * rho * dx) * (p[1:-1, 2:] - p[1:-1, 0:-2]) + nu * (dt / dx ** 2 * (un[1:-1, 2:] - 2 * un[1:-1, 1:-1] + un[1:-1, 0:-2]) + dt / dy ** 2 * (un[2:, 1:-1] - 2 * un[1:-1, 1:-1] + un[0:-2, 1:-1])))\n",
    "            v[1:-1, 1:-1] = (vn[1:-1, 1:-1] - un[1:-1, 1:-1] * dt / dx * (vn[1:-1, 1:-1] - vn[1:-1, 0:-2]) - vn[1:-1, 1:-1] * dt / dy * (vn[1:-1, 1:-1] - vn[0:-2, 1:-1]) - dt / (2 * rho * dy) * (p[2:, 1:-1] - p[0:-2, 1:-1]) + nu * (dt / dx ** 2 * (vn[1:-1, 2:] - 2 * vn[1:-1, 1:-1] + vn[1:-1, 0:-2]) + dt / dy ** 2 * (vn[2:, 1:-1] - 2 * vn[1:-1, 1:-1] + vn[0:-2, 1:-1])))\n",
    "\n",
    "        # Boundary conditions for the obstacle\n",
    "        obstacle_mask = create_obstacle_mask(nx, ny)\n",
    "        u[obstacle_mask] = 0\n",
    "        v[obstacle_mask] = 0\n",
    "\n",
    "        return u, v, p\n",
    "\n",
    "    # Define a function to create a boolean mask for the obstacle\n",
    "    def create_obstacle_mask(nx, ny):\n",
    "        # Create a boolean mask for the obstacle\n",
    "        mask = np.zeros((ny, nx), dtype=bool)\n",
    "        x_center, y_center = nx // 2, ny // 2\n",
    "        x_width, y_height = nx // 10, ny // 10\n",
    "\n",
    "        # Set the mask to True for the cells representing the obstacle\n",
    "        mask[y_center - y_height:y_center + y_height, x_center - x_width:x_center + x_width] = True\n",
    "        return mask\n",
    "\n",
    "    ny, nx = u.shape\n",
    "    rho = 1\n",
    "    nit = 50\n",
    "\n",
    "    u_steps, v_steps, p_steps = np.zeros((steps, ny, nx)), np.zeros((steps, ny, nx)), np.zeros((steps, ny, nx))\n",
    "\n",
    "    # Set initial velocity field: left to right flow\n",
    "    u[:, 0] = 1\n",
    "    v[:, :] = 0\n",
    "\n",
    "    # Set obstacle velocity to zero\n",
    "    obstacle_mask = create_obstacle_mask(nx, ny)\n",
    "    u[obstacle_mask] = 0\n",
    "    v[obstacle_mask] = 0\n",
    "\n",
    "    for i in range(steps):\n",
    "        u, v, p = cavity_flow(1, u, v, dt, dx, dy, p, rho, nu)\n",
    "        u_steps[i, :, :] = u\n",
    "        v_steps[i, :, :] = v\n",
    "        p_steps[i, :, :] = p\n",
    "\n",
    "    return u_steps, v_steps, p_steps"
   ]
  },
  {
   "cell_type": "code",
   "execution_count": 3,
   "metadata": {},
   "outputs": [],
   "source": [
    "# Simulation parameters\n",
    "dx = 0.01\n",
    "dy = 0.01\n",
    "dt = 0.001\n",
    "nu = 0.01\n",
    "steps = 100\n",
    "\n",
    "# Initial conditions\n",
    "u = np.zeros((int(1/dy)+1, int(1/dx)+1))\n",
    "v = np.zeros((int(1/dy)+1, int(1/dx)+1))\n",
    "p = np.zeros((int(1/dy)+1, int(1/dx)+1))"
   ]
  },
  {
   "cell_type": "code",
   "execution_count": 4,
   "metadata": {},
   "outputs": [],
   "source": [
    "# Running the simulation\n",
    "u_steps, v_steps, p_steps = navier_stokes_2d(dx, dy, dt, nu, steps, u, v, p)"
   ]
  },
  {
   "cell_type": "code",
   "execution_count": 5,
   "metadata": {},
   "outputs": [
    {
     "data": {
      "image/png": "[encoded data removed]",
      "text/plain": [
       "<Figure size 640x480 with 2 Axes>"
      ]
     },
     "metadata": {},
     "output_type": "display_data"
    }
   ],
   "source": [
    "import matplotlib.pyplot as plt\n",
    "import matplotlib.cm as cm\n",
    "from matplotlib.animation import FuncAnimation\n",
    "from matplotlib.patches import Rectangle\n",
    "import numpy as np\n",
    "import matplotlib.colors as mcolors\n",
    "from matplotlib.animation import PillowWriter\n",
    "\n",
    "def get_obstacle_mask(nx, ny, dx, dy):\n",
    "    x_center, y_center = nx // 2, ny // 2\n",
    "    x_width, y_height = nx // 10, ny // 10\n",
    "\n",
    "    obstacle = plt.Rectangle(((x_center - x_width) * dx, (y_center - y_height) * dy), 2 * x_width * dx, 2 * y_height * dy, facecolor='gray')\n",
    "\n",
    "    return obstacle\n",
    "\n",
    "# Visualization function\n",
    "def update(frame_number):\n",
    "    global u, v, p, dx, dy, dt, nu\n",
    "\n",
    "    ax.clear()\n",
    "    strm = ax.streamplot(X, Y, u_steps[frame_number], v_steps[frame_number], color=(np.sqrt(u_steps[frame_number]**2 + v_steps[frame_number]**2)), linewidth=1, cmap=cm.inferno)\n",
    "\n",
    "    obstacle = get_obstacle_mask(ax, u.shape[1], u.shape[0])\n",
    "    ax.add_patch(obstacle)\n",
    "\n",
    "    ax.set_title(\"Time Step: {}\".format(frame_number))\n",
    "    ax.set_xlim(0, 1)  # Set x-axis limits\n",
    "    ax.set_ylim(0, 1)  # Set y-axis limits\n",
    "\n",
    "fig, ax = plt.subplots()\n",
    "X, Y = np.meshgrid(np.arange(0, 1 + dx, dx), np.arange(0, 1 + dy, dy))\n",
    "\n",
    "# Create a ScalarMappable object\n",
    "norm = mcolors.Normalize(vmin=0, vmax=1)\n",
    "sm = plt.cm.ScalarMappable(cmap=cm.inferno, norm=norm)\n",
    "sm.set_array([])\n",
    "\n",
    "# Add a colorbar to the figure using the ScalarMappable object\n",
    "fig.colorbar(sm, ax=ax, label='Velocity magnitude')\n",
    "\n",
    "ani = FuncAnimation(fig, update, frames=range(steps), blit=False, repeat=False)"
   ]
  },
  {
   "cell_type": "code",
   "execution_count": 6,
   "metadata": {},
   "outputs": [],
   "source": [
    "writer = PillowWriter(fps=5)\n",
    "ani.save('./navier_stokes.gif', writer=writer)"
   ]
  },
  {
   "cell_type": "code",
   "execution_count": 7,
   "metadata": {},
   "outputs": [
    {
     "data": {
      "text/html": [
       "<img src=\"./navier_stokes.gif\"/>"
      ],
      "text/plain": [
       "<IPython.core.display.Image object>"
      ]
     },
     "execution_count": 7,
     "metadata": {},
     "output_type": "execute_result"
    }
   ],
   "source": [
    "from IPython.display import Image\n",
    "\n",
    "Image(url=\"./navier_stokes.gif\")"
   ]
  }
 ],
 "metadata": {
  "kernelspec": {
   "display_name": "Python 3",
   "language": "python",
   "name": "python3"
  },
  "language_info": {
   "codemirror_mode": {
    "name": "ipython",
    "version": 3
   },
   "file_extension": ".py",
   "mimetype": "text/x-python",
   "name": "python",
   "nbconvert_exporter": "python",
   "pygments_lexer": "ipython3",
   "version": "3.11.3"
  },
  "orig_nbformat": 4
 },
 "nbformat": 4,
 "nbformat_minor": 2
}
