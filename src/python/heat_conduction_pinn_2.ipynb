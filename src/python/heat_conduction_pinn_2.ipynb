{
 "cells": [
  {
   "attachments": {},
   "cell_type": "markdown",
   "metadata": {},
   "source": [
    "# Unsteady Heat Conduction Equation"
   ]
  },
  {
   "attachments": {},
   "cell_type": "markdown",
   "metadata": {},
   "source": [
    "$$\\frac{\\partial T(x,t)}{\\partial t} = \\alpha \\frac{\\partial^2 T(x,t)}{\\partial x^2}$$"
   ]
  },
  {
   "cell_type": "code",
   "execution_count": 1,
   "metadata": {},
   "outputs": [],
   "source": [
    "import torch\n",
    "import torch.nn as nn\n",
    "import numpy as np\n",
    "import matplotlib.pyplot as plt\n",
    "import fipy as fp"
   ]
  },
  {
   "cell_type": "code",
   "execution_count": 2,
   "metadata": {},
   "outputs": [],
   "source": [
    "# Problem parameters\n",
    "L = 1.0  # Length of the domain\n",
    "alpha = 1.0  # Thermal diffusivity\n",
    "\n",
    "# Discretization parameters\n",
    "Nx = 100  # Number of spatial grid points\n",
    "Nt = 100  # Number of time steps\n",
    "dx = L / (Nx - 1)\n",
    "max_time = 0.2  # Maximum time\n",
    "dt = max_time / (Nt - 1)\n",
    "\n",
    "# Initial condition\n",
    "def T_initial(x):\n",
    "    return np.sin(np.pi * x) + 0.5 * np.sin(3 * np.pi * x) + 0.25 * np.sin(5 * np.pi * x)\n",
    "\n",
    "# Boundary conditions (Dirichlet)\n",
    "T_left = 0.0\n",
    "T_right = 0.0"
   ]
  },
  {
   "cell_type": "code",
   "execution_count": 3,
   "metadata": {},
   "outputs": [],
   "source": [
    "# Generate a grid of points in the x-t domain\n",
    "x_test = np.linspace(0, 1, Nx)\n",
    "t_test = np.linspace(0, max_time, Nt)\n",
    "x_grid, t_grid = np.meshgrid(x_test, t_test)"
   ]
  },
  {
   "cell_type": "code",
   "execution_count": 4,
   "metadata": {},
   "outputs": [],
   "source": [
    "def plot_initial_temperature():\n",
    "    # Evaluate the initial condition at the grid points\n",
    "    T_values = T_initial(x_test)\n",
    "\n",
    "    # Plot the initial temperature distribution\n",
    "    plt.figure()\n",
    "    plt.plot(x_test, T_values, label=\"Initial Temperature\")\n",
    "    plt.xlabel(\"x\")\n",
    "    plt.ylabel(\"Temperature\")\n",
    "    plt.title(\"Initial Temperature Distribution (t=0)\")\n",
    "    plt.legend()\n",
    "    plt.show()"
   ]
  },
  {
   "cell_type": "markdown",
   "metadata": {},
   "source": [
    "## Crank-Nicolson (Finite Difference Method)"
   ]
  },
  {
   "cell_type": "code",
   "execution_count": 5,
   "metadata": {},
   "outputs": [],
   "source": [
    "# def crank_nicolson():\n",
    "#     # Initialize the temperature matrix\n",
    "#     T_matrix = np.zeros((Nx, Nt))\n",
    "\n",
    "#     # Set the initial condition\n",
    "#     T_matrix[:, 0] = T_initial(np.linspace(0, L, Nx))\n",
    "\n",
    "#     # Set up the tridiagonal matrix for the Crank-Nicolson method\n",
    "#     A = np.eye(Nx - 2) * (2 + 2 * alpha * dt / dx**2) + np.eye(Nx - 2, k=1) * (-alpha * dt / dx**2) + np.eye(Nx - 2, k=-1) * (-alpha * dt / dx**2)\n",
    "#     B = np.eye(Nx - 2) * (2 - 2 * alpha * dt / dx**2) + np.eye(Nx - 2, k=1) * (alpha * dt / dx**2) + np.eye(Nx - 2, k=-1) * (alpha * dt / dx**2)\n",
    "\n",
    "#     # Time-stepping loop\n",
    "#     for n in range(1, Nt):\n",
    "#         # Set up the right-hand side vector\n",
    "#         rhs = np.dot(B, T_matrix[1:-1, n - 1])\n",
    "#         rhs[0] += alpha * dt / dx**2 * T_left\n",
    "#         rhs[-1] += alpha * dt / dx**2 * T_right\n",
    "\n",
    "#         # Solve the linear system\n",
    "#         T_matrix[1:-1, n] = np.linalg.solve(A, rhs)\n",
    "\n",
    "#         # Enforce boundary conditions\n",
    "#         T_matrix[0, n] = T_left\n",
    "#         T_matrix[-1, n] = T_right\n",
    "\n",
    "#     plt.figure()\n",
    "#     plt.contourf(np.linspace(0, L, Nx), np.linspace(0, max_time, Nt), T_matrix.T, cmap=\"jet\")\n",
    "#     plt.xlabel(\"x\")\n",
    "#     plt.ylabel(\"t\")\n",
    "#     plt.title(\"Temperature Distribution (Crank-Nicolson)\")\n",
    "#     plt.colorbar(label=\"Temperature\")\n",
    "#     plt.show()"
   ]
  },
  {
   "cell_type": "markdown",
   "metadata": {},
   "source": [
    "## Fipy (Finite Volume PDE Solver)"
   ]
  },
  {
   "cell_type": "code",
   "execution_count": 6,
   "metadata": {},
   "outputs": [],
   "source": [
    "def fipy_demo():\n",
    "    # Problem parameters\n",
    "    L = 1.0  # Length of the domain\n",
    "    alpha = 1.0  # Thermal diffusivity\n",
    "\n",
    "    # Create the mesh\n",
    "    mesh = fp.Grid1D(nx=Nx, dx=L/Nx)\n",
    "\n",
    "    # Define the temperature variable\n",
    "    T = fp.CellVariable(name=\"temperature\", mesh=mesh, value=0.)\n",
    "\n",
    "    T.setValue(T_initial(T.mesh.x.value))\n",
    "\n",
    "    # Set boundary conditions\n",
    "    T.constrain(T_left, where=mesh.facesLeft)\n",
    "    T.constrain(T_right, where=mesh.facesRight)\n",
    "\n",
    "    # Define the transient diffusion equation\n",
    "    eq = fp.TransientTerm() == fp.DiffusionTerm(coeff=alpha)\n",
    "\n",
    "    # Initialize temperature history array\n",
    "    T_history = np.zeros((Nt, Nx))\n",
    "\n",
    "    # Time-stepping\n",
    "    t = 0\n",
    "    for step in range(Nt):\n",
    "        t += dt\n",
    "        eq.solve(var=T, dt=dt)\n",
    "        T_history[step, :] = T.value\n",
    "\n",
    "    # Create contour plot\n",
    "    plt.contourf(x_grid, t_grid, T_history, cmap=\"jet\")\n",
    "    plt.xlabel(\"x\")\n",
    "    plt.ylabel(\"t\")\n",
    "    plt.colorbar(label=\"Temperature\")\n",
    "    plt.title(\"Temperature Distribution (Fipy)\")\n",
    "    plt.show()\n",
    "\n",
    "    return T_history"
   ]
  },
  {
   "cell_type": "markdown",
   "metadata": {},
   "source": [
    "## PINN"
   ]
  },
  {
   "cell_type": "code",
   "execution_count": 7,
   "metadata": {},
   "outputs": [],
   "source": [
    "class PINN(nn.Module):\n",
    "    def __init__(self, input_dim, output_dim, hidden_units):\n",
    "        super(PINN, self).__init__()\n",
    "        self.layers = nn.ModuleList()\n",
    "        in_units = input_dim\n",
    "        for units in hidden_units:\n",
    "            self.layers.append(nn.Linear(in_units, units))\n",
    "            in_units = units\n",
    "        self.layers.append(nn.Linear(in_units, output_dim))\n",
    "\n",
    "    def forward(self, x):\n",
    "        for layer in self.layers[:-1]:\n",
    "            x = torch.tanh(layer(x))\n",
    "        x = self.layers[-1](x)\n",
    "        return x\n",
    "\n",
    "    def loss(self, x_f, t_f, alpha, T_left, T_right, T_initial):\n",
    "        T = self(torch.cat([x_f, t_f], dim=1))\n",
    "\n",
    "        T_x = torch.autograd.grad(T, x_f, grad_outputs=torch.ones_like(T), create_graph=True, retain_graph=True, only_inputs=True)[0]\n",
    "        T_xx = torch.autograd.grad(T_x, x_f, grad_outputs=torch.ones_like(T_x), create_graph=True, retain_graph=True, only_inputs=True)[0]\n",
    "        T_t = torch.autograd.grad(T, t_f, grad_outputs=torch.ones_like(T), create_graph=True, retain_graph=True, only_inputs=True)[0]\n",
    "\n",
    "        f = T_t - alpha * T_xx # physics residual\n",
    "\n",
    "        # Initial condition loss\n",
    "        T_initial_pred = self(torch.cat([x_f, torch.zeros_like(t_f)], dim=1))\n",
    "        T_initial_true = T_initial(x_f.detach().numpy())  # Detach x before converting to a numpy array\n",
    "        T_initial_true = torch.tensor(T_initial_true, dtype=torch.float32)  # Convert back to a tensor\n",
    "        ic_loss = torch.mean(torch.square(T_initial_pred - T_initial_true))\n",
    "\n",
    "        # Boundary conditions loss\n",
    "        T_left_pred = self(torch.cat([torch.zeros_like(x_f), t_f], dim=1))\n",
    "        T_right_pred = self(torch.cat([torch.ones_like(x_f), t_f], dim=1))\n",
    "        bc_loss = torch.mean(torch.square(T_left_pred - T_left)) + torch.mean(torch.square(T_right_pred - T_right))\n",
    "\n",
    "        # Combine PDE residual, initial condition, and boundary condition losses\n",
    "        total_loss = torch.mean(torch.square(f)) + ic_loss + bc_loss\n",
    "\n",
    "        return total_loss\n",
    "\n",
    "def pinn_demo(epochs=10000, learning_rate=1e-3, existing_pinn=None):\n",
    "    # device = torch.device('cuda' if torch.cuda.is_available() else 'cpu')\n",
    "    device = \"cpu\"\n",
    "  \n",
    "    if not existing_pinn:\n",
    "        input_dim = 2\n",
    "        output_dim = 1\n",
    "        hidden_units = [64, 64, 64, 64]\n",
    "        pinn = PINN(input_dim, output_dim, hidden_units).to(device)\n",
    "    else:\n",
    "        pinn = existing_pinn\n",
    "\n",
    "    alpha = 1.0\n",
    "    Nf = 100 # number of collocation points - batch size\n",
    "    optimizer = torch.optim.Adam(pinn.parameters(), lr=learning_rate)\n",
    "\n",
    "    for epoch in range(epochs):\n",
    "        x_f = torch.tensor(np.random.uniform(0, 1, size=(Nf, 1)), dtype=torch.float32, device=device, requires_grad=True) # collocation points\n",
    "        t_f = torch.tensor(np.random.uniform(0, 1, size=(Nf, 1)), dtype=torch.float32, device=device, requires_grad=True) # collocation points\n",
    "        \n",
    "        optimizer.zero_grad()\n",
    "        loss = pinn.loss(x_f, t_f, alpha, T_left, T_right, T_initial)\n",
    "        loss.backward()\n",
    "        optimizer.step()\n",
    "\n",
    "        if epoch % 1000 == 0:\n",
    "            print(f'Epoch: {epoch}, Loss: {loss.item()}')\n",
    "\n",
    "    # Evaluate the model at the grid points\n",
    "    x_test_tensor = torch.tensor(x_grid.reshape(-1, 1), dtype=torch.float32, device=device, requires_grad=True)\n",
    "    t_test_tensor = torch.tensor(t_grid.reshape(-1, 1), dtype=torch.float32, device=device, requires_grad=True)\n",
    "    T_test = pinn(torch.cat([x_test_tensor, t_test_tensor], dim=1))\n",
    "    T_test = T_test.detach().cpu().numpy().reshape(Nt, Nx) # maybe reversed\n",
    "\n",
    "    # Create a contour plot of the temperature distribution\n",
    "    plt.figure()\n",
    "    plt.contourf(x_test, t_test, T_test, cmap=\"jet\")\n",
    "    plt.xlabel(\"x\")\n",
    "    plt.ylabel(\"t\")\n",
    "    plt.title(\"Temperature Distribution (PINN)\")\n",
    "    plt.colorbar(label=\"Temperature\")\n",
    "    plt.show()\n",
    "\n",
    "    return T_test, pinn"
   ]
  },
  {
   "cell_type": "code",
   "execution_count": 8,
   "metadata": {},
   "outputs": [],
   "source": [
    "def analytical_solution(alpha):\n",
    "    term1 = np.sin(np.pi * x_grid) * np.exp(-(np.pi * alpha)**2 * t_grid)\n",
    "    term2 = 0.5 * np.sin(3 * np.pi * x_grid) * np.exp(-(9 * np.pi * alpha)**2 * t_grid)\n",
    "    term3 = 0.25 * np.sin(5 * np.pi * x_grid) * np.exp(-(25 * np.pi * alpha)**2 * t_grid)\n",
    "\n",
    "    T = term1 + term2 + term3\n",
    "    return T\n",
    "\n",
    "def compute_analytical_solution():\n",
    "    T_analytical = analytical_solution(x_test, t_test, alpha)\n",
    "\n",
    "    plt.figure()\n",
    "    plt.contourf(x_test, t_test, T_analytical, cmap=\"jet\")\n",
    "    plt.xlabel(\"x\")\n",
    "    plt.ylabel(\"t\")\n",
    "    plt.title(\"Temperature Distribution (Analytical)\")\n",
    "    plt.colorbar(label=\"Temperature\")\n",
    "    plt.show()\n",
    "\n",
    "    return T_analytical"
   ]
  },
  {
   "cell_type": "code",
   "execution_count": 9,
   "metadata": {},
   "outputs": [
    {
     "data": {
      "image/png": "[encoded data removed]",
      "text/plain": [
       "<Figure size 640x480 with 1 Axes>"
      ]
     },
     "metadata": {},
     "output_type": "display_data"
    }
   ],
   "source": [
    "plot_initial_temperature()"
   ]
  },
  {
   "cell_type": "code",
   "execution_count": 1,
   "metadata": {},
   "outputs": [
    {
     "ename": "NameError",
     "evalue": "name 'fipy_demo' is not defined",
     "output_type": "error",
     "traceback": [
      "\u001b[1;31m---------------------------------------------------------------------------\u001b[0m",
      "\u001b[1;31mNameError\u001b[0m                                 Traceback (most recent call last)",
      "Cell \u001b[1;32mIn[1], line 1\u001b[0m\n\u001b[1;32m----> 1\u001b[0m fipy_solution \u001b[39m=\u001b[39m fipy_demo()\n",
      "\u001b[1;31mNameError\u001b[0m: name 'fipy_demo' is not defined"
     ]
    }
   ],
   "source": [
    "fipy_solution = fipy_demo()"
   ]
  },
  {
   "cell_type": "code",
   "execution_count": 11,
   "metadata": {},
   "outputs": [
    {
     "name": "stdout",
     "output_type": "stream",
     "text": [
      "Epoch: 0, Loss: 0.9221122860908508\n",
      "Epoch: 1000, Loss: 0.098601795732975\n"
     ]
    },
    {
     "data": {
      "image/png": "[encoded data removed]",
      "text/plain": [
       "<Figure size 640x480 with 2 Axes>"
      ]
     },
     "metadata": {},
     "output_type": "display_data"
    }
   ],
   "source": [
    "pinn_solution, pinn = pinn_demo(epochs=10000, learning_rate=1e-3)"
   ]
  },
  {
   "cell_type": "code",
   "execution_count": 12,
   "metadata": {},
   "outputs": [
    {
     "name": "stdout",
     "output_type": "stream",
     "text": [
      "Epoch: 0, Loss: 0.09649989008903503\n"
     ]
    }
   ],
   "source": [
    "pinn_solution, pinn = pinn_demo(epochs=10000, learning_rate=1e-4, existing_pinn=pinn)"
   ]
  },
  {
   "cell_type": "code",
   "execution_count": null,
   "metadata": {},
   "outputs": [],
   "source": [
    "solution = compute_analytical_solution()"
   ]
  },
  {
   "cell_type": "code",
   "execution_count": null,
   "metadata": {},
   "outputs": [],
   "source": [
    "mse_fipy = np.mean((fipy_solution - solution)**2)\n",
    "mse_pinn = np.mean((pinn_solution - solution)**2)\n",
    "print(f\"MSE FiPy: {mse_fipy}\")\n",
    "print(f\"MSE PINN: {mse_pinn}\")"
   ]
  }
 ],
 "metadata": {
  "kernelspec": {
   "display_name": "Python 3",
   "language": "python",
   "name": "python3"
  },
  "language_info": {
   "codemirror_mode": {
    "name": "ipython",
    "version": 3
   },
   "file_extension": ".py",
   "mimetype": "text/x-python",
   "name": "python",
   "nbconvert_exporter": "python",
   "pygments_lexer": "ipython3",
   "version": "3.11.3"
  },
  "orig_nbformat": 4,
  "vscode": {
   "interpreter": {
    "hash": "81794d4967e6c3204c66dcd87b604927b115b27c00565d3d43f05ba2f3a2cb0d"
   }
  }
 },
 "nbformat": 4,
 "nbformat_minor": 2
}
