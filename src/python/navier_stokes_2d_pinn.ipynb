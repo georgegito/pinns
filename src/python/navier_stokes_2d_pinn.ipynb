{
 "cells": [
  {
   "cell_type": "code",
   "execution_count": 1,
   "metadata": {},
   "outputs": [],
   "source": [
    "import torch\n",
    "import torch.nn as nn\n",
    "import numpy as np\n",
    "import matplotlib.pyplot as plt\n",
    "\n",
    "device = torch.device('cuda' if torch.cuda.is_available() else 'cpu')\n",
    "# device = \"cpu\""
   ]
  },
  {
   "attachments": {},
   "cell_type": "markdown",
   "metadata": {},
   "source": [
    "The incompressible 2D Navier-Stokes equations are:\n",
    "\n",
    "\\begin{align}\n",
    "    \\frac{\\partial u}{\\partial t} + u \\frac{\\partial u}{\\partial x} + v \\frac{\\partial u}{\\partial y} &= -\\frac{1}{\\rho} \\frac{\\partial p}{\\partial x} + \\nu \\left( \\frac{\\partial^2 u}{\\partial x^2} + \\frac{\\partial^2 u}{\\partial y^2} \\right), \\\\\n",
    "    \\frac{\\partial v}{\\partial t} + u \\frac{\\partial v}{\\partial x} + v \\frac{\\partial v}{\\partial y} &= -\\frac{1}{\\rho} \\frac{\\partial p}{\\partial y} + \\nu \\left( \\frac{\\partial^2 v}{\\partial x^2} + \\frac{\\partial^2 v}{\\partial y^2} \\right), \\\\\n",
    "    \\frac{\\partial u}{\\partial x} + \\frac{\\partial v}{\\partial y} &= 0,\n",
    "\\end{align}\n",
    "\n",
    "where $u$ and $v$ are the velocity components in the $x$ and $y$ directions, respectively, $p$ is the pressure, $\\rho$ is the fluid density, and $\\nu$ is the kinematic viscosity."
   ]
  },
  {
   "attachments": {},
   "cell_type": "markdown",
   "metadata": {},
   "source": [
    "The pressure Poisson equation is:\n",
    "\n",
    "\\begin{equation}\n",
    "    \\nabla^2 p = b,\n",
    "\\end{equation}\n",
    "\n",
    "where $p$ is the pressure, $\\nabla^2$ is the Laplace operator, and $b$ is the source term.\n",
    "\n",
    "In 2D Cartesian coordinates, the pressure Poisson equation can be written as:\n",
    "\n",
    "\\begin{equation}\n",
    "    \\frac{\\partial^2 p}{\\partial x^2} + \\frac{\\partial^2 p}{\\partial y^2} = b.\n",
    "\\end{equation}"
   ]
  },
  {
   "attachments": {},
   "cell_type": "markdown",
   "metadata": {},
   "source": [
    "The source term $b$ in the pressure Poisson equation is computed as:\n",
    "\n",
    "\\begin{equation}\n",
    "    b = \\rho \\left( \\frac{1}{\\Delta t} \\left( \\frac{\\partial u}{\\partial x} + \\frac{\\partial v}{\\partial y} \\right) - \\left(\\frac{\\partial u}{\\partial x}\\right)^2 - 2 \\frac{\\partial u}{\\partial y} \\frac{\\partial v}{\\partial x} - \\left(\\frac{\\partial v}{\\partial y}\\right)^2 \\right),\n",
    "\\end{equation}\n",
    "\n",
    "where $b$ is the source term, $\\rho$ is the fluid density, $u$ and $v$ are the velocity components in the $x$ and $y$ directions, respectively, $\\Delta t$ is the time step size, and $\\frac{\\partial}{\\partial x}$ and $\\frac{\\partial}{\\partial y}$ represent the partial derivatives with respect to $x$ and $y$, respectively.\n"
   ]
  },
  {
   "cell_type": "code",
   "execution_count": 2,
   "metadata": {},
   "outputs": [],
   "source": [
    "class PINN(nn.Module):\n",
    "    def __init__(self, input_dim, output_dim, hidden_units):\n",
    "        super(PINN, self).__init__()\n",
    "        self.layers = nn.ModuleList()\n",
    "        in_units = input_dim\n",
    "        for units in hidden_units:\n",
    "            layer = nn.Linear(in_units, units)\n",
    "            nn.init.xavier_normal_(layer.weight)  # Apply Xavier initialization\n",
    "            self.layers.append(layer)\n",
    "            in_units = units\n",
    "        output_layer = nn.Linear(in_units, output_dim)\n",
    "        nn.init.xavier_normal_(output_layer.weight)  # Apply Xavier initialization\n",
    "        self.layers.append(output_layer)\n",
    "\n",
    "    def forward(self, input):\n",
    "        for layer in self.layers[:-1]:\n",
    "            output = torch.tanh(layer(input))\n",
    "            input = output\n",
    "        output = self.layers[-1](input)\n",
    "        return output\n",
    "\n",
    "    def loss(self, x_f, y_f, t_f, x0, y0, t0, x_b, y_b, t_b,\n",
    "             x_box_left, y_box_left, x_box_up, y_box_up,\n",
    "             x_box_right, y_box_right, x_box_down, y_box_down, t_box,\n",
    "             mu, rho, dt, c1, c2, c3, c4):\n",
    "\n",
    "        output = self(torch.cat([x_f, y_f, t_f], dim=1))\n",
    "        u = output[:, 0]\n",
    "        v = output[:, 1]\n",
    "        p = output[:, 2]\n",
    "\n",
    "        u_t = torch.autograd.grad(u, t_f, grad_outputs=torch.ones_like(u), create_graph=True, retain_graph=True, only_inputs=True)[0]\n",
    "        u_x = torch.autograd.grad(u, x_f, grad_outputs=torch.ones_like(u), create_graph=True, retain_graph=True, only_inputs=True)[0]\n",
    "        u_y = torch.autograd.grad(u, y_f, grad_outputs=torch.ones_like(u), create_graph=True, retain_graph=True, only_inputs=True)[0]\n",
    "        u_xx = torch.autograd.grad(u_x, x_f, grad_outputs=torch.ones_like(u_x), create_graph=True, retain_graph=True, only_inputs=True)[0]\n",
    "        u_yy = torch.autograd.grad(u_y, y_f, grad_outputs=torch.ones_like(u_y), create_graph=True, retain_graph=True, only_inputs=True)[0]\n",
    "\n",
    "        v_t = torch.autograd.grad(v, t_f, grad_outputs=torch.ones_like(v), create_graph=True, retain_graph=True, only_inputs=True)[0]\n",
    "        v_x = torch.autograd.grad(v, x_f, grad_outputs=torch.ones_like(v), create_graph=True, retain_graph=True, only_inputs=True)[0]\n",
    "        v_y = torch.autograd.grad(v, y_f, grad_outputs=torch.ones_like(v), create_graph=True, retain_graph=True, only_inputs=True)[0]\n",
    "        v_xx = torch.autograd.grad(v_x, x_f, grad_outputs=torch.ones_like(v_x), create_graph=True, retain_graph=True, only_inputs=True)[0]\n",
    "        v_yy = torch.autograd.grad(v_y, y_f, grad_outputs=torch.ones_like(v_y), create_graph=True, retain_graph=True, only_inputs=True)[0]\n",
    "\n",
    "        p_x = torch.autograd.grad(p, x_f, grad_outputs=torch.ones_like(p), create_graph=True, retain_graph=True, only_inputs=True)[0]\n",
    "        p_xx = torch.autograd.grad(p_x, x_f, grad_outputs=torch.ones_like(p_x), create_graph=True, retain_graph=True, only_inputs=True)[0]\n",
    "        p_y = torch.autograd.grad(p, y_f, grad_outputs=torch.ones_like(p), create_graph=True, retain_graph=True, only_inputs=True)[0]\n",
    "        p_yy = torch.autograd.grad(p_y, y_f, grad_outputs=torch.ones_like(p_y), create_graph=True, retain_graph=True, only_inputs=True)[0]\n",
    "\n",
    "        b = rho * ( 1/dt * (u_x + v_y) - u_x**2 - 2*u_y*v_x - v_y**2)\n",
    "\n",
    "        f1 = u_t + u*u_x + v*u_y + (1/rho) * p_x - mu * (u_xx + u_yy)\n",
    "        f2 = v_t + u*v_x + v*v_y + (1/rho) * p_y - mu * (v_xx + v_yy)\n",
    "        f3 = u_x + v_y\n",
    "        f4 = p_xx + p_yy - b\n",
    "\n",
    "        # Initial condition loss\n",
    "        output_init = self(torch.cat([x0, y0, t0], dim=1))\n",
    "        u0_pred = output_init[:, 0]\n",
    "        v0_pred = output_init[:, 1]\n",
    "        p0_pred = output_init[:, 2]\n",
    "        \n",
    "        # for x > 0 and t = 0 -> u, v, p = 0\n",
    "\n",
    "        u0_true = torch.zeros_like(u0_pred)\n",
    "        v0_true = torch.zeros_like(v0_pred)\n",
    "        p0_true = torch.ones_like(p0_pred)\n",
    "        \n",
    "        ic_loss_u = torch.mean(torch.square(u0_pred - u0_true))\n",
    "        ic_loss_v = torch.mean(torch.square(v0_pred - v0_true))\n",
    "        ic_loss_p = torch.mean(torch.square(p0_pred - p0_true))\n",
    "\n",
    "        # Boundary conditions loss\n",
    "        output_boundary = self(torch.cat([x_b, y_b, t_b], dim=1))\n",
    "        u_b_pred = output_boundary[:, 0]\n",
    "        v_b_pred = output_boundary[:, 1]\n",
    "\n",
    "        u_b_true = torch.ones_like(u_b_pred)\n",
    "        v_b_true = torch.zeros_like(v_b_pred)\n",
    "        \n",
    "        bc_loss_u = torch.mean(torch.square(u_b_pred - u_b_true))\n",
    "        bc_loss_v = torch.mean(torch.square(v_b_pred - v_b_true))\n",
    "\n",
    "        # Box boundary conditions loss\n",
    "        ## left\n",
    "        output_boundary_box_left = self(torch.cat([x_box_left, y_box_left, t_box], dim=1))\n",
    "        u_box_left_pred = output_boundary_box_left[:, 0]\n",
    "        v_box_left_pred = output_boundary_box_left[:, 1]\n",
    "\n",
    "        u_box_left_true = torch.ones_like(u_box_left_pred)\n",
    "        v_box_left_true = torch.zeros_like(v_box_left_pred)\n",
    "        \n",
    "        box_left_loss_u = torch.mean(torch.square(u_box_left_pred - u_box_left_true))\n",
    "        box_left_loss_v = torch.mean(torch.square(v_box_left_pred - v_box_left_true))\n",
    "\n",
    "        ## up\n",
    "        output_boundary_box_up = self(torch.cat([x_box_up, y_box_up, t_box], dim=1))\n",
    "        u_box_up_pred = output_boundary_box_up[:, 0]\n",
    "        v_box_up_pred = output_boundary_box_up[:, 1]\n",
    "\n",
    "        u_box_up_true = torch.ones_like(u_box_up_pred)\n",
    "        v_box_up_true = torch.zeros_like(v_box_up_pred)\n",
    "        \n",
    "        box_up_loss_u = torch.mean(torch.square(u_box_up_pred - u_box_up_true))\n",
    "        box_up_loss_v = torch.mean(torch.square(v_box_up_pred - v_box_up_true))\n",
    "\n",
    "        ## right\n",
    "        output_boundary_box_right = self(torch.cat([x_box_right, y_box_right, t_box], dim=1))\n",
    "        u_box_right_pred = output_boundary_box_right[:, 0]\n",
    "        v_box_right_pred = output_boundary_box_right[:, 1]\n",
    "\n",
    "        u_box_right_true = torch.ones_like(u_box_right_pred)\n",
    "        v_box_right_true = torch.zeros_like(v_box_right_pred)\n",
    "        \n",
    "        box_right_loss_u = torch.mean(torch.square(u_box_right_pred - u_box_right_true))\n",
    "        box_right_loss_v = torch.mean(torch.square(v_box_right_pred - v_box_right_true))\n",
    "\n",
    "        ## down\n",
    "        output_boundary_box_down = self(torch.cat([x_box_down, y_box_down, t_box], dim=1))\n",
    "        u_box_down_pred = output_boundary_box_down[:, 0]\n",
    "        v_box_down_pred = output_boundary_box_down[:, 1]\n",
    "\n",
    "        u_box_down_true = torch.ones_like(u_box_down_pred)\n",
    "        v_box_down_true = torch.zeros_like(v_box_down_pred)\n",
    "        \n",
    "        box_down_loss_u = torch.mean(torch.square(u_box_down_pred - u_box_down_true))\n",
    "        box_down_loss_v = torch.mean(torch.square(v_box_down_pred - v_box_down_true))\n",
    "\n",
    "        # Combine PDE residual, initial condition, and boundary condition losses\n",
    "        pde_loss = torch.mean(torch.square(f1)) + \\\n",
    "                             torch.mean(torch.square(f2)) + \\\n",
    "                             torch.mean(torch.square(f3)) + \\\n",
    "                             torch.mean(torch.square(f4)) / 4\n",
    "        \n",
    "        ic_loss = (ic_loss_u + ic_loss_v + ic_loss_p) / 3 \n",
    "        \n",
    "        bc_loss = (bc_loss_u + bc_loss_v) / 2\n",
    "\n",
    "        bc_box_loss = (box_left_loss_u + box_left_loss_v + \\\n",
    "                        box_up_loss_u + box_up_loss_v + \\\n",
    "                        box_right_loss_u + box_right_loss_v + \\\n",
    "                        box_down_loss_u + box_down_loss_v) / 8\n",
    "\n",
    "        total_loss =    c1 * pde_loss + \\\n",
    "                        c2 * ic_loss + \\\n",
    "                        c3 * bc_loss + \\\n",
    "                        c4 * bc_box_loss\n",
    "\n",
    "        return total_loss, pde_loss, ic_loss, bc_loss, bc_box_loss\n"
   ]
  },
  {
   "cell_type": "code",
   "execution_count": 3,
   "metadata": {},
   "outputs": [],
   "source": [
    "x_max = 1\n",
    "y_max = 1\n",
    "t_max = 1\n",
    "\n",
    "Nx = 100\n",
    "Ny = 100\n",
    "Nt = 100\n",
    "\n",
    "dx = x_max / (Nx - 1)\n",
    "dy = y_max / (Ny - 1)\n",
    "dt = t_max / (Nt - 1)\n",
    "\n",
    "x_test = np.linspace(0, x_max, Nx)\n",
    "y_test = np.linspace(0, y_max, Ny)\n",
    "t_test = np.linspace(0, t_max, Nt)\n",
    "x_grid, y_grid, t_grid = np.meshgrid(x_test, y_test, t_test)"
   ]
  },
  {
   "cell_type": "code",
   "execution_count": 4,
   "metadata": {},
   "outputs": [],
   "source": [
    "def random_uniform_domains(n_samples, domains):\n",
    "    samples = np.concatenate([np.random.uniform(low, high, int(n_samples/2)) for low, high in domains])\n",
    "    return samples.reshape(-1, 1)"
   ]
  },
  {
   "cell_type": "code",
   "execution_count": 14,
   "metadata": {},
   "outputs": [
    {
     "name": "stdout",
     "output_type": "stream",
     "text": [
      "Epoch: 0,\tTotal loss: 1495259.875,\tPDE loss: 74762984.0,\tIC loss: 0.026498261839151382,\tBC loss: 0.47024983167648315,\tBC Box loss: 0.4833422601222992\n"
     ]
    },
    {
     "ename": "KeyboardInterrupt",
     "evalue": "",
     "output_type": "error",
     "traceback": [
      "\u001b[1;31m---------------------------------------------------------------------------\u001b[0m",
      "\u001b[1;31mKeyboardInterrupt\u001b[0m                         Traceback (most recent call last)",
      "Cell \u001b[1;32mIn[14], line 59\u001b[0m\n\u001b[0;32m     56\u001b[0m     \u001b[39mreturn\u001b[39;00m total_loss, pde_loss, ic_loss, bc_loss, bc_box_loss\n\u001b[0;32m     58\u001b[0m \u001b[39mfor\u001b[39;00m epoch \u001b[39min\u001b[39;00m \u001b[39mrange\u001b[39m(epochs):\n\u001b[1;32m---> 59\u001b[0m     optimizer\u001b[39m.\u001b[39;49mstep(closure)\n\u001b[0;32m     60\u001b[0m     \u001b[39mif\u001b[39;00m epoch \u001b[39m%\u001b[39m \u001b[39m100\u001b[39m \u001b[39m==\u001b[39m \u001b[39m0\u001b[39m:\n\u001b[0;32m     61\u001b[0m         total_loss, pde_loss, ic_loss, bc_loss, bc_box_loss \u001b[39m=\u001b[39m closure()\n",
      "File \u001b[1;32mc:\\Users\\gitop\\AppData\\Local\\Programs\\Python\\Python311\\Lib\\site-packages\\torch\\optim\\optimizer.py:280\u001b[0m, in \u001b[0;36mOptimizer.profile_hook_step.<locals>.wrapper\u001b[1;34m(*args, **kwargs)\u001b[0m\n\u001b[0;32m    276\u001b[0m         \u001b[39melse\u001b[39;00m:\n\u001b[0;32m    277\u001b[0m             \u001b[39mraise\u001b[39;00m \u001b[39mRuntimeError\u001b[39;00m(\u001b[39mf\u001b[39m\u001b[39m\"\u001b[39m\u001b[39m{\u001b[39;00mfunc\u001b[39m}\u001b[39;00m\u001b[39m must return None or a tuple of (new_args, new_kwargs),\u001b[39m\u001b[39m\"\u001b[39m\n\u001b[0;32m    278\u001b[0m                                \u001b[39mf\u001b[39m\u001b[39m\"\u001b[39m\u001b[39mbut got \u001b[39m\u001b[39m{\u001b[39;00mresult\u001b[39m}\u001b[39;00m\u001b[39m.\u001b[39m\u001b[39m\"\u001b[39m)\n\u001b[1;32m--> 280\u001b[0m out \u001b[39m=\u001b[39m func(\u001b[39m*\u001b[39;49margs, \u001b[39m*\u001b[39;49m\u001b[39m*\u001b[39;49mkwargs)\n\u001b[0;32m    281\u001b[0m \u001b[39mself\u001b[39m\u001b[39m.\u001b[39m_optimizer_step_code()\n\u001b[0;32m    283\u001b[0m \u001b[39m# call optimizer step post hooks\u001b[39;00m\n",
      "File \u001b[1;32mc:\\Users\\gitop\\AppData\\Local\\Programs\\Python\\Python311\\Lib\\site-packages\\torch\\optim\\optimizer.py:33\u001b[0m, in \u001b[0;36m_use_grad_for_differentiable.<locals>._use_grad\u001b[1;34m(self, *args, **kwargs)\u001b[0m\n\u001b[0;32m     31\u001b[0m \u001b[39mtry\u001b[39;00m:\n\u001b[0;32m     32\u001b[0m     torch\u001b[39m.\u001b[39mset_grad_enabled(\u001b[39mself\u001b[39m\u001b[39m.\u001b[39mdefaults[\u001b[39m'\u001b[39m\u001b[39mdifferentiable\u001b[39m\u001b[39m'\u001b[39m])\n\u001b[1;32m---> 33\u001b[0m     ret \u001b[39m=\u001b[39m func(\u001b[39mself\u001b[39;49m, \u001b[39m*\u001b[39;49margs, \u001b[39m*\u001b[39;49m\u001b[39m*\u001b[39;49mkwargs)\n\u001b[0;32m     34\u001b[0m \u001b[39mfinally\u001b[39;00m:\n\u001b[0;32m     35\u001b[0m     torch\u001b[39m.\u001b[39mset_grad_enabled(prev_grad)\n",
      "File \u001b[1;32mc:\\Users\\gitop\\AppData\\Local\\Programs\\Python\\Python311\\Lib\\site-packages\\torch\\optim\\adam.py:121\u001b[0m, in \u001b[0;36mAdam.step\u001b[1;34m(self, closure)\u001b[0m\n\u001b[0;32m    119\u001b[0m \u001b[39mif\u001b[39;00m closure \u001b[39mis\u001b[39;00m \u001b[39mnot\u001b[39;00m \u001b[39mNone\u001b[39;00m:\n\u001b[0;32m    120\u001b[0m     \u001b[39mwith\u001b[39;00m torch\u001b[39m.\u001b[39menable_grad():\n\u001b[1;32m--> 121\u001b[0m         loss \u001b[39m=\u001b[39m closure()\n\u001b[0;32m    123\u001b[0m \u001b[39mfor\u001b[39;00m group \u001b[39min\u001b[39;00m \u001b[39mself\u001b[39m\u001b[39m.\u001b[39mparam_groups:\n\u001b[0;32m    124\u001b[0m     params_with_grad \u001b[39m=\u001b[39m []\n",
      "Cell \u001b[1;32mIn[14], line 54\u001b[0m, in \u001b[0;36mclosure\u001b[1;34m()\u001b[0m\n\u001b[0;32m     47\u001b[0m t_box \u001b[39m=\u001b[39m torch\u001b[39m.\u001b[39mtensor(np\u001b[39m.\u001b[39mrandom\u001b[39m.\u001b[39muniform(\u001b[39m0\u001b[39m, t_max, size\u001b[39m=\u001b[39m(Nbox, \u001b[39m1\u001b[39m)), dtype\u001b[39m=\u001b[39mtorch\u001b[39m.\u001b[39mfloat32, device\u001b[39m=\u001b[39mdevice, requires_grad\u001b[39m=\u001b[39m\u001b[39mTrue\u001b[39;00m)\n\u001b[0;32m     49\u001b[0m total_loss, pde_loss, ic_loss, bc_loss, bc_box_loss \u001b[39m=\u001b[39m pinn\u001b[39m.\u001b[39mloss(x_f, y_f, t_f, x0, y0, t0, x_b, y_b, t_b, \n\u001b[0;32m     50\u001b[0m                  x_box_left, y_box_left, x_box_up, y_box_up,\n\u001b[0;32m     51\u001b[0m                  x_box_right, y_box_right, x_box_down, y_box_down, t_box,\n\u001b[0;32m     52\u001b[0m                  mu, rho, dt, \u001b[39m0.02\u001b[39m, \u001b[39m0.25\u001b[39m, \u001b[39m0.25\u001b[39m, \u001b[39m0.25\u001b[39m)\n\u001b[1;32m---> 54\u001b[0m total_loss\u001b[39m.\u001b[39;49mbackward()\n\u001b[0;32m     56\u001b[0m \u001b[39mreturn\u001b[39;00m total_loss, pde_loss, ic_loss, bc_loss, bc_box_loss\n",
      "File \u001b[1;32mc:\\Users\\gitop\\AppData\\Local\\Programs\\Python\\Python311\\Lib\\site-packages\\torch\\_tensor.py:487\u001b[0m, in \u001b[0;36mTensor.backward\u001b[1;34m(self, gradient, retain_graph, create_graph, inputs)\u001b[0m\n\u001b[0;32m    477\u001b[0m \u001b[39mif\u001b[39;00m has_torch_function_unary(\u001b[39mself\u001b[39m):\n\u001b[0;32m    478\u001b[0m     \u001b[39mreturn\u001b[39;00m handle_torch_function(\n\u001b[0;32m    479\u001b[0m         Tensor\u001b[39m.\u001b[39mbackward,\n\u001b[0;32m    480\u001b[0m         (\u001b[39mself\u001b[39m,),\n\u001b[1;32m   (...)\u001b[0m\n\u001b[0;32m    485\u001b[0m         inputs\u001b[39m=\u001b[39minputs,\n\u001b[0;32m    486\u001b[0m     )\n\u001b[1;32m--> 487\u001b[0m torch\u001b[39m.\u001b[39;49mautograd\u001b[39m.\u001b[39;49mbackward(\n\u001b[0;32m    488\u001b[0m     \u001b[39mself\u001b[39;49m, gradient, retain_graph, create_graph, inputs\u001b[39m=\u001b[39;49minputs\n\u001b[0;32m    489\u001b[0m )\n",
      "File \u001b[1;32mc:\\Users\\gitop\\AppData\\Local\\Programs\\Python\\Python311\\Lib\\site-packages\\torch\\autograd\\__init__.py:200\u001b[0m, in \u001b[0;36mbackward\u001b[1;34m(tensors, grad_tensors, retain_graph, create_graph, grad_variables, inputs)\u001b[0m\n\u001b[0;32m    195\u001b[0m     retain_graph \u001b[39m=\u001b[39m create_graph\n\u001b[0;32m    197\u001b[0m \u001b[39m# The reason we repeat same the comment below is that\u001b[39;00m\n\u001b[0;32m    198\u001b[0m \u001b[39m# some Python versions print out the first line of a multi-line function\u001b[39;00m\n\u001b[0;32m    199\u001b[0m \u001b[39m# calls in the traceback and some print out the last line\u001b[39;00m\n\u001b[1;32m--> 200\u001b[0m Variable\u001b[39m.\u001b[39;49m_execution_engine\u001b[39m.\u001b[39;49mrun_backward(  \u001b[39m# Calls into the C++ engine to run the backward pass\u001b[39;49;00m\n\u001b[0;32m    201\u001b[0m     tensors, grad_tensors_, retain_graph, create_graph, inputs,\n\u001b[0;32m    202\u001b[0m     allow_unreachable\u001b[39m=\u001b[39;49m\u001b[39mTrue\u001b[39;49;00m, accumulate_grad\u001b[39m=\u001b[39;49m\u001b[39mTrue\u001b[39;49;00m)\n",
      "\u001b[1;31mKeyboardInterrupt\u001b[0m: "
     ]
    }
   ],
   "source": [
    "input_dim = 3\n",
    "output_dim = 3\n",
    "# hidden_units = [32, 32, 32]\n",
    "hidden_units = [64, 64, 64, 64]\n",
    "# hidden_units = [128, 128, 128, 128]\n",
    "\n",
    "pinn = PINN(input_dim, output_dim, hidden_units).to(device)\n",
    "\n",
    "optimizer = torch.optim.Adam(pinn.parameters(), lr=0.1)\n",
    "# optimizer = torch.optim.LBFGS(pinn.parameters())\n",
    "\n",
    "epochs = 1000\n",
    "Nf = 100   # num of collocation points -> pde evaluation\n",
    "N0 = 1000    # num of points to evaluate initial conditons\n",
    "Nb = 1000    # num of points to evaluate boundary conditions\n",
    "Nbox = 1000  # num of points to evaluate boundary condition at each edge of the box\n",
    "\n",
    "# Density (rho): 1.184 kg/m³\n",
    "# Dynamic viscosity (mu): 1.81e-5 kg/m.s\n",
    "rho = 1184\n",
    "mu = 1.81e-5\n",
    "\n",
    "def closure():\n",
    "    optimizer.zero_grad()\n",
    "\n",
    "    # collocation points should be out of the box (obstacle) and not in x=0, because there we apply other bcs\n",
    "    x_f = torch.tensor(random_uniform_domains(Nf, [(dx, 0.3), (0.7, x_max)]), dtype=torch.float32, device=device, requires_grad=True) # collocation points\n",
    "    y_f = torch.tensor(random_uniform_domains(Nf, [(0, 0.3), (0.7, y_max)]), dtype=torch.float32, device=device, requires_grad=True) # collocation points\n",
    "    t_f = torch.tensor(np.random.uniform(0, t_max, size=(Nf, 1)), dtype=torch.float32, device=device, requires_grad=True) # collocation points\n",
    "\n",
    "    x0 = torch.tensor(np.random.uniform(dx, x_max, size=(N0, 1)), dtype=torch.float32, device=device, requires_grad=True)\n",
    "    y0 = torch.tensor(np.random.uniform(0, y_max, size=(N0, 1)), dtype=torch.float32, device=device, requires_grad=True)\n",
    "    t0 = torch.zeros(size=(N0, 1), dtype=torch.float32, device=device)\n",
    "    \n",
    "    x_b = torch.zeros(size=(Nb, 1), dtype=torch.float32, device=device)\n",
    "    y_b = torch.tensor(np.random.uniform(0, y_max, size=(Nb, 1)), dtype=torch.float32, device=device, requires_grad=True)\n",
    "    t_b = torch.tensor(np.random.uniform(0, t_max, size=(Nb, 1)), dtype=torch.float32, device=device, requires_grad=True)\n",
    "\n",
    "    x_box_left =    torch.full(size=(Nbox, 1), fill_value=0.3, dtype=torch.float32, device=device)\n",
    "    y_box_left =    torch.tensor(np.random.uniform(0.3, 0.7, size=(Nbox, 1)), dtype=torch.float32, device=device, requires_grad=True)\n",
    "    x_box_up =      torch.tensor(np.random.uniform(0.3, 0.7, size=(Nbox, 1)), dtype=torch.float32, device=device, requires_grad=True)\n",
    "    y_box_up =      torch.full(size=(Nbox, 1), fill_value=0.7, dtype=torch.float32, device=device)\n",
    "    x_box_right =   torch.full(size=(Nbox, 1), fill_value=0.7, dtype=torch.float32, device=device)\n",
    "    y_box_right =   torch.tensor(np.random.uniform(0.3, 0.7, size=(Nbox, 1)), dtype=torch.float32, device=device, requires_grad=True)\n",
    "    x_box_down =    torch.tensor(np.random.uniform(0.3, 0.7, size=(Nbox, 1)), dtype=torch.float32, device=device, requires_grad=True)\n",
    "    y_box_down =    torch.full(size=(Nbox, 1), fill_value=0.3, dtype=torch.float32, device=device)\n",
    "    t_box = torch.tensor(np.random.uniform(0, t_max, size=(Nbox, 1)), dtype=torch.float32, device=device, requires_grad=True)\n",
    "\n",
    "    total_loss, pde_loss, ic_loss, bc_loss, bc_box_loss = pinn.loss(x_f, y_f, t_f, x0, y0, t0, x_b, y_b, t_b, \n",
    "                     x_box_left, y_box_left, x_box_up, y_box_up,\n",
    "                     x_box_right, y_box_right, x_box_down, y_box_down, t_box,\n",
    "                     mu, rho, dt, 0.02, 0.25, 0.25, 0.25)\n",
    "\n",
    "    total_loss.backward()\n",
    "    \n",
    "    return total_loss, pde_loss, ic_loss, bc_loss, bc_box_loss\n",
    "\n",
    "for epoch in range(epochs):\n",
    "    optimizer.step(closure)\n",
    "    if epoch % 100 == 0:\n",
    "        total_loss, pde_loss, ic_loss, bc_loss, bc_box_loss = closure()\n",
    "        print(f'Epoch: {epoch},\\tTotal loss: {total_loss.item()},\\tPDE loss: {pde_loss.item()},\\tIC loss: {ic_loss.item()},\\tBC loss: {bc_loss.item()},\\tBC Box loss: {bc_box_loss.item()}')"
   ]
  },
  {
   "cell_type": "code",
   "execution_count": 10,
   "metadata": {},
   "outputs": [],
   "source": [
    "torch.save(pinn.state_dict(), './navier_stokes_pinn_4.pt')"
   ]
  },
  {
   "cell_type": "code",
   "execution_count": 19,
   "metadata": {},
   "outputs": [],
   "source": [
    "# Evaluate the model at the grid points\n",
    "x_test_tensor = torch.tensor(x_grid.reshape(-1, 1), dtype=torch.float32, device=device, requires_grad=True)\n",
    "y_test_tensor = torch.tensor(y_grid.reshape(-1, 1), dtype=torch.float32, device=device, requires_grad=True)\n",
    "t_test_tensor = torch.tensor(t_grid.reshape(-1, 1), dtype=torch.float32, device=device, requires_grad=True)\n",
    "\n",
    "with torch.no_grad():  # Disable gradient calculation to save memory and computation\n",
    "    output = pinn(torch.cat([x_test_tensor, y_test_tensor, t_test_tensor], dim=1))\n",
    "    \n",
    "u = output[:, 0].detach().cpu().numpy().reshape(100, 100, 100)\n",
    "v = output[:, 1].detach().cpu().numpy().reshape(100, 100, 100)\n",
    "p = output[:, 2].detach().cpu().numpy().reshape(100, 100, 100)"
   ]
  },
  {
   "cell_type": "code",
   "execution_count": 22,
   "metadata": {},
   "outputs": [
    {
     "data": {
      "text/plain": [
       "<matplotlib.colorbar.Colorbar at 0x1df00e72450>"
      ]
     },
     "execution_count": 22,
     "metadata": {},
     "output_type": "execute_result"
    },
    {
     "data": {
      "image/png": "[encoded data removed]",
      "text/plain": [
       "<Figure size 640x480 with 2 Axes>"
      ]
     },
     "metadata": {},
     "output_type": "display_data"
    }
   ],
   "source": [
    "import matplotlib.cm as cm\n",
    "import matplotlib.colors as mcolors\n",
    "\n",
    "fig, ax = plt.subplots()\n",
    "\n",
    "X, Y = np.meshgrid(np.arange(0, 1 + dx, dx), np.arange(0, 1 + dy, dy))\n",
    "\n",
    "step = 0\n",
    "strm = ax.streamplot(X, Y, u[:, :, step], v[:, :, step], color=(np.sqrt(u[:, :, step]**2)), linewidth=1, cmap=cm.inferno)\n",
    "# strm = ax.streamplot(X, Y, u[:, :, step], v[:, :, step], color=(u[:, :, step]), linewidth=1, cmap=cm.inferno)\n",
    "\n",
    "# obstacle = get_obstacle_mask(ax, u.shape[1], u.shape[0])\n",
    "# ax.add_patch(obstacle)\n",
    "\n",
    "ax.set_title(\"Time Step: {}\".format(step))\n",
    "ax.set_xlim(0, 1)  # Set x-axis limits\n",
    "ax.set_ylim(0, 1)  # Set y-axis limits\n",
    "ax.set_xlabel(\"x\")  # Set y-axis limits\n",
    "ax.set_ylabel(\"y\")  # Set y-axis limits\n",
    "\n",
    "norm = mcolors.Normalize(vmin=0, vmax=1)\n",
    "sm = plt.cm.ScalarMappable(cmap=cm.inferno, norm=norm)\n",
    "sm.set_array([])\n",
    "\n",
    "fig.colorbar(sm, ax=ax, label='Velocity magnitude')"
   ]
  },
  {
   "cell_type": "code",
   "execution_count": 29,
   "metadata": {},
   "outputs": [
    {
     "data": {
      "image/png": "[encoded data removed]",
      "text/plain": [
       "<Figure size 640x480 with 2 Axes>"
      ]
     },
     "metadata": {},
     "output_type": "display_data"
    }
   ],
   "source": [
    "import matplotlib.pyplot as plt\n",
    "import numpy as np\n",
    "\n",
    "# Create a contour plot of the temperature distribution\n",
    "step = 99\n",
    "plt.figure()\n",
    "plt.contourf(X, Y, np.sqrt(u[:, :, step]**2 + v[:, :, step]**2), cmap=\"jet\")\n",
    "plt.xlabel(\"x\")\n",
    "plt.ylabel(\"y\")\n",
    "plt.title(\"\")\n",
    "plt.colorbar(label=\"\")\n",
    "plt.show()"
   ]
  },
  {
   "cell_type": "code",
   "execution_count": 16,
   "metadata": {},
   "outputs": [
    {
     "data": {
      "text/plain": [
       "<All keys matched successfully>"
      ]
     },
     "execution_count": 16,
     "metadata": {},
     "output_type": "execute_result"
    }
   ],
   "source": [
    "input_dim = 3\n",
    "output_dim = 3\n",
    "# hidden_units = [32, 32, 32]\n",
    "hidden_units = [64, 64, 64, 64]\n",
    "# hidden_units = [128, 128, 128, 128]\n",
    "\n",
    "pinn = PINN(input_dim, output_dim, hidden_units).to(device)\n",
    "\n",
    "# Load the state_dict into the model\n",
    "pinn.load_state_dict(torch.load(\"./navier_stokes_pinn_2.pt\"))"
   ]
  },
  {
   "cell_type": "code",
   "execution_count": 17,
   "metadata": {},
   "outputs": [
    {
     "data": {
      "text/plain": [
       "PINN(\n",
       "  (layers): ModuleList(\n",
       "    (0): Linear(in_features=3, out_features=64, bias=True)\n",
       "    (1-3): 3 x Linear(in_features=64, out_features=64, bias=True)\n",
       "    (4): Linear(in_features=64, out_features=3, bias=True)\n",
       "  )\n",
       ")"
      ]
     },
     "execution_count": 17,
     "metadata": {},
     "output_type": "execute_result"
    }
   ],
   "source": [
    "pinn"
   ]
  }
 ],
 "metadata": {
  "kernelspec": {
   "display_name": "Python 3",
   "language": "python",
   "name": "python3"
  },
  "language_info": {
   "codemirror_mode": {
    "name": "ipython",
    "version": 3
   },
   "file_extension": ".py",
   "mimetype": "text/x-python",
   "name": "python",
   "nbconvert_exporter": "python",
   "pygments_lexer": "ipython3",
   "version": "3.11.3"
  },
  "orig_nbformat": 4,
  "vscode": {
   "interpreter": {
    "hash": "81794d4967e6c3204c66dcd87b604927b115b27c00565d3d43f05ba2f3a2cb0d"
   }
  }
 },
 "nbformat": 4,
 "nbformat_minor": 2
}
