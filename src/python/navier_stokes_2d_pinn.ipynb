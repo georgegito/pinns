{
 "cells": [
  {
   "cell_type": "code",
   "execution_count": 1,
   "metadata": {},
   "outputs": [],
   "source": [
    "import torch\n",
    "import torch.nn as nn\n",
    "import numpy as np\n",
    "import matplotlib.pyplot as plt\n",
    "\n",
    "device = torch.device('cuda' if torch.cuda.is_available() else 'cpu')\n",
    "# device = \"cpu\""
   ]
  },
  {
   "attachments": {},
   "cell_type": "markdown",
   "metadata": {},
   "source": [
    "The incompressible 2D Navier-Stokes equations are:\n",
    "\n",
    "\\begin{align}\n",
    "    \\frac{\\partial u}{\\partial t} + u \\frac{\\partial u}{\\partial x} + v \\frac{\\partial u}{\\partial y} &= -\\frac{1}{\\rho} \\frac{\\partial p}{\\partial x} + \\nu \\left( \\frac{\\partial^2 u}{\\partial x^2} + \\frac{\\partial^2 u}{\\partial y^2} \\right), \\\\\n",
    "    \\frac{\\partial v}{\\partial t} + u \\frac{\\partial v}{\\partial x} + v \\frac{\\partial v}{\\partial y} &= -\\frac{1}{\\rho} \\frac{\\partial p}{\\partial y} + \\nu \\left( \\frac{\\partial^2 v}{\\partial x^2} + \\frac{\\partial^2 v}{\\partial y^2} \\right), \\\\\n",
    "    \\frac{\\partial u}{\\partial x} + \\frac{\\partial v}{\\partial y} &= 0,\n",
    "\\end{align}\n",
    "\n",
    "where $u$ and $v$ are the velocity components in the $x$ and $y$ directions, respectively, $p$ is the pressure, $\\rho$ is the fluid density, and $\\nu$ is the kinematic viscosity."
   ]
  },
  {
   "attachments": {},
   "cell_type": "markdown",
   "metadata": {},
   "source": [
    "The pressure Poisson equation is:\n",
    "\n",
    "\\begin{equation}\n",
    "    \\nabla^2 p = b,\n",
    "\\end{equation}\n",
    "\n",
    "where $p$ is the pressure, $\\nabla^2$ is the Laplace operator, and $b$ is the source term.\n",
    "\n",
    "In 2D Cartesian coordinates, the pressure Poisson equation can be written as:\n",
    "\n",
    "\\begin{equation}\n",
    "    \\frac{\\partial^2 p}{\\partial x^2} + \\frac{\\partial^2 p}{\\partial y^2} = b.\n",
    "\\end{equation}"
   ]
  },
  {
   "attachments": {},
   "cell_type": "markdown",
   "metadata": {},
   "source": [
    "The source term $b$ in the pressure Poisson equation is computed as:\n",
    "\n",
    "\\begin{equation}\n",
    "    b = \\rho \\left( \\frac{1}{\\Delta t} \\left( \\frac{\\partial u}{\\partial x} + \\frac{\\partial v}{\\partial y} \\right) - \\left(\\frac{\\partial u}{\\partial x}\\right)^2 - 2 \\frac{\\partial u}{\\partial y} \\frac{\\partial v}{\\partial x} - \\left(\\frac{\\partial v}{\\partial y}\\right)^2 \\right),\n",
    "\\end{equation}\n",
    "\n",
    "where $b$ is the source term, $\\rho$ is the fluid density, $u$ and $v$ are the velocity components in the $x$ and $y$ directions, respectively, $\\Delta t$ is the time step size, and $\\frac{\\partial}{\\partial x}$ and $\\frac{\\partial}{\\partial y}$ represent the partial derivatives with respect to $x$ and $y$, respectively.\n"
   ]
  },
  {
   "cell_type": "code",
   "execution_count": 2,
   "metadata": {},
   "outputs": [],
   "source": [
    "class PINN(nn.Module):\n",
    "    def __init__(self, input_dim, output_dim, hidden_units):\n",
    "        super(PINN, self).__init__()\n",
    "        self.layers = nn.ModuleList()\n",
    "        in_units = input_dim\n",
    "        for units in hidden_units:\n",
    "            layer = nn.Linear(in_units, units)\n",
    "            nn.init.xavier_normal_(layer.weight)  # Apply Xavier initialization\n",
    "            self.layers.append(layer)\n",
    "            in_units = units\n",
    "        output_layer = nn.Linear(in_units, output_dim)\n",
    "        nn.init.xavier_normal_(output_layer.weight)  # Apply Xavier initialization\n",
    "        self.layers.append(output_layer)\n",
    "\n",
    "    def forward(self, input):\n",
    "        for layer in self.layers[:-1]:\n",
    "            output = torch.tanh(layer(input))\n",
    "            input = output\n",
    "        output = self.layers[-1](input)\n",
    "        return output\n",
    "\n",
    "    def loss(self, x_f, y_f, t_f, x0, y0, t0, x_b, y_b, t_b,\n",
    "             x_box_left, y_box_left, x_box_up, y_box_up,\n",
    "             x_box_right, y_box_right, x_box_down, y_box_down, t_box,\n",
    "             mu, rho, dt, c1, c2, c3, c4):\n",
    "\n",
    "        xyt_combinations = torch.cartesian_prod(x_f.flatten(), y_f.flatten(), t_f.flatten())\n",
    "        output = self(xyt_combinations)\n",
    "        u = output[:, 0]\n",
    "        v = output[:, 1]\n",
    "        p = output[:, 2]\n",
    "\n",
    "        u_t = torch.autograd.grad(u, t_f, grad_outputs=torch.ones_like(u), create_graph=True, retain_graph=True, only_inputs=True)[0]\n",
    "        u_x = torch.autograd.grad(u, x_f, grad_outputs=torch.ones_like(u), create_graph=True, retain_graph=True, only_inputs=True)[0]\n",
    "        u_y = torch.autograd.grad(u, y_f, grad_outputs=torch.ones_like(u), create_graph=True, retain_graph=True, only_inputs=True)[0]\n",
    "        u_xx = torch.autograd.grad(u_x, x_f, grad_outputs=torch.ones_like(u_x), create_graph=True, retain_graph=True, only_inputs=True)[0]\n",
    "        u_yy = torch.autograd.grad(u_y, y_f, grad_outputs=torch.ones_like(u_y), create_graph=True, retain_graph=True, only_inputs=True)[0]\n",
    "\n",
    "        v_t = torch.autograd.grad(v, t_f, grad_outputs=torch.ones_like(v), create_graph=True, retain_graph=True, only_inputs=True)[0]\n",
    "        v_x = torch.autograd.grad(v, x_f, grad_outputs=torch.ones_like(v), create_graph=True, retain_graph=True, only_inputs=True)[0]\n",
    "        v_y = torch.autograd.grad(v, y_f, grad_outputs=torch.ones_like(v), create_graph=True, retain_graph=True, only_inputs=True)[0]\n",
    "        v_xx = torch.autograd.grad(v_x, x_f, grad_outputs=torch.ones_like(v_x), create_graph=True, retain_graph=True, only_inputs=True)[0]\n",
    "        v_yy = torch.autograd.grad(v_y, y_f, grad_outputs=torch.ones_like(v_y), create_graph=True, retain_graph=True, only_inputs=True)[0]\n",
    "\n",
    "        p_x = torch.autograd.grad(p, x_f, grad_outputs=torch.ones_like(p), create_graph=True, retain_graph=True, only_inputs=True)[0]\n",
    "        p_xx = torch.autograd.grad(p_x, x_f, grad_outputs=torch.ones_like(p_x), create_graph=True, retain_graph=True, only_inputs=True)[0]\n",
    "        p_y = torch.autograd.grad(p, y_f, grad_outputs=torch.ones_like(p), create_graph=True, retain_graph=True, only_inputs=True)[0]\n",
    "        p_yy = torch.autograd.grad(p_y, y_f, grad_outputs=torch.ones_like(p_y), create_graph=True, retain_graph=True, only_inputs=True)[0]\n",
    "\n",
    "        b = rho * ( 1/dt * (u_x + v_y) - u_x**2 - 2*u_y*v_x - v_y**2)\n",
    "\n",
    "        f1 = u_t + u*u_x + v*u_y + (1/rho) * p_x - mu * (u_xx + u_yy)\n",
    "        f2 = v_t + u*v_x + v*v_y + (1/rho) * p_y - mu * (v_xx + v_yy)\n",
    "        f3 = u_x + v_y\n",
    "        f4 = p_xx + p_yy - b\n",
    "\n",
    "        # Initial condition loss\n",
    "        output_init = self(torch.cat([x0, y0, t0], dim=1))\n",
    "        u0_pred = output_init[:, 0]\n",
    "        v0_pred = output_init[:, 1]\n",
    "        p0_pred = output_init[:, 2]\n",
    "\n",
    "        # for x > 0 and t = 0 -> u, v, p = 0\n",
    "\n",
    "        u0_true = torch.zeros_like(u0_pred)\n",
    "        v0_true = torch.zeros_like(v0_pred)\n",
    "        p0_true = torch.ones_like(p0_pred)\n",
    "\n",
    "        ic_loss_u = torch.mean(torch.square(u0_pred - u0_true))\n",
    "        ic_loss_v = torch.mean(torch.square(v0_pred - v0_true))\n",
    "        ic_loss_p = torch.mean(torch.square(p0_pred - p0_true))\n",
    "\n",
    "        # Boundary conditions loss\n",
    "\n",
    "        xyt_combinations = torch.cartesian_prod(x_b.flatten(), y_b.flatten(), t_b.flatten())\n",
    "        output_boundary = self(xyt_combinations)\n",
    "        u_b_pred = output_boundary[:, 0]\n",
    "        v_b_pred = output_boundary[:, 1]\n",
    "\n",
    "        # for u = 1 and v = 0 for x = 0\n",
    "\n",
    "        u_b_true = torch.ones_like(u_b_pred)\n",
    "        v_b_true = torch.zeros_like(v_b_pred)\n",
    "        \n",
    "        bc_loss_u = torch.mean(torch.square(u_b_pred - u_b_true))\n",
    "        bc_loss_v = torch.mean(torch.square(v_b_pred - v_b_true))\n",
    "\n",
    "        # Box boundary conditions loss\n",
    "        ## left\n",
    "        xyt_combinations = torch.cartesian_prod(x_box_left.flatten(), y_box_left.flatten(), t_box.flatten())\n",
    "        output_boundary_box_left = self(xyt_combinations)\n",
    "        u_box_left_pred = output_boundary_box_left[:, 0]\n",
    "        v_box_left_pred = output_boundary_box_left[:, 1]\n",
    "\n",
    "        u_box_left_true = torch.ones_like(u_box_left_pred)\n",
    "        v_box_left_true = torch.zeros_like(v_box_left_pred)\n",
    "        \n",
    "        box_left_loss_u = torch.mean(torch.square(u_box_left_pred - u_box_left_true))\n",
    "        box_left_loss_v = torch.mean(torch.square(v_box_left_pred - v_box_left_true))\n",
    "\n",
    "        ## up\n",
    "        xyt_combinations = torch.cartesian_prod(x_box_up.flatten(), y_box_up.flatten(), t_box.flatten())\n",
    "        output_boundary_box_up = self(xyt_combinations)\n",
    "        u_box_up_pred = output_boundary_box_up[:, 0]\n",
    "        v_box_up_pred = output_boundary_box_up[:, 1]\n",
    "\n",
    "        u_box_up_true = torch.ones_like(u_box_up_pred)\n",
    "        v_box_up_true = torch.zeros_like(v_box_up_pred)\n",
    "        \n",
    "        box_up_loss_u = torch.mean(torch.square(u_box_up_pred - u_box_up_true))\n",
    "        box_up_loss_v = torch.mean(torch.square(v_box_up_pred - v_box_up_true))\n",
    "\n",
    "        ## right\n",
    "        xyt_combinations = torch.cartesian_prod(x_box_right.flatten(), y_box_right.flatten(), t_box.flatten())\n",
    "        output_boundary_box_right = self(xyt_combinations)\n",
    "        u_box_right_pred = output_boundary_box_right[:, 0]\n",
    "        v_box_right_pred = output_boundary_box_right[:, 1]\n",
    "\n",
    "        u_box_right_true = torch.ones_like(u_box_right_pred)\n",
    "        v_box_right_true = torch.zeros_like(v_box_right_pred)\n",
    "        \n",
    "        box_right_loss_u = torch.mean(torch.square(u_box_right_pred - u_box_right_true))\n",
    "        box_right_loss_v = torch.mean(torch.square(v_box_right_pred - v_box_right_true))\n",
    "\n",
    "        ## down\n",
    "        xyt_combinations = torch.cartesian_prod(x_box_down.flatten(), y_box_down.flatten(), t_box.flatten())\n",
    "        output_boundary_box_down = self(xyt_combinations)\n",
    "        u_box_down_pred = output_boundary_box_down[:, 0]\n",
    "        v_box_down_pred = output_boundary_box_down[:, 1]\n",
    "\n",
    "        u_box_down_true = torch.ones_like(u_box_down_pred)\n",
    "        v_box_down_true = torch.zeros_like(v_box_down_pred)\n",
    "        \n",
    "        box_down_loss_u = torch.mean(torch.square(u_box_down_pred - u_box_down_true))\n",
    "        box_down_loss_v = torch.mean(torch.square(v_box_down_pred - v_box_down_true))\n",
    "\n",
    "        # Combine PDE residual, initial condition, and boundary condition losses\n",
    "        pde_loss = torch.mean(torch.square(f1)) + \\\n",
    "                             torch.mean(torch.square(f2)) + \\\n",
    "                             torch.mean(torch.square(f3)) + \\\n",
    "                             torch.mean(torch.square(f4)) / 4\n",
    "        \n",
    "        ic_loss = (ic_loss_u + ic_loss_v + ic_loss_p) / 3 \n",
    "        \n",
    "        bc_loss = (bc_loss_u + bc_loss_v) / 2\n",
    "\n",
    "        bc_box_loss = (box_left_loss_u + box_left_loss_v + \\\n",
    "                        box_up_loss_u + box_up_loss_v + \\\n",
    "                        box_right_loss_u + box_right_loss_v + \\\n",
    "                        box_down_loss_u + box_down_loss_v) / 8\n",
    "        \n",
    "        # bc_box_loss = torch.tensor(0)\n",
    "\n",
    "        total_loss =    c1 * pde_loss + \\\n",
    "                        c2 * ic_loss + \\\n",
    "                        c3 * bc_loss + \\\n",
    "                        c4 * bc_box_loss\n",
    "\n",
    "        return total_loss, pde_loss, ic_loss, bc_loss, bc_box_loss\n"
   ]
  },
  {
   "cell_type": "code",
   "execution_count": 3,
   "metadata": {},
   "outputs": [],
   "source": [
    "def random_uniform_domains(n_samples, domains):\n",
    "    samples = np.concatenate([np.random.uniform(low, high, int(n_samples/2)) for low, high in domains])\n",
    "    return samples.reshape(-1, 1)\n",
    "\n",
    "def domains_union(domains, dx, reshape=True):\n",
    "    # x_f = torch.cat(torch.from_numpy((np.arange(0, 0.3 + dx, dx))), torch.from_numpy((np.arange(0.7, x_max + dx, dx))))\n",
    "    samples = np.concatenate([np.arange(low, high, dx) for low, high in domains])\n",
    "    \n",
    "    if reshape:\n",
    "        return samples.reshape(-1, 1)\n",
    "    else:\n",
    "        return samples"
   ]
  },
  {
   "cell_type": "code",
   "execution_count": 4,
   "metadata": {},
   "outputs": [],
   "source": [
    "x_max = 1\n",
    "y_max = 1\n",
    "t_max = 1\n",
    "\n",
    "Nx = 10\n",
    "Ny = 10\n",
    "Nt = 10\n",
    "\n",
    "dx = x_max / (Nx - 1)\n",
    "dy = y_max / (Ny - 1)\n",
    "dt = t_max / (Nt - 1)\n",
    "\n",
    "x_test = np.linspace(0, x_max, Nx)\n",
    "# x_test = domains_union([(0, 0.3), (0.7, x_max)], dx)\n",
    "y_test = np.linspace(0, y_max, Ny)\n",
    "# y_test = domains_union([(0, 0.3), (0.7, y_max)], dy)\n",
    "t_test = np.linspace(0, t_max, Nt)\n",
    "\n",
    "x_grid, y_grid, t_grid = np.meshgrid(x_test, y_test, t_test)"
   ]
  },
  {
   "cell_type": "code",
   "execution_count": 5,
   "metadata": {},
   "outputs": [],
   "source": [
    "input_dim = 3\n",
    "output_dim = 3\n",
    "# hidden_units = [32, 32, 32]\n",
    "# hidden_units = [64, 64, 64, 64]\n",
    "# hidden_units = [128, 128, 128, 128]\n",
    "# hidden_units = [256, 256, 256, 256]\n",
    "# hidden_units = [512, 512]\n",
    "# hidden_units = [1024, 1024, 1024]\n",
    "hidden_units = [20, 40, 80, 100, 100, 80, 40, 20]\n",
    "\n",
    "pinn = PINN(input_dim, output_dim, hidden_units).to(device)"
   ]
  },
  {
   "cell_type": "code",
   "execution_count": 23,
   "metadata": {},
   "outputs": [],
   "source": [
    "optimizer = torch.optim.Adam(pinn.parameters(), lr=0.01)\n",
    "# optimizer = torch.optim.LBFGS(pinn.parameters())\n",
    "\n",
    "epochs = 1000\n",
    "# Nf = int(Nx / 10)   # num of collocation points -> pde evaluation -> Nf^3... needs fixing: sample Nf points from the whole 3D domain\n",
    "Nf = Nx   # num of collocation points -> pde evaluation -> Nf^3... needs fixing: sample Nf points from the whole 3D domain\n",
    "N0 = Ny    # num of points to evaluate initial conditons\n",
    "# Nb = int(Nx / 10)    # num of points to evaluate boundary conditions -> Nb^3... needs fixing: sample Nf points from the whole 3D domain\n",
    "Nb = Nx    # num of points to evaluate boundary conditions -> Nb^3... needs fixing: sample Nf points from the whole 3D domain\n",
    "Nbox = 30  # num of points to evaluate boundary condition at each edge of the box\n",
    "\n",
    "# Density (rho): 1.184 kg/m³\n",
    "# Dynamic viscosity (mu): 1.81e-5 kg/m.s\n",
    "rho = 1184\n",
    "mu = 1.81e-5"
   ]
  },
  {
   "cell_type": "code",
   "execution_count": 24,
   "metadata": {},
   "outputs": [
    {
     "name": "stdout",
     "output_type": "stream",
     "text": [
      "Epoch: 0,\tTotal loss: 302.2941589355469,\tPDE loss: 1208.611083984375,\tIC loss: 0.4724205732345581,\tBC loss: 0.02117529697716236,\tBC Box loss: 0.02117866650223732\n",
      "Epoch: 10,\tTotal loss: 0.12423039972782135,\tPDE loss: 0.202763631939888,\tIC loss: 0.2516961395740509,\tBC loss: 0.009650426916778088,\tBC Box loss: 0.009650401771068573\n",
      "Epoch: 20,\tTotal loss: 0.07407809793949127,\tPDE loss: 0.0061615826562047005,\tIC loss: 0.2603323757648468,\tBC loss: 0.006776942405849695,\tBC Box loss: 0.006776913069188595\n",
      "Epoch: 30,\tTotal loss: 0.07343979924917221,\tPDE loss: 0.0034451668616384268,\tIC loss: 0.2509201169013977,\tBC loss: 0.008953183889389038,\tBC Box loss: 0.008953148499131203\n",
      "Epoch: 40,\tTotal loss: 0.07253675907850266,\tPDE loss: 3.864215250359848e-05,\tIC loss: 0.2505130171775818,\tBC loss: 0.008998946286737919,\tBC Box loss: 0.008998946286737919\n",
      "Epoch: 50,\tTotal loss: 0.0724170133471489,\tPDE loss: 0.00011487076699268073,\tIC loss: 0.25043344497680664,\tBC loss: 0.008890856057405472,\tBC Box loss: 0.008890845812857151\n",
      "Epoch: 60,\tTotal loss: 0.07239437103271484,\tPDE loss: 3.6457411624724045e-05,\tIC loss: 0.25410008430480957,\tBC loss: 0.008054772391915321,\tBC Box loss: 0.008054758422076702\n",
      "Epoch: 70,\tTotal loss: 0.07237602025270462,\tPDE loss: 1.955396328412462e-05,\tIC loss: 0.25031864643096924,\tBC loss: 0.008901341818273067,\tBC Box loss: 0.008901340886950493\n",
      "Epoch: 80,\tTotal loss: 0.07237464189529419,\tPDE loss: 1.5241084838635288e-05,\tIC loss: 0.2512350082397461,\tBC loss: 0.008692800998687744,\tBC Box loss: 0.008692803792655468\n",
      "Epoch: 90,\tTotal loss: 0.0723738893866539,\tPDE loss: 1.9459384930087253e-05,\tIC loss: 0.25126099586486816,\tBC loss: 0.008685251697897911,\tBC Box loss: 0.008685244247317314\n",
      "Epoch: 100,\tTotal loss: 0.07237467914819717,\tPDE loss: 2.4377426598221064e-05,\tIC loss: 0.25120365619659424,\tBC loss: 0.008697886019945145,\tBC Box loss: 0.008697879500687122\n",
      "Epoch: 110,\tTotal loss: 0.07237232476472855,\tPDE loss: 1.5212675862130709e-05,\tIC loss: 0.2515464127063751,\tBC loss: 0.008619924075901508,\tBC Box loss: 0.008619923144578934\n",
      "Epoch: 120,\tTotal loss: 0.07237369567155838,\tPDE loss: 2.0986763047403656e-05,\tIC loss: 0.2514638900756836,\tBC loss: 0.00863861758261919,\tBC Box loss: 0.008638614788651466\n",
      "Epoch: 130,\tTotal loss: 0.07237106561660767,\tPDE loss: 1.0465009836480021e-05,\tIC loss: 0.2513786554336548,\tBC loss: 0.00865799468010664,\tBC Box loss: 0.008657987229526043\n",
      "Epoch: 140,\tTotal loss: 0.07236993312835693,\tPDE loss: 6.0134748309792485e-06,\tIC loss: 0.25140994787216187,\tBC loss: 0.008650867268443108,\tBC Box loss: 0.008650854229927063\n",
      "Epoch: 150,\tTotal loss: 0.07237385958433151,\tPDE loss: 2.1734456822741777e-05,\tIC loss: 0.25140413641929626,\tBC loss: 0.00865218322724104,\tBC Box loss: 0.008652176707983017\n",
      "Epoch: 160,\tTotal loss: 0.07237280160188675,\tPDE loss: 1.755088487698231e-05,\tIC loss: 0.25138548016548157,\tBC loss: 0.008656403049826622,\tBC Box loss: 0.008656400255858898\n",
      "Epoch: 170,\tTotal loss: 0.07237803936004639,\tPDE loss: 3.848199048661627e-05,\tIC loss: 0.2513796389102936,\tBC loss: 0.008657734841108322,\tBC Box loss: 0.008657736703753471\n",
      "Epoch: 180,\tTotal loss: 0.07237035781145096,\tPDE loss: 7.699598427279852e-06,\tIC loss: 0.2513839304447174,\tBC loss: 0.008656780235469341,\tBC Box loss: 0.008656773716211319\n",
      "Epoch: 190,\tTotal loss: 0.07237275689840317,\tPDE loss: 1.7303615095443092e-05,\tIC loss: 0.25138092041015625,\tBC loss: 0.00865744985640049,\tBC Box loss: 0.00865744799375534\n",
      "Epoch: 200,\tTotal loss: 0.0723719373345375,\tPDE loss: 1.3962146113044582e-05,\tIC loss: 0.25138968229293823,\tBC loss: 0.008655487559735775,\tBC Box loss: 0.00865547638386488\n",
      "Epoch: 210,\tTotal loss: 0.07237181067466736,\tPDE loss: 1.357190285489196e-05,\tIC loss: 0.25138819217681885,\tBC loss: 0.008655809797346592,\tBC Box loss: 0.008655790239572525\n",
      "Epoch: 220,\tTotal loss: 0.0723760575056076,\tPDE loss: 3.059522350667976e-05,\tIC loss: 0.25138574838638306,\tBC loss: 0.00865634810179472,\tBC Box loss: 0.008656326681375504\n",
      "Epoch: 230,\tTotal loss: 0.07237014174461365,\tPDE loss: 6.920604846527567e-06,\tIC loss: 0.25138533115386963,\tBC loss: 0.008656445890665054,\tBC Box loss: 0.008656433783471584\n",
      "Epoch: 240,\tTotal loss: 0.0723743811249733,\tPDE loss: 2.3908853108878247e-05,\tIC loss: 0.2513846158981323,\tBC loss: 0.008656599558889866,\tBC Box loss: 0.008656592108309269\n",
      "Epoch: 250,\tTotal loss: 0.07237202674150467,\tPDE loss: 1.435205376765225e-05,\tIC loss: 0.251382976770401,\tBC loss: 0.008657008409500122,\tBC Box loss: 0.00865698792040348\n",
      "Epoch: 260,\tTotal loss: 0.07237155735492706,\tPDE loss: 1.2562236406665761e-05,\tIC loss: 0.2513824999332428,\tBC loss: 0.00865708664059639,\tBC Box loss: 0.008657077327370644\n",
      "Epoch: 270,\tTotal loss: 0.07237008213996887,\tPDE loss: 6.614198355237022e-06,\tIC loss: 0.25138425827026367,\tBC loss: 0.008656694553792477,\tBC Box loss: 0.008656695485115051\n",
      "Epoch: 280,\tTotal loss: 0.07237023115158081,\tPDE loss: 7.133290637284517e-06,\tIC loss: 0.25138282775878906,\tBC loss: 0.008657041937112808,\tBC Box loss: 0.00865703634917736\n",
      "Epoch: 290,\tTotal loss: 0.07237066328525543,\tPDE loss: 8.87789974512998e-06,\tIC loss: 0.251384437084198,\tBC loss: 0.00865667313337326,\tBC Box loss: 0.008656660094857216\n",
      "Epoch: 300,\tTotal loss: 0.07237013429403305,\tPDE loss: 6.908953764650505e-06,\tIC loss: 0.2513856887817383,\tBC loss: 0.008656363934278488,\tBC Box loss: 0.008656349033117294\n",
      "Epoch: 310,\tTotal loss: 0.07237126678228378,\tPDE loss: 1.1383192941138986e-05,\tIC loss: 0.2513844966888428,\tBC loss: 0.008656637743115425,\tBC Box loss: 0.008656630292534828\n",
      "Epoch: 320,\tTotal loss: 0.07237096130847931,\tPDE loss: 1.0122831554326694e-05,\tIC loss: 0.2513842284679413,\tBC loss: 0.008656702004373074,\tBC Box loss: 0.008656693622469902\n",
      "Epoch: 330,\tTotal loss: 0.07236894965171814,\tPDE loss: 2.1528255729208468e-06,\tIC loss: 0.2513802647590637,\tBC loss: 0.008657597005367279,\tBC Box loss: 0.008657585829496384\n",
      "Epoch: 340,\tTotal loss: 0.07237018644809723,\tPDE loss: 7.124564945115708e-06,\tIC loss: 0.25138145685195923,\tBC loss: 0.00865731667727232,\tBC Box loss: 0.008657313883304596\n",
      "Epoch: 350,\tTotal loss: 0.07236975431442261,\tPDE loss: 5.334027719072765e-06,\tIC loss: 0.2513866424560547,\tBC loss: 0.0086561543866992,\tBC Box loss: 0.00865614227950573\n",
      "Epoch: 360,\tTotal loss: 0.07237018644809723,\tPDE loss: 7.031806035229238e-06,\tIC loss: 0.2513836920261383,\tBC loss: 0.008656834252178669,\tBC Box loss: 0.008656824007630348\n",
      "Epoch: 370,\tTotal loss: 0.07236923277378082,\tPDE loss: 3.2553296023252187e-06,\tIC loss: 0.25138217210769653,\tBC loss: 0.008657163940370083,\tBC Box loss: 0.008657163940370083\n",
      "Epoch: 380,\tTotal loss: 0.0723692923784256,\tPDE loss: 3.4463571410014993e-06,\tIC loss: 0.2513851821422577,\tBC loss: 0.008656490594148636,\tBC Box loss: 0.008656475692987442\n",
      "Epoch: 390,\tTotal loss: 0.07237043231725693,\tPDE loss: 8.111818715406116e-06,\tIC loss: 0.2513858675956726,\tBC loss: 0.008656310848891735,\tBC Box loss: 0.008656305260956287\n",
      "Epoch: 400,\tTotal loss: 0.07236938178539276,\tPDE loss: 3.819713583652629e-06,\tIC loss: 0.25138306617736816,\tBC loss: 0.008656967431306839,\tBC Box loss: 0.00865696370601654\n",
      "Epoch: 410,\tTotal loss: 0.07236908376216888,\tPDE loss: 2.7205526293982984e-06,\tIC loss: 0.2513832151889801,\tBC loss: 0.008656914345920086,\tBC Box loss: 0.008656912483274937\n",
      "Epoch: 420,\tTotal loss: 0.07236878573894501,\tPDE loss: 1.4772542726859683e-06,\tIC loss: 0.2513867914676666,\tBC loss: 0.008656101301312447,\tBC Box loss: 0.008656103163957596\n",
      "Epoch: 430,\tTotal loss: 0.07237035036087036,\tPDE loss: 7.748330062895548e-06,\tIC loss: 0.2513839602470398,\tBC loss: 0.008656756021082401,\tBC Box loss: 0.008656744845211506\n",
      "Epoch: 440,\tTotal loss: 0.07236859947443008,\tPDE loss: 7.096416538843187e-07,\tIC loss: 0.25138431787490845,\tBC loss: 0.008656674064695835,\tBC Box loss: 0.00865667313337326\n",
      "Epoch: 450,\tTotal loss: 0.07236886769533157,\tPDE loss: 1.793643377823173e-06,\tIC loss: 0.2513846457004547,\tBC loss: 0.00865660235285759,\tBC Box loss: 0.008656597696244717\n",
      "Epoch: 460,\tTotal loss: 0.07236863672733307,\tPDE loss: 8.632412118458888e-07,\tIC loss: 0.25138455629348755,\tBC loss: 0.008656617254018784,\tBC Box loss: 0.00865661446005106\n",
      "Epoch: 470,\tTotal loss: 0.07236895710229874,\tPDE loss: 2.229327492386801e-06,\tIC loss: 0.25138527154922485,\tBC loss: 0.008656450547277927,\tBC Box loss: 0.008656436577439308\n",
      "Epoch: 480,\tTotal loss: 0.0723690316081047,\tPDE loss: 2.375928715991904e-06,\tIC loss: 0.2513846158981323,\tBC loss: 0.008656619116663933,\tBC Box loss: 0.008656618185341358\n",
      "Epoch: 490,\tTotal loss: 0.0723685473203659,\tPDE loss: 4.989580020264839e-07,\tIC loss: 0.25138482451438904,\tBC loss: 0.00865656416863203,\tBC Box loss: 0.008656561374664307\n",
      "Epoch: 500,\tTotal loss: 0.07236871123313904,\tPDE loss: 1.0388412192696705e-06,\tIC loss: 0.2513854503631592,\tBC loss: 0.008656435646116734,\tBC Box loss: 0.008656440302729607\n",
      "Epoch: 510,\tTotal loss: 0.07236873358488083,\tPDE loss: 1.1650743090285687e-06,\tIC loss: 0.25138479471206665,\tBC loss: 0.00865658838301897,\tBC Box loss: 0.008656580001115799\n",
      "Epoch: 520,\tTotal loss: 0.0723685622215271,\tPDE loss: 5.036058610130567e-07,\tIC loss: 0.2513849139213562,\tBC loss: 0.008656563237309456,\tBC Box loss: 0.008656550198793411\n",
      "Epoch: 530,\tTotal loss: 0.07236860692501068,\tPDE loss: 7.08623417722265e-07,\tIC loss: 0.2513847351074219,\tBC loss: 0.00865659024566412,\tBC Box loss: 0.008656584657728672\n",
      "Epoch: 540,\tTotal loss: 0.07236845791339874,\tPDE loss: 1.3955470024029637e-07,\tIC loss: 0.2513851523399353,\tBC loss: 0.008656477555632591,\tBC Box loss: 0.008656490594148636\n",
      "Epoch: 550,\tTotal loss: 0.07236844301223755,\tPDE loss: 1.315160034209839e-07,\tIC loss: 0.2513849139213562,\tBC loss: 0.008656532503664494,\tBC Box loss: 0.008656535297632217\n",
      "Epoch: 560,\tTotal loss: 0.07236848771572113,\tPDE loss: 1.7040571265170001e-07,\tIC loss: 0.25138503313064575,\tBC loss: 0.008656535297632217,\tBC Box loss: 0.008656533434987068\n",
      "Epoch: 570,\tTotal loss: 0.07236851751804352,\tPDE loss: 3.0720346444468305e-07,\tIC loss: 0.25138503313064575,\tBC loss: 0.008656525053083897,\tBC Box loss: 0.00865652970969677\n",
      "Epoch: 580,\tTotal loss: 0.07236845046281815,\tPDE loss: 1.3519058938982198e-07,\tIC loss: 0.2513847351074219,\tBC loss: 0.008656572550535202,\tBC Box loss: 0.008656579069793224\n",
      "Epoch: 590,\tTotal loss: 0.07236848771572113,\tPDE loss: 2.829899869993824e-07,\tIC loss: 0.2513847351074219,\tBC loss: 0.008656580001115799,\tBC Box loss: 0.008656577207148075\n",
      "Epoch: 600,\tTotal loss: 0.07236842811107635,\tPDE loss: 6.729077739464628e-08,\tIC loss: 0.25138506293296814,\tBC loss: 0.008656506426632404,\tBC Box loss: 0.008656499907374382\n",
      "Epoch: 610,\tTotal loss: 0.07236843556165695,\tPDE loss: 6.455029932794787e-08,\tIC loss: 0.25138482451438904,\tBC loss: 0.008656559512019157,\tBC Box loss: 0.008656561374664307\n",
      "Epoch: 620,\tTotal loss: 0.07236845791339874,\tPDE loss: 7.863333451041399e-08,\tIC loss: 0.25138503313064575,\tBC loss: 0.0086565176025033,\tBC Box loss: 0.008656521327793598\n",
      "Epoch: 630,\tTotal loss: 0.07236848026514053,\tPDE loss: 2.1227933189038595e-07,\tIC loss: 0.2513852119445801,\tBC loss: 0.008656474761664867,\tBC Box loss: 0.008656480349600315\n",
      "Epoch: 640,\tTotal loss: 0.07236845791339874,\tPDE loss: 1.229030175409207e-07,\tIC loss: 0.25138503313064575,\tBC loss: 0.00865651573985815,\tBC Box loss: 0.008656518533825874\n",
      "Epoch: 650,\tTotal loss: 0.07236846536397934,\tPDE loss: 2.0373892084535328e-07,\tIC loss: 0.25138503313064575,\tBC loss: 0.00865650363266468,\tBC Box loss: 0.00865650549530983\n",
      "Epoch: 660,\tTotal loss: 0.07236843556165695,\tPDE loss: 2.106836127779843e-08,\tIC loss: 0.2513846457004547,\tBC loss: 0.008656597696244717,\tBC Box loss: 0.008656610734760761\n",
      "Epoch: 670,\tTotal loss: 0.07236845046281815,\tPDE loss: 8.418764707585069e-08,\tIC loss: 0.2513852119445801,\tBC loss: 0.008656486868858337,\tBC Box loss: 0.008656475692987442\n",
      "Epoch: 680,\tTotal loss: 0.07236845791339874,\tPDE loss: 1.0637000258384433e-07,\tIC loss: 0.2513848841190338,\tBC loss: 0.008656546473503113,\tBC Box loss: 0.008656557649374008\n",
      "Epoch: 690,\tTotal loss: 0.07236842811107635,\tPDE loss: 1.1494753593410678e-08,\tIC loss: 0.2513851821422577,\tBC loss: 0.00865647941827774,\tBC Box loss: 0.008656485006213188\n",
      "Epoch: 700,\tTotal loss: 0.07236844301223755,\tPDE loss: 1.0054216659227677e-07,\tIC loss: 0.25138500332832336,\tBC loss: 0.008656512014567852,\tBC Box loss: 0.008656518533825874\n",
      "Epoch: 710,\tTotal loss: 0.07236844301223755,\tPDE loss: 5.731789798346654e-08,\tIC loss: 0.25138503313064575,\tBC loss: 0.00865651573985815,\tBC Box loss: 0.008656518533825874\n",
      "Epoch: 720,\tTotal loss: 0.07236844301223755,\tPDE loss: 5.569039629449435e-08,\tIC loss: 0.2513851821422577,\tBC loss: 0.00865648128092289,\tBC Box loss: 0.008656485006213188\n",
      "Epoch: 730,\tTotal loss: 0.07236844301223755,\tPDE loss: 1.3302692991601361e-07,\tIC loss: 0.2513848841190338,\tBC loss: 0.008656540885567665,\tBC Box loss: 0.008656542748212814\n",
      "Epoch: 740,\tTotal loss: 0.07236845791339874,\tPDE loss: 1.3591603931217833e-07,\tIC loss: 0.2513848543167114,\tBC loss: 0.008656555786728859,\tBC Box loss: 0.00865655206143856\n",
      "Epoch: 750,\tTotal loss: 0.07236845046281815,\tPDE loss: 1.2695805651219416e-07,\tIC loss: 0.2513848543167114,\tBC loss: 0.008656547404825687,\tBC Box loss: 0.008656551130115986\n",
      "Epoch: 760,\tTotal loss: 0.07236841320991516,\tPDE loss: 1.919577385933735e-08,\tIC loss: 0.251384973526001,\tBC loss: 0.008656512014567852,\tBC Box loss: 0.008656509220600128\n",
      "Epoch: 770,\tTotal loss: 0.07236845791339874,\tPDE loss: 1.152226900558162e-07,\tIC loss: 0.2513849139213562,\tBC loss: 0.008656542748212814,\tBC Box loss: 0.008656547404825687\n",
      "Epoch: 780,\tTotal loss: 0.07236845046281815,\tPDE loss: 1.1363357543814345e-07,\tIC loss: 0.2513851523399353,\tBC loss: 0.008656472899019718,\tBC Box loss: 0.008656485006213188\n",
      "Epoch: 790,\tTotal loss: 0.07236842066049576,\tPDE loss: 7.022597969807975e-08,\tIC loss: 0.25138503313064575,\tBC loss: 0.008656490594148636,\tBC Box loss: 0.008656495250761509\n",
      "Epoch: 800,\tTotal loss: 0.07236842066049576,\tPDE loss: 4.387716145970444e-08,\tIC loss: 0.25138503313064575,\tBC loss: 0.008656501770019531,\tBC Box loss: 0.008656508289277554\n",
      "Epoch: 810,\tTotal loss: 0.07236841320991516,\tPDE loss: 5.64110314016375e-09,\tIC loss: 0.2513852119445801,\tBC loss: 0.00865646917372942,\tBC Box loss: 0.008656465448439121\n",
      "Epoch: 820,\tTotal loss: 0.07236844301223755,\tPDE loss: 9.488312002758903e-08,\tIC loss: 0.25138500332832336,\tBC loss: 0.008656521327793598,\tBC Box loss: 0.008656514808535576\n",
      "Epoch: 830,\tTotal loss: 0.07236842811107635,\tPDE loss: 6.032146870893484e-08,\tIC loss: 0.2513848841190338,\tBC loss: 0.008656540885567665,\tBC Box loss: 0.008656543679535389\n",
      "Epoch: 840,\tTotal loss: 0.07236844301223755,\tPDE loss: 3.487285837877607e-08,\tIC loss: 0.25138503313064575,\tBC loss: 0.008656521327793598,\tBC Box loss: 0.008656522259116173\n",
      "Epoch: 850,\tTotal loss: 0.07236842811107635,\tPDE loss: 2.0049361282303835e-08,\tIC loss: 0.2513851523399353,\tBC loss: 0.008656483143568039,\tBC Box loss: 0.008656483143568039\n"
     ]
    },
    {
     "ename": "KeyboardInterrupt",
     "evalue": "",
     "output_type": "error",
     "traceback": [
      "\u001b[1;31m---------------------------------------------------------------------------\u001b[0m",
      "\u001b[1;31mKeyboardInterrupt\u001b[0m                         Traceback (most recent call last)",
      "Cell \u001b[1;32mIn[24], line 44\u001b[0m\n\u001b[0;32m     41\u001b[0m         \u001b[39mreturn\u001b[39;00m total_loss\n\u001b[0;32m     43\u001b[0m \u001b[39mfor\u001b[39;00m epoch \u001b[39min\u001b[39;00m \u001b[39mrange\u001b[39m(epochs):\n\u001b[1;32m---> 44\u001b[0m     optimizer\u001b[39m.\u001b[39;49mstep(closure)\n\u001b[0;32m     45\u001b[0m     \u001b[39mif\u001b[39;00m epoch \u001b[39m%\u001b[39m \u001b[39m10\u001b[39m \u001b[39m==\u001b[39m \u001b[39m0\u001b[39m:\n\u001b[0;32m     46\u001b[0m         total_loss, pde_loss, ic_loss, bc_loss, bc_box_loss \u001b[39m=\u001b[39m closure(report_losses\u001b[39m=\u001b[39m\u001b[39mTrue\u001b[39;00m)\n",
      "File \u001b[1;32mc:\\Users\\gitop\\AppData\\Local\\Programs\\Python\\Python311\\Lib\\site-packages\\torch\\optim\\optimizer.py:280\u001b[0m, in \u001b[0;36mOptimizer.profile_hook_step.<locals>.wrapper\u001b[1;34m(*args, **kwargs)\u001b[0m\n\u001b[0;32m    276\u001b[0m         \u001b[39melse\u001b[39;00m:\n\u001b[0;32m    277\u001b[0m             \u001b[39mraise\u001b[39;00m \u001b[39mRuntimeError\u001b[39;00m(\u001b[39mf\u001b[39m\u001b[39m\"\u001b[39m\u001b[39m{\u001b[39;00mfunc\u001b[39m}\u001b[39;00m\u001b[39m must return None or a tuple of (new_args, new_kwargs),\u001b[39m\u001b[39m\"\u001b[39m\n\u001b[0;32m    278\u001b[0m                                \u001b[39mf\u001b[39m\u001b[39m\"\u001b[39m\u001b[39mbut got \u001b[39m\u001b[39m{\u001b[39;00mresult\u001b[39m}\u001b[39;00m\u001b[39m.\u001b[39m\u001b[39m\"\u001b[39m)\n\u001b[1;32m--> 280\u001b[0m out \u001b[39m=\u001b[39m func(\u001b[39m*\u001b[39;49margs, \u001b[39m*\u001b[39;49m\u001b[39m*\u001b[39;49mkwargs)\n\u001b[0;32m    281\u001b[0m \u001b[39mself\u001b[39m\u001b[39m.\u001b[39m_optimizer_step_code()\n\u001b[0;32m    283\u001b[0m \u001b[39m# call optimizer step post hooks\u001b[39;00m\n",
      "File \u001b[1;32mc:\\Users\\gitop\\AppData\\Local\\Programs\\Python\\Python311\\Lib\\site-packages\\torch\\optim\\optimizer.py:33\u001b[0m, in \u001b[0;36m_use_grad_for_differentiable.<locals>._use_grad\u001b[1;34m(self, *args, **kwargs)\u001b[0m\n\u001b[0;32m     31\u001b[0m \u001b[39mtry\u001b[39;00m:\n\u001b[0;32m     32\u001b[0m     torch\u001b[39m.\u001b[39mset_grad_enabled(\u001b[39mself\u001b[39m\u001b[39m.\u001b[39mdefaults[\u001b[39m'\u001b[39m\u001b[39mdifferentiable\u001b[39m\u001b[39m'\u001b[39m])\n\u001b[1;32m---> 33\u001b[0m     ret \u001b[39m=\u001b[39m func(\u001b[39mself\u001b[39;49m, \u001b[39m*\u001b[39;49margs, \u001b[39m*\u001b[39;49m\u001b[39m*\u001b[39;49mkwargs)\n\u001b[0;32m     34\u001b[0m \u001b[39mfinally\u001b[39;00m:\n\u001b[0;32m     35\u001b[0m     torch\u001b[39m.\u001b[39mset_grad_enabled(prev_grad)\n",
      "File \u001b[1;32mc:\\Users\\gitop\\AppData\\Local\\Programs\\Python\\Python311\\Lib\\site-packages\\torch\\optim\\adam.py:121\u001b[0m, in \u001b[0;36mAdam.step\u001b[1;34m(self, closure)\u001b[0m\n\u001b[0;32m    119\u001b[0m \u001b[39mif\u001b[39;00m closure \u001b[39mis\u001b[39;00m \u001b[39mnot\u001b[39;00m \u001b[39mNone\u001b[39;00m:\n\u001b[0;32m    120\u001b[0m     \u001b[39mwith\u001b[39;00m torch\u001b[39m.\u001b[39menable_grad():\n\u001b[1;32m--> 121\u001b[0m         loss \u001b[39m=\u001b[39m closure()\n\u001b[0;32m    123\u001b[0m \u001b[39mfor\u001b[39;00m group \u001b[39min\u001b[39;00m \u001b[39mself\u001b[39m\u001b[39m.\u001b[39mparam_groups:\n\u001b[0;32m    124\u001b[0m     params_with_grad \u001b[39m=\u001b[39m []\n",
      "Cell \u001b[1;32mIn[24], line 36\u001b[0m, in \u001b[0;36mclosure\u001b[1;34m(report_losses)\u001b[0m\n\u001b[0;32m     29\u001b[0m t_box \u001b[39m=\u001b[39m torch\u001b[39m.\u001b[39mtensor(np\u001b[39m.\u001b[39mrandom\u001b[39m.\u001b[39muniform(\u001b[39m0\u001b[39m, t_max, size\u001b[39m=\u001b[39m(Nbox, \u001b[39m1\u001b[39m)), dtype\u001b[39m=\u001b[39mtorch\u001b[39m.\u001b[39mfloat32, device\u001b[39m=\u001b[39mdevice, requires_grad\u001b[39m=\u001b[39m\u001b[39mTrue\u001b[39;00m)\n\u001b[0;32m     31\u001b[0m total_loss, pde_loss, ic_loss, bc_loss, bc_box_loss \u001b[39m=\u001b[39m pinn\u001b[39m.\u001b[39mloss(x_f, y_f, t_f, x0, y0, t0, x_b, y_b, t_b, \n\u001b[0;32m     32\u001b[0m                  x_box_left, y_box_left, x_box_up, y_box_up,\n\u001b[0;32m     33\u001b[0m                  x_box_right, y_box_right, x_box_down, y_box_down, t_box,\n\u001b[0;32m     34\u001b[0m                  mu, rho, dt, \u001b[39m0.25\u001b[39m, \u001b[39m0.25\u001b[39m, \u001b[39m0.25\u001b[39m, \u001b[39m0.85\u001b[39m)\n\u001b[1;32m---> 36\u001b[0m total_loss\u001b[39m.\u001b[39;49mbackward()\n\u001b[0;32m     38\u001b[0m \u001b[39mif\u001b[39;00m report_losses:\n\u001b[0;32m     39\u001b[0m     \u001b[39mreturn\u001b[39;00m total_loss, pde_loss, ic_loss, bc_loss, bc_box_loss\n",
      "File \u001b[1;32mc:\\Users\\gitop\\AppData\\Local\\Programs\\Python\\Python311\\Lib\\site-packages\\torch\\_tensor.py:487\u001b[0m, in \u001b[0;36mTensor.backward\u001b[1;34m(self, gradient, retain_graph, create_graph, inputs)\u001b[0m\n\u001b[0;32m    477\u001b[0m \u001b[39mif\u001b[39;00m has_torch_function_unary(\u001b[39mself\u001b[39m):\n\u001b[0;32m    478\u001b[0m     \u001b[39mreturn\u001b[39;00m handle_torch_function(\n\u001b[0;32m    479\u001b[0m         Tensor\u001b[39m.\u001b[39mbackward,\n\u001b[0;32m    480\u001b[0m         (\u001b[39mself\u001b[39m,),\n\u001b[1;32m   (...)\u001b[0m\n\u001b[0;32m    485\u001b[0m         inputs\u001b[39m=\u001b[39minputs,\n\u001b[0;32m    486\u001b[0m     )\n\u001b[1;32m--> 487\u001b[0m torch\u001b[39m.\u001b[39;49mautograd\u001b[39m.\u001b[39;49mbackward(\n\u001b[0;32m    488\u001b[0m     \u001b[39mself\u001b[39;49m, gradient, retain_graph, create_graph, inputs\u001b[39m=\u001b[39;49minputs\n\u001b[0;32m    489\u001b[0m )\n",
      "File \u001b[1;32mc:\\Users\\gitop\\AppData\\Local\\Programs\\Python\\Python311\\Lib\\site-packages\\torch\\autograd\\__init__.py:200\u001b[0m, in \u001b[0;36mbackward\u001b[1;34m(tensors, grad_tensors, retain_graph, create_graph, grad_variables, inputs)\u001b[0m\n\u001b[0;32m    195\u001b[0m     retain_graph \u001b[39m=\u001b[39m create_graph\n\u001b[0;32m    197\u001b[0m \u001b[39m# The reason we repeat same the comment below is that\u001b[39;00m\n\u001b[0;32m    198\u001b[0m \u001b[39m# some Python versions print out the first line of a multi-line function\u001b[39;00m\n\u001b[0;32m    199\u001b[0m \u001b[39m# calls in the traceback and some print out the last line\u001b[39;00m\n\u001b[1;32m--> 200\u001b[0m Variable\u001b[39m.\u001b[39;49m_execution_engine\u001b[39m.\u001b[39;49mrun_backward(  \u001b[39m# Calls into the C++ engine to run the backward pass\u001b[39;49;00m\n\u001b[0;32m    201\u001b[0m     tensors, grad_tensors_, retain_graph, create_graph, inputs,\n\u001b[0;32m    202\u001b[0m     allow_unreachable\u001b[39m=\u001b[39;49m\u001b[39mTrue\u001b[39;49;00m, accumulate_grad\u001b[39m=\u001b[39;49m\u001b[39mTrue\u001b[39;49;00m)\n",
      "\u001b[1;31mKeyboardInterrupt\u001b[0m: "
     ]
    }
   ],
   "source": [
    "def closure(report_losses=False):\n",
    "    optimizer.zero_grad()\n",
    "\n",
    "    # collocation points should be out of the box (obstacle) and not in x=0, because there we apply other bcs\n",
    "    x_f = torch.tensor(random_uniform_domains(Nf, [(dx, 0.3), (0.7, x_max)]), dtype=torch.float32, device=device, requires_grad=True) # collocation points\n",
    "    y_f = torch.tensor(random_uniform_domains(Nf, [(0, 0.3), (0.7, y_max)]), dtype=torch.float32, device=device, requires_grad=True) # collocation points\n",
    "    t_f = torch.tensor(np.random.uniform(0, t_max, size=(Nf, 1)), dtype=torch.float32, device=device, requires_grad=True) # collocation points\n",
    "\n",
    "    # TODO investigate\n",
    "    x0 = torch.tensor(np.random.uniform(dx, x_max, size=(N0, 1)), dtype=torch.float32, device=device, requires_grad=True)\n",
    "    # x0 = torch.tensor(domains_union([(dx, 0.3), (0.7, x_max)], dx), dtype=torch.float32, device=device, requires_grad=True)\n",
    "    y0 = torch.tensor(np.random.uniform(dy, y_max, size=(N0, 1)), dtype=torch.float32, device=device, requires_grad=True) \n",
    "    # y0 = torch.tensor(domains_union([(dy, 0.3), (0.7, y_max)], dy), dtype=torch.float32, device=device, requires_grad=True)\n",
    "    t0 = torch.zeros_like(x0)\n",
    "    # t0 = torch.zeros(domains_union([(dt, t_max)], dt), dtype=torch.float32, device=device, requires_grad=True)\n",
    "\n",
    "    x_b = torch.zeros(size=(Nb, 1), dtype=torch.float32, device=device, requires_grad=True)\n",
    "    y_b = torch.tensor(np.random.uniform(0, y_max, size=(Nb, 1)), dtype=torch.float32, device=device, requires_grad=True)\n",
    "    t_b = torch.tensor(np.random.uniform(0, t_max, size=(Nb, 1)), dtype=torch.float32, device=device, requires_grad=True)\n",
    "\n",
    "    x_box_left =    torch.full(size=(Nbox, 1), fill_value=0.3, dtype=torch.float32, device=device)\n",
    "    y_box_left =    torch.tensor(np.random.uniform(0.3, 0.7, size=(Nbox, 1)), dtype=torch.float32, device=device, requires_grad=True)\n",
    "    x_box_up =      torch.tensor(np.random.uniform(0.3, 0.7, size=(Nbox, 1)), dtype=torch.float32, device=device, requires_grad=True)\n",
    "    y_box_up =      torch.full(size=(Nbox, 1), fill_value=0.7, dtype=torch.float32, device=device)\n",
    "    x_box_right =   torch.full(size=(Nbox, 1), fill_value=0.7, dtype=torch.float32, device=device)\n",
    "    y_box_right =   torch.tensor(np.random.uniform(0.3, 0.7, size=(Nbox, 1)), dtype=torch.float32, device=device, requires_grad=True)\n",
    "    x_box_down =    torch.tensor(np.random.uniform(0.3, 0.7, size=(Nbox, 1)), dtype=torch.float32, device=device, requires_grad=True)\n",
    "    y_box_down =    torch.full(size=(Nbox, 1), fill_value=0.3, dtype=torch.float32, device=device)\n",
    "    t_box = torch.tensor(np.random.uniform(0, t_max, size=(Nbox, 1)), dtype=torch.float32, device=device, requires_grad=True)\n",
    "\n",
    "    total_loss, pde_loss, ic_loss, bc_loss, bc_box_loss = pinn.loss(x_f, y_f, t_f, x0, y0, t0, x_b, y_b, t_b, \n",
    "                     x_box_left, y_box_left, x_box_up, y_box_up,\n",
    "                     x_box_right, y_box_right, x_box_down, y_box_down, t_box,\n",
    "                     mu, rho, dt, 0.25, 0.25, 0.25, 0.85)\n",
    "\n",
    "    total_loss.backward()\n",
    "\n",
    "    if report_losses:\n",
    "        return total_loss, pde_loss, ic_loss, bc_loss, bc_box_loss\n",
    "    else:\n",
    "        return total_loss\n",
    "\n",
    "for epoch in range(epochs):\n",
    "    optimizer.step(closure)\n",
    "    if epoch % 10 == 0:\n",
    "        total_loss, pde_loss, ic_loss, bc_loss, bc_box_loss = closure(report_losses=True)\n",
    "        print(f'Epoch: {epoch},\\tTotal loss: {total_loss.item()},\\tPDE loss: {pde_loss.item()},\\tIC loss: {ic_loss.item()},\\tBC loss: {bc_loss.item()},\\tBC Box loss: {bc_box_loss.item()}')"
   ]
  },
  {
   "cell_type": "code",
   "execution_count": 25,
   "metadata": {},
   "outputs": [],
   "source": [
    "torch.save(pinn.state_dict(), './temp3.pt')"
   ]
  },
  {
   "cell_type": "code",
   "execution_count": 26,
   "metadata": {},
   "outputs": [],
   "source": [
    "# Evaluate the model at the grid points\n",
    "x_test_tensor = torch.tensor(x_grid.reshape(-1, 1), dtype=torch.float32, device=device, requires_grad=True)\n",
    "y_test_tensor = torch.tensor(y_grid.reshape(-1, 1), dtype=torch.float32, device=device, requires_grad=True)\n",
    "t_test_tensor = torch.tensor(t_grid.reshape(-1, 1), dtype=torch.float32, device=device, requires_grad=True)\n",
    "\n",
    "with torch.no_grad():  # Disable gradient calculation to save memory and computation\n",
    "    output = pinn(torch.cat([x_test_tensor, y_test_tensor, t_test_tensor], dim=1))\n",
    "    \n",
    "u = output[:, 0].detach().cpu().numpy().reshape(x_test.shape[0], y_test.shape[0], t_test.shape[0])\n",
    "v = output[:, 1].detach().cpu().numpy().reshape(x_test.shape[0], y_test.shape[0], t_test.shape[0])\n",
    "p = output[:, 2].detach().cpu().numpy().reshape(x_test.shape[0], y_test.shape[0], t_test.shape[0])"
   ]
  },
  {
   "cell_type": "code",
   "execution_count": 27,
   "metadata": {},
   "outputs": [],
   "source": [
    "import matplotlib.cm as cm\n",
    "import matplotlib.colors as mcolors"
   ]
  },
  {
   "cell_type": "code",
   "execution_count": 28,
   "metadata": {},
   "outputs": [],
   "source": [
    "step = 0"
   ]
  },
  {
   "cell_type": "code",
   "execution_count": 29,
   "metadata": {},
   "outputs": [
    {
     "data": {
      "text/plain": [
       "<matplotlib.colorbar.Colorbar at 0x22985fa8c10>"
      ]
     },
     "execution_count": 29,
     "metadata": {},
     "output_type": "execute_result"
    },
    {
     "data": {
      "image/png": "[encoded data removed]",
      "text/plain": [
       "<Figure size 640x480 with 2 Axes>"
      ]
     },
     "metadata": {},
     "output_type": "display_data"
    }
   ],
   "source": [
    "fig, ax = plt.subplots()\n",
    "\n",
    "X, Y = np.meshgrid(x_test, y_test)\n",
    "\n",
    "velocity_magnitude = np.sqrt(u[:, :, step]**2 + v[:, :, step]**2)\n",
    "# velocity_magnitude = np.sqrt(u[:, :, step]**2)\n",
    "\n",
    "strm = ax.streamplot(X, Y, u[:, :, step], v[:, :, step], color=velocity_magnitude, linewidth=1, cmap=cm.inferno)\n",
    "# strm = ax.streamplot(X, Y, u[:, :, step], v[:, :, step], color=(u[:, :, step]), linewidth=1, cmap=cm.inferno)\n",
    "\n",
    "# obstacle = get_obstacle_mask(ax, u.shape[1], u.shape[0])\n",
    "# ax.add_patch(obstacle)\n",
    "\n",
    "ax.set_title(\"Time Step: {}\".format(step))\n",
    "ax.set_xlim(0, 1)  # Set x-axis limits\n",
    "ax.set_ylim(0, 1)  # Set y-axis limits\n",
    "ax.set_xlabel(\"x\")  # Set y-axis limits\n",
    "ax.set_ylabel(\"y\")  # Set y-axis limits\n",
    "\n",
    "norm = mcolors.Normalize(vmin=np.min(velocity_magnitude), vmax=np.max(velocity_magnitude))\n",
    "sm = plt.cm.ScalarMappable(cmap=cm.inferno, norm=norm)\n",
    "sm.set_array([])\n",
    "\n",
    "fig.colorbar(sm, ax=ax, label='Velocity magnitude')"
   ]
  },
  {
   "cell_type": "code",
   "execution_count": 30,
   "metadata": {},
   "outputs": [
    {
     "data": {
      "image/png": "[encoded data removed]",
      "text/plain": [
       "<Figure size 640x480 with 2 Axes>"
      ]
     },
     "metadata": {},
     "output_type": "display_data"
    }
   ],
   "source": [
    "from matplotlib.animation import FuncAnimation\n",
    "from matplotlib.animation import PillowWriter\n",
    "\n",
    "# Visualization function\n",
    "def update(frame_number):\n",
    "    global u, v, dx, dy, dt\n",
    "\n",
    "    ax.clear()\n",
    "\n",
    "    velocity_magnitude = np.sqrt(u[:, :, frame_number]**2 + v[:, :, frame_number]**2)\n",
    "\n",
    "    strm = ax.streamplot(X, Y, u[:, :, frame_number], v[:, :, frame_number], color=velocity_magnitude, linewidth=1, cmap=cm.inferno)\n",
    "\n",
    "    ax.set_title(\"Time Step: {}\".format(frame_number))\n",
    "    ax.set_xlim(0, 1)  # Set x-axis limits\n",
    "    ax.set_ylim(0, 1)  # Set y-axis limits\n",
    "\n",
    "fig, ax = plt.subplots()\n",
    "X, Y = np.meshgrid(x_test, y_test)\n",
    "\n",
    "# Create a ScalarMappable object\n",
    "norm = mcolors.Normalize(vmin=0, vmax=1) # TODO\n",
    "sm = plt.cm.ScalarMappable(cmap=cm.inferno, norm=norm)\n",
    "sm.set_array([])\n",
    "\n",
    "# Add a colorbar to the figure using the ScalarMappable object\n",
    "fig.colorbar(sm, ax=ax, label='Velocity magnitude')\n",
    "\n",
    "ani = FuncAnimation(fig, update, frames=range(Nt), blit=False, repeat=False)"
   ]
  },
  {
   "cell_type": "code",
   "execution_count": 31,
   "metadata": {},
   "outputs": [],
   "source": [
    "writer = PillowWriter(fps=1)\n",
    "ani.save('./temp3.gif', writer=writer)"
   ]
  },
  {
   "cell_type": "code",
   "execution_count": 32,
   "metadata": {},
   "outputs": [
    {
     "data": {
      "text/html": [
       "<img src=\"./temp3.gif\"/>"
      ],
      "text/plain": [
       "<IPython.core.display.Image object>"
      ]
     },
     "execution_count": 32,
     "metadata": {},
     "output_type": "execute_result"
    }
   ],
   "source": [
    "from IPython.display import Image\n",
    "\n",
    "Image(url=\"./temp3.gif\") # TODO: update colormap"
   ]
  },
  {
   "cell_type": "code",
   "execution_count": 33,
   "metadata": {},
   "outputs": [
    {
     "data": {
      "image/png": "[encoded data removed]",
      "text/plain": [
       "<Figure size 640x480 with 2 Axes>"
      ]
     },
     "metadata": {},
     "output_type": "display_data"
    }
   ],
   "source": [
    "import matplotlib.pyplot as plt\n",
    "import numpy as np\n",
    "\n",
    "# Create a contour plot of the temperature distribution\n",
    "step = 0\n",
    "plt.figure()\n",
    "plt.contourf(X, Y, np.sqrt(p[:, :, step]**2))\n",
    "plt.xlabel(\"x\")\n",
    "plt.ylabel(\"y\")\n",
    "plt.title(\"\")\n",
    "plt.colorbar(label=\"Pressure\")\n",
    "plt.show()"
   ]
  },
  {
   "cell_type": "code",
   "execution_count": 34,
   "metadata": {},
   "outputs": [
    {
     "data": {
      "text/plain": [
       "<All keys matched successfully>"
      ]
     },
     "execution_count": 34,
     "metadata": {},
     "output_type": "execute_result"
    }
   ],
   "source": [
    "input_dim = 3\n",
    "output_dim = 3\n",
    "# # hidden_units = [32, 32, 32]\n",
    "# hidden_units = [64, 64, 64, 64]\n",
    "# # hidden_units = [128, 128, 128, 128]\n",
    "# hidden_units = [512, 512]\n",
    "# hidden_units = [1024, 1024, 1024]\n",
    "hidden_units = [20, 40, 80, 100, 100, 80, 40, 20]\n",
    "\n",
    "pinn = PINN(input_dim, output_dim, hidden_units).to(device)\n",
    "\n",
    "# Load the state_dict into the model\n",
    "pinn.load_state_dict(torch.load(\"./not_bad.pt\"))"
   ]
  }
 ],
 "metadata": {
  "kernelspec": {
   "display_name": "Python 3",
   "language": "python",
   "name": "python3"
  },
  "language_info": {
   "codemirror_mode": {
    "name": "ipython",
    "version": 3
   },
   "file_extension": ".py",
   "mimetype": "text/x-python",
   "name": "python",
   "nbconvert_exporter": "python",
   "pygments_lexer": "ipython3",
   "version": "3.11.3"
  },
  "orig_nbformat": 4,
  "vscode": {
   "interpreter": {
    "hash": "81794d4967e6c3204c66dcd87b604927b115b27c00565d3d43f05ba2f3a2cb0d"
   }
  }
 },
 "nbformat": 4,
 "nbformat_minor": 2
}
