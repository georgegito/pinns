{
 "cells": [
  {
   "cell_type": "markdown",
   "metadata": {},
   "source": [
    "# PINN Testing"
   ]
  },
  {
   "cell_type": "code",
   "execution_count": null,
   "metadata": {},
   "outputs": [],
   "source": [
    "import os\n",
    "from dotenv import load_dotenv\n",
    "import sys"
   ]
  },
  {
   "cell_type": "code",
   "execution_count": null,
   "metadata": {},
   "outputs": [],
   "source": [
    "load_dotenv()\n",
    "\n",
    "lib_dir = os.environ.get(\"LOCAL_LIB_DIR\")\n",
    "sys.path.append(lib_dir)\n",
    "\n",
    "data_dir_airfoil = os.environ.get(\"LOCAL_DATA_DIR_AIRFOIL\")\n",
    "model_dir_airfoil = os.path.join(data_dir_airfoil, \"models\")"
   ]
  },
  {
   "cell_type": "code",
   "execution_count": null,
   "metadata": {},
   "outputs": [],
   "source": [
    "import numpy as np\n",
    "import torch\n",
    "import yaml\n",
    "from airfoil_pinn import AirfoilPINN\n",
    "from naca4digit_airfoil import Naca4DigitAirfoil\n",
    "from matplotlib import pyplot as plt\n",
    "import utils"
   ]
  },
  {
   "cell_type": "code",
   "execution_count": null,
   "metadata": {},
   "outputs": [],
   "source": [
    "with open(\"config_airfoil.yaml\", 'r') as file:\n",
    "    config = yaml.safe_load(file)"
   ]
  },
  {
   "cell_type": "code",
   "execution_count": null,
   "metadata": {},
   "outputs": [],
   "source": [
    "device = torch.device(\"cpu\")"
   ]
  },
  {
   "cell_type": "code",
   "execution_count": null,
   "metadata": {},
   "outputs": [],
   "source": [
    "# Define airfoil parameters (example: NACA 2412)\n",
    "chord = 1.0\n",
    "m = 0.02  # maximum camber\n",
    "p = 0.4   # position of maximum camber\n",
    "t = 0.12  # maximum thickness\n",
    "num_points = 100\n",
    "angle_of_attack = 10.0\n",
    "\n",
    "airfoil = Naca4DigitAirfoil(chord, m, p, t, angle_of_attack, num_points)\n",
    "\n",
    "# testing domain\n",
    "domain = utils.Domain2D(\n",
    "        x_min=config[\"domain\"][\"x_min\"], \n",
    "        x_max=config[\"domain\"][\"x_max\"], \n",
    "        y_min=config[\"domain\"][\"y_min\"],\n",
    "        y_max=config[\"domain\"][\"y_max\"])"
   ]
  },
  {
   "cell_type": "code",
   "execution_count": null,
   "metadata": {},
   "outputs": [],
   "source": [
    "def show_airfoil():\n",
    "  fig, ax = plt.subplots(figsize=(12, 7))\n",
    "  airfoil.plot(ax=ax)\n",
    "  domain.plot(ax=ax)\n",
    "  plt.show()\n",
    "\n",
    "show_airfoil()"
   ]
  },
  {
   "cell_type": "code",
   "execution_count": null,
   "metadata": {},
   "outputs": [],
   "source": [
    "center_x, center_y = (domain.x_max + domain.x_min) / 2, (domain.y_max + domain.y_min) / 2\n",
    "\n",
    "# Translate to the origin\n",
    "airfoil.translate(-center_x, -center_y)\n",
    "domain.translate(-center_x, -center_y)\n",
    "\n",
    "# Scale the airfoil and the domain\n",
    "width = domain.x_max - domain.x_min\n",
    "height = domain.y_max - domain.y_min\n",
    "# scaling_factor_x = 1 / width\n",
    "# scaling_factor_y = 1 / height\n",
    "scaling_factor = 1 / max(width, height)\n",
    "\n",
    "# airfoil.scale(sx=scaling_factor_x, sy=scaling_factor_y)\n",
    "# domain.scale(sx=scaling_factor_x, sy=scaling_factor_y)\n",
    "\n",
    "airfoil.scale(sx=scaling_factor, sy=scaling_factor)\n",
    "domain.scale(sx=scaling_factor, sy=scaling_factor)\n",
    "\n",
    "fig, ax = plt.subplots(figsize=(12, 7))\n",
    "airfoil.plot(ax=ax)\n",
    "domain.plot(ax=ax)\n",
    "\n",
    "plt.show()"
   ]
  },
  {
   "cell_type": "code",
   "execution_count": null,
   "metadata": {},
   "outputs": [],
   "source": [
    "# load model\n",
    "model_name = config[\"model_name\"]\n",
    "model_checkpoint_num = config[\"model_checkpoint_num\"]\n",
    "\n",
    "pinn = AirfoilPINN.load_from_checkpoint_for_testing(model_dir_airfoil, model_name, model_checkpoint_num).to(device)"
   ]
  },
  {
   "cell_type": "code",
   "execution_count": null,
   "metadata": {},
   "outputs": [],
   "source": [
    "x_min = domain.x_min\n",
    "x_max = domain.x_max\n",
    "y_min = domain.y_min\n",
    "y_max = domain.y_max\n",
    "\n",
    "Nx = config[\"Nx\"]\n",
    "Ny = config[\"Ny\"]\n",
    "\n",
    "dx = x_max / (Nx - 1)\n",
    "dy = y_max / (Ny - 1)\n",
    "\n",
    "x_test = np.linspace(x_min, x_max, Nx)\n",
    "y_test = np.linspace(y_min, y_max, Ny)\n",
    "\n",
    "X, Y = np.meshgrid(x_test, y_test)\n",
    "\n",
    "X_flat = X.flatten()\n",
    "Y_flat = Y.flatten()\n",
    "\n",
    "input = np.vstack([X_flat, Y_flat]).T\n",
    "\n",
    "input_tensor = torch.tensor(input, dtype=torch.float32)\n",
    "\n",
    "input_tensor = input_tensor.to(device)\n",
    "output_uvp = pinn(input_tensor)\n",
    "\n",
    "u_test = output_uvp[:, 0].to(\"cpu\").detach().numpy()\n",
    "v_test = output_uvp[:, 1].to(\"cpu\").detach().numpy()\n",
    "p_test = output_uvp[:, 2].to(\"cpu\").detach().numpy()\n",
    "\n",
    "velocity_norm = np.linalg.norm([u_test, v_test], axis=0)\n",
    "\n",
    "# min & max values of the model outputs\n",
    "velocity_norm = np.array(velocity_norm)\n",
    "min_velocity_norm = velocity_norm.min()\n",
    "max_velocity_norm = velocity_norm.max()\n",
    "\n",
    "min_pressure = np.array(p_test).min()\n",
    "max_pressure = np.array(p_test).max()"
   ]
  },
  {
   "cell_type": "code",
   "execution_count": null,
   "metadata": {},
   "outputs": [],
   "source": [
    "# domain.scale(sx=1/scaling_factor_x, sy=1/scaling_factor_y)\n",
    "# airfoil.scale(sx=1/scaling_factor_x, sy=1/scaling_factor_y)\n",
    "\n",
    "domain.scale(sx=1/scaling_factor, sy=1/scaling_factor)\n",
    "airfoil.scale(sx=1/scaling_factor, sy=1/scaling_factor)\n",
    "\n",
    "airfoil.translate(center_x, center_y)\n",
    "domain.translate(center_x, center_y)\n",
    "\n",
    "x_min = domain.x_min\n",
    "x_max = domain.x_max\n",
    "y_min = domain.y_min\n",
    "y_max = domain.y_max\n",
    "\n",
    "Nx = config[\"Nx\"]\n",
    "Ny = config[\"Ny\"]\n",
    "\n",
    "dx = x_max / (Nx - 1)\n",
    "dy = y_max / (Ny - 1)\n",
    "\n",
    "x_test = np.linspace(x_min, x_max, Nx)\n",
    "y_test = np.linspace(y_min, y_max, Ny)\n",
    "\n",
    "X, Y = np.meshgrid(x_test, y_test)\n",
    "\n",
    "U = u_test.reshape(Nx, Ny)\n",
    "V = v_test.reshape(Nx, Ny)\n",
    "\n",
    "N = velocity_norm.reshape(Nx, Ny)\n",
    "\n",
    "U = np.ma.masked_where(N < 0.03, U)\n",
    "V = np.ma.masked_where(N < 0.03, V)\n",
    "\n",
    "fig, ax = plt.subplots(figsize=(12, 7))\n",
    "\n",
    "strm = ax.streamplot(X, Y, U, V, color=N, linewidth=1, cmap='jet', density=2, arrowstyle='->', arrowsize=1)\n",
    "\n",
    "airfoil.plot(ax=ax)\n",
    "\n",
    "fig.colorbar(strm.lines, ax=ax, label='Velocity magnitude')\n",
    "\n",
    "ax.set_title('Streamlines')\n",
    "ax.set_xlabel('X axis')\n",
    "ax.set_ylabel('Y axis')\n",
    "\n",
    "ax.set_xlim(x_min, x_max)\n",
    "ax.set_ylim(y_min, y_max)\n",
    "\n",
    "plt.show()"
   ]
  },
  {
   "cell_type": "code",
   "execution_count": null,
   "metadata": {},
   "outputs": [],
   "source": [
    "X, Y = np.meshgrid(x_test, y_test)\n",
    "\n",
    "N = velocity_norm.reshape(Nx, Ny)\n",
    "\n",
    "fig, ax = plt.subplots(figsize=(12, 7))\n",
    "\n",
    "contour = ax.contourf(X, Y, N, levels=500, cmap='jet')\n",
    "\n",
    "plt.colorbar(contour, ax=ax, label='Velocity Norm')\n",
    "\n",
    "airfoil.plot(ax=ax)\n",
    "\n",
    "ax.set_title('Velocity')\n",
    "ax.set_xlabel('X axis')\n",
    "ax.set_ylabel('Y axis')\n",
    "\n",
    "ax.set_xlim(x_min, x_max)\n",
    "ax.set_ylim(y_min, y_max)\n",
    "ax.legend()\n",
    "\n",
    "plt.show()"
   ]
  },
  {
   "cell_type": "code",
   "execution_count": null,
   "metadata": {},
   "outputs": [],
   "source": [
    "X, Y = np.meshgrid(x_test, y_test)\n",
    "\n",
    "P = p_test.reshape(Nx, Ny)\n",
    "\n",
    "fig, ax = plt.subplots(figsize=(12, 7))\n",
    "\n",
    "contour = ax.contourf(X, Y, P, levels=500, cmap='jet')\n",
    "\n",
    "plt.colorbar(contour, ax=ax, label='Pressure Distribution')\n",
    "\n",
    "airfoil.plot(ax=ax)\n",
    "\n",
    "ax.set_title('Pressure')\n",
    "ax.set_xlabel('X axis')\n",
    "ax.set_ylabel('Y axis')\n",
    "\n",
    "ax.set_xlim(x_min, x_max)\n",
    "ax.set_ylim(y_min, y_max)\n",
    "ax.legend()\n",
    "\n",
    "plt.show()"
   ]
  }
 ],
 "metadata": {
  "kernelspec": {
   "display_name": "Python 3",
   "language": "python",
   "name": "python3"
  },
  "language_info": {
   "codemirror_mode": {
    "name": "ipython",
    "version": 3
   },
   "file_extension": ".py",
   "mimetype": "text/x-python",
   "name": "python",
   "nbconvert_exporter": "python",
   "pygments_lexer": "ipython3",
   "version": "3.9.6"
  },
  "orig_nbformat": 4
 },
 "nbformat": 4,
 "nbformat_minor": 2
}
