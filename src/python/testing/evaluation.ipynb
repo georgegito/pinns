{
 "cells": [
  {
   "cell_type": "markdown",
   "metadata": {},
   "source": [
    "# PINN Evaluation"
   ]
  },
  {
   "cell_type": "code",
   "execution_count": null,
   "metadata": {},
   "outputs": [],
   "source": [
    "import os\n",
    "from dotenv import load_dotenv\n",
    "import sys"
   ]
  },
  {
   "cell_type": "code",
   "execution_count": null,
   "metadata": {},
   "outputs": [],
   "source": [
    "load_dotenv()\n",
    "\n",
    "lib_dir = os.environ.get(\"LIB_DIR\")\n",
    "sys.path.append(lib_dir)\n",
    "\n",
    "data_dir = os.environ.get(\"DATA_DIR\")\n",
    "model_dir = os.path.join(data_dir, \"models\")\n",
    "points_file_name = \"points_final.csv\"\n",
    "measurements_file_name = \"measurements.csv\""
   ]
  },
  {
   "cell_type": "code",
   "execution_count": null,
   "metadata": {},
   "outputs": [],
   "source": [
    "import pandas as pd\n",
    "import torch\n",
    "import yaml\n",
    "from pinn import PINN"
   ]
  },
  {
   "cell_type": "code",
   "execution_count": null,
   "metadata": {},
   "outputs": [],
   "source": [
    "with open(\"config.yaml\", 'r') as file:\n",
    "    config = yaml.safe_load(file)"
   ]
  },
  {
   "cell_type": "code",
   "execution_count": null,
   "metadata": {},
   "outputs": [],
   "source": [
    "wing_df = pd.read_csv(os.path.join(data_dir, points_file_name))\n",
    "measurements_df = pd.read_csv(os.path.join(data_dir, measurements_file_name))\n",
    "\n",
    "device = torch.device(\"cpu\")\n",
    "\n",
    "x_min, y_min, z_min = wing_df.min()\n",
    "x_max, y_max, z_max = wing_df.max()\n",
    "\n",
    "overall_min = min(x_min, y_min, z_min)\n",
    "overall_max = max(x_max, y_max, z_max)\n",
    "\n",
    "xyz_range = (overall_min, overall_max)"
   ]
  },
  {
   "cell_type": "code",
   "execution_count": null,
   "metadata": {},
   "outputs": [],
   "source": [
    "# load model\n",
    "model_name = config[\"model_name\"]\n",
    "model_checkpoint_num = config[\"model_checkpoint_num\"]\n",
    "\n",
    "pinn = PINN.load_from_checkpoint_for_testing(model_dir, model_name, model_checkpoint_num).to(device)"
   ]
  },
  {
   "cell_type": "code",
   "execution_count": null,
   "metadata": {},
   "outputs": [],
   "source": [
    "# eval domain\n",
    "x_max = config[\"x_max\"]\n",
    "y_max = config[\"y_max\"]\n",
    "z_max = config[\"z_max\"]\n",
    "# t_max = 2 # TODO: set t>2 to test outside of training domain"
   ]
  },
  {
   "cell_type": "code",
   "execution_count": null,
   "metadata": {},
   "outputs": [],
   "source": [
    "pinn.eval_pinn(s_df=wing_df, u_df=measurements_df, \n",
    "               Nf=10000, N0=10000, Nb=10000, Ns=10000, Nu=10,\n",
    "               x_max=x_max, y_max=y_max, z_max=z_max,\n",
    "               in_velocity=1, mu=1, rho=1,\n",
    "               device=device)"
   ]
  },
  {
   "cell_type": "code",
   "execution_count": null,
   "metadata": {},
   "outputs": [],
   "source": [
    "pinn.print_current_metrics()"
   ]
  },
  {
   "cell_type": "code",
   "execution_count": null,
   "metadata": {},
   "outputs": [],
   "source": [
    "pinn.print_all_metrics()"
   ]
  }
 ],
 "metadata": {
  "kernelspec": {
   "display_name": "Python 3",
   "language": "python",
   "name": "python3"
  },
  "language_info": {
   "codemirror_mode": {
    "name": "ipython",
    "version": 3
   },
   "file_extension": ".py",
   "mimetype": "text/x-python",
   "name": "python",
   "nbconvert_exporter": "python",
   "pygments_lexer": "ipython3",
   "version": "3.9.6"
  },
  "orig_nbformat": 4
 },
 "nbformat": 4,
 "nbformat_minor": 2
}
