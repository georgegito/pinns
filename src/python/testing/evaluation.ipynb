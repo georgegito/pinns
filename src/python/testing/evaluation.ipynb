{
 "cells": [
  {
   "cell_type": "markdown",
   "metadata": {},
   "source": [
    "# PINN Evaluation"
   ]
  },
  {
   "cell_type": "code",
   "execution_count": null,
   "metadata": {},
   "outputs": [],
   "source": [
    "import numpy as np\n",
    "import pandas as pd\n",
    "import torch\n",
    "from pinn import PINN\n",
    "import os"
   ]
  },
  {
   "cell_type": "code",
   "execution_count": null,
   "metadata": {},
   "outputs": [],
   "source": [
    "data_dir = \"/Users/ggito/repos/pinns/data/front_wing\"\n",
    "model_dir = os.path.join(data_dir, \"models\")\n",
    "points_file_name = \"points_final.csv\"\n",
    "measurements_filename = \"measurements.csv\"\n",
    "model_name = \"v10\"\n",
    "model_checkpoint_num = 90"
   ]
  },
  {
   "cell_type": "code",
   "execution_count": null,
   "metadata": {},
   "outputs": [],
   "source": [
    "wing_df = pd.read_csv(os.path.join(data_dir, points_file_name))\n",
    "measurements_df = pd.read_csv(os.path.join(data_dir, measurements_filename))"
   ]
  },
  {
   "cell_type": "code",
   "execution_count": null,
   "metadata": {},
   "outputs": [],
   "source": [
    "device = torch.device(\"cpu\")"
   ]
  },
  {
   "cell_type": "code",
   "execution_count": null,
   "metadata": {},
   "outputs": [],
   "source": [
    "x_min, y_min, z_min = wing_df.min()\n",
    "x_max, y_max, z_max = wing_df.max()\n",
    "\n",
    "overall_min = min(x_min, y_min, z_min)\n",
    "overall_max = max(x_max, y_max, z_max)\n",
    "\n",
    "xyz_range = (overall_min, overall_max)"
   ]
  },
  {
   "cell_type": "code",
   "execution_count": null,
   "metadata": {},
   "outputs": [],
   "source": [
    "# load model\n",
    "input_dim = 3\n",
    "output_dim = 4\n",
    "hidden_units = [2000, 2000, 2000]\n",
    "\n",
    "pinn = PINN(input_dim, output_dim, hidden_units, model_name=None).to(device)\n",
    "pinn, _ = pinn.load_checkpoint_num(optimizer=None, checkpoint_dir=model_dir, model_name=model_name, checkpoint_num=model_checkpoint_num, mode='test')\n",
    "pinn.eval()"
   ]
  },
  {
   "cell_type": "code",
   "execution_count": null,
   "metadata": {},
   "outputs": [],
   "source": [
    "# eval domain\n",
    "x_max = 1\n",
    "y_max = 1\n",
    "z_max = 1\n",
    "t_max = 2 # TODO: set t>2 to test outside of training domain"
   ]
  },
  {
   "cell_type": "code",
   "execution_count": null,
   "metadata": {},
   "outputs": [],
   "source": [
    "pinn.eval_pinn(s_df=wing_df, u_df=measurements_df, \n",
    "               Nf=10000, N0=10000, Nb=10000, Ns=10000, Nu=40,\n",
    "               x_max=x_max, y_max=y_max, z_max=z_max, t_max=t_max,\n",
    "               in_velocity=1, mu=1, rho=1,\n",
    "               device=device)"
   ]
  }
 ],
 "metadata": {
  "kernelspec": {
   "display_name": "Python 3",
   "language": "python",
   "name": "python3"
  },
  "language_info": {
   "codemirror_mode": {
    "name": "ipython",
    "version": 3
   },
   "file_extension": ".py",
   "mimetype": "text/x-python",
   "name": "python",
   "nbconvert_exporter": "python",
   "pygments_lexer": "ipython3",
   "version": "3.9.6"
  },
  "orig_nbformat": 4
 },
 "nbformat": 4,
 "nbformat_minor": 2
}
