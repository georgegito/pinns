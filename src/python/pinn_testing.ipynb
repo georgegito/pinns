{
 "cells": [
  {
   "cell_type": "markdown",
   "metadata": {},
   "source": [
    "# PINN Testing"
   ]
  },
  {
   "cell_type": "code",
   "execution_count": 1,
   "metadata": {},
   "outputs": [],
   "source": [
    "import numpy as np\n",
    "import pandas as pd\n",
    "import torch\n",
    "import plotly.express as px\n",
    "import plotly.graph_objects as go\n",
    "from pinn import PINN\n",
    "import os"
   ]
  },
  {
   "cell_type": "code",
   "execution_count": 2,
   "metadata": {},
   "outputs": [],
   "source": [
    "data_dir = \"/Users/ggito/repos/pinns/data/front_wing\"\n",
    "model_dir = os.path.join(data_dir, \"models\")\n",
    "points_file_name = \"points_final.csv\"\n",
    "model_name = \"v9\"\n",
    "model_checkpoint_num = 50"
   ]
  },
  {
   "cell_type": "code",
   "execution_count": 3,
   "metadata": {},
   "outputs": [],
   "source": [
    "wing_df = pd.read_csv(os.path.join(data_dir, points_file_name))"
   ]
  },
  {
   "cell_type": "code",
   "execution_count": 4,
   "metadata": {},
   "outputs": [],
   "source": [
    "device = torch.device(\"cpu\")"
   ]
  },
  {
   "cell_type": "code",
   "execution_count": 5,
   "metadata": {},
   "outputs": [],
   "source": [
    "x_min, y_min, z_min = wing_df.min()\n",
    "x_max, y_max, z_max = wing_df.max()\n",
    "\n",
    "overall_min = min(x_min, y_min, z_min)\n",
    "overall_max = max(x_max, y_max, z_max)\n",
    "\n",
    "xyz_range = (overall_min, overall_max)"
   ]
  },
  {
   "cell_type": "code",
   "execution_count": 6,
   "metadata": {},
   "outputs": [],
   "source": [
    "def show_wing():\n",
    "  df = px.data.iris()\n",
    "  fig = px.scatter_3d(wing_df, x='x', y='y', z='z')\n",
    "  fig.update_traces(marker_size = 1)\n",
    "  fig.update_traces(marker_color = 'slategrey')\n",
    "  fig.update_layout(\n",
    "      scene = dict(\n",
    "          xaxis = dict(range=xyz_range),\n",
    "          yaxis = dict(range=xyz_range),\n",
    "          zaxis = dict(range=xyz_range)))\n",
    "\n",
    "  fig.show()"
   ]
  },
  {
   "cell_type": "code",
   "execution_count": 7,
   "metadata": {},
   "outputs": [
    {
     "name": "stdout",
     "output_type": "stream",
     "text": [
      "=> loading checkpoint '/Users/ggito/repos/pinns/data/front_wing/models/v9/50.pt'\n"
     ]
    },
    {
     "ename": "RuntimeError",
     "evalue": "Error(s) in loading state_dict for PINN:\n\tUnexpected key(s) in state_dict: \"layers.4.weight\", \"layers.4.bias\", \"layers.5.weight\", \"layers.5.bias\", \"layers.6.weight\", \"layers.6.bias\", \"layers.7.weight\", \"layers.7.bias\". \n\tsize mismatch for layers.0.weight: copying a param with shape torch.Size([1000, 4]) from checkpoint, the shape in current model is torch.Size([2058, 4]).\n\tsize mismatch for layers.0.bias: copying a param with shape torch.Size([1000]) from checkpoint, the shape in current model is torch.Size([2058]).\n\tsize mismatch for layers.1.weight: copying a param with shape torch.Size([1000, 1000]) from checkpoint, the shape in current model is torch.Size([2058, 2058]).\n\tsize mismatch for layers.1.bias: copying a param with shape torch.Size([1000]) from checkpoint, the shape in current model is torch.Size([2058]).\n\tsize mismatch for layers.2.weight: copying a param with shape torch.Size([1000, 1000]) from checkpoint, the shape in current model is torch.Size([2058, 2058]).\n\tsize mismatch for layers.2.bias: copying a param with shape torch.Size([1000]) from checkpoint, the shape in current model is torch.Size([2058]).\n\tsize mismatch for layers.3.weight: copying a param with shape torch.Size([1000, 1000]) from checkpoint, the shape in current model is torch.Size([4, 2058]).\n\tsize mismatch for layers.3.bias: copying a param with shape torch.Size([1000]) from checkpoint, the shape in current model is torch.Size([4]).",
     "output_type": "error",
     "traceback": [
      "\u001b[0;31m---------------------------------------------------------------------------\u001b[0m",
      "\u001b[0;31mRuntimeError\u001b[0m                              Traceback (most recent call last)",
      "Cell \u001b[0;32mIn[7], line 8\u001b[0m\n\u001b[1;32m      6\u001b[0m \u001b[38;5;66;03m# hidden_units = [1024, 1024, 1024, 1024, 1024]\u001b[39;00m\n\u001b[1;32m      7\u001b[0m pinn \u001b[38;5;241m=\u001b[39m PINN(input_dim, output_dim, hidden_units, model_name\u001b[38;5;241m=\u001b[39m\u001b[38;5;28;01mNone\u001b[39;00m)\u001b[38;5;241m.\u001b[39mto(device)\n\u001b[0;32m----> 8\u001b[0m pinn, _ \u001b[38;5;241m=\u001b[39m \u001b[43mpinn\u001b[49m\u001b[38;5;241;43m.\u001b[39;49m\u001b[43mload_checkpoint_num\u001b[49m\u001b[43m(\u001b[49m\u001b[43moptimizer\u001b[49m\u001b[38;5;241;43m=\u001b[39;49m\u001b[38;5;28;43;01mNone\u001b[39;49;00m\u001b[43m,\u001b[49m\u001b[43m \u001b[49m\u001b[43mcheckpoint_dir\u001b[49m\u001b[38;5;241;43m=\u001b[39;49m\u001b[43mmodel_dir\u001b[49m\u001b[43m,\u001b[49m\u001b[43m \u001b[49m\u001b[43mmodel_name\u001b[49m\u001b[38;5;241;43m=\u001b[39;49m\u001b[43mmodel_name\u001b[49m\u001b[43m,\u001b[49m\u001b[43m \u001b[49m\u001b[43mcheckpoint_num\u001b[49m\u001b[38;5;241;43m=\u001b[39;49m\u001b[43mmodel_checkpoint_num\u001b[49m\u001b[43m,\u001b[49m\u001b[43m \u001b[49m\u001b[43mmode\u001b[49m\u001b[38;5;241;43m=\u001b[39;49m\u001b[38;5;124;43m'\u001b[39;49m\u001b[38;5;124;43mtest\u001b[39;49m\u001b[38;5;124;43m'\u001b[39;49m\u001b[43m)\u001b[49m\n\u001b[1;32m      9\u001b[0m pinn\u001b[38;5;241m.\u001b[39meval()\n",
      "File \u001b[0;32m~/repos/pinns/src/python/pinn.py:730\u001b[0m, in \u001b[0;36mPINN.load_checkpoint_num\u001b[0;34m(self, optimizer, checkpoint_dir, model_name, checkpoint_num, mode)\u001b[0m\n\u001b[1;32m    727\u001b[0m \u001b[38;5;28;01mdef\u001b[39;00m \u001b[38;5;21mload_checkpoint_num\u001b[39m(\u001b[38;5;28mself\u001b[39m, optimizer: torch\u001b[38;5;241m.\u001b[39moptim\u001b[38;5;241m.\u001b[39mOptimizer, checkpoint_dir, model_name: \u001b[38;5;28mstr\u001b[39m, checkpoint_num: \u001b[38;5;28mint\u001b[39m, mode\u001b[38;5;241m=\u001b[39m\u001b[38;5;124m'\u001b[39m\u001b[38;5;124mtraining\u001b[39m\u001b[38;5;124m'\u001b[39m) \u001b[38;5;241m-\u001b[39m\u001b[38;5;241m>\u001b[39m \u001b[38;5;124m'\u001b[39m\u001b[38;5;124mPINN, torch.optim.Optimizer\u001b[39m\u001b[38;5;124m'\u001b[39m:\n\u001b[1;32m    729\u001b[0m   file_path \u001b[38;5;241m=\u001b[39m os\u001b[38;5;241m.\u001b[39mpath\u001b[38;5;241m.\u001b[39mjoin(checkpoint_dir, model_name, \u001b[38;5;28mstr\u001b[39m(checkpoint_num) \u001b[38;5;241m+\u001b[39m \u001b[38;5;124m\"\u001b[39m\u001b[38;5;124m.pt\u001b[39m\u001b[38;5;124m\"\u001b[39m)\n\u001b[0;32m--> 730\u001b[0m   \u001b[38;5;28;01mreturn\u001b[39;00m \u001b[38;5;28;43mself\u001b[39;49m\u001b[38;5;241;43m.\u001b[39;49m\u001b[43m__load_checkpoint\u001b[49m\u001b[43m(\u001b[49m\u001b[43moptimizer\u001b[49m\u001b[43m,\u001b[49m\u001b[43m \u001b[49m\u001b[43mfile_path\u001b[49m\u001b[43m,\u001b[49m\u001b[43m \u001b[49m\u001b[43mmode\u001b[49m\u001b[43m)\u001b[49m\n",
      "File \u001b[0;32m~/repos/pinns/src/python/pinn.py:690\u001b[0m, in \u001b[0;36mPINN.__load_checkpoint\u001b[0;34m(self, optimizer, file_path, mode)\u001b[0m\n\u001b[1;32m    688\u001b[0m \u001b[38;5;28mprint\u001b[39m(\u001b[38;5;124m\"\u001b[39m\u001b[38;5;124m=> loading checkpoint \u001b[39m\u001b[38;5;124m'\u001b[39m\u001b[38;5;132;01m{}\u001b[39;00m\u001b[38;5;124m'\u001b[39m\u001b[38;5;124m\"\u001b[39m\u001b[38;5;241m.\u001b[39mformat(file_path))\n\u001b[1;32m    689\u001b[0m checkpoint \u001b[38;5;241m=\u001b[39m torch\u001b[38;5;241m.\u001b[39mload(file_path)\n\u001b[0;32m--> 690\u001b[0m \u001b[38;5;28;43mself\u001b[39;49m\u001b[38;5;241;43m.\u001b[39;49m\u001b[43mload_state_dict\u001b[49m\u001b[43m(\u001b[49m\u001b[43mcheckpoint\u001b[49m\u001b[43m[\u001b[49m\u001b[38;5;124;43m'\u001b[39;49m\u001b[38;5;124;43mstate_dict\u001b[39;49m\u001b[38;5;124;43m'\u001b[39;49m\u001b[43m]\u001b[49m\u001b[43m)\u001b[49m\n\u001b[1;32m    691\u001b[0m \u001b[38;5;28mself\u001b[39m\u001b[38;5;241m.\u001b[39mmodel_name \u001b[38;5;241m=\u001b[39m checkpoint[\u001b[38;5;124m'\u001b[39m\u001b[38;5;124mname\u001b[39m\u001b[38;5;124m'\u001b[39m]\n\u001b[1;32m    692\u001b[0m \u001b[38;5;28mself\u001b[39m\u001b[38;5;241m.\u001b[39mepoch \u001b[38;5;241m=\u001b[39m checkpoint[\u001b[38;5;124m'\u001b[39m\u001b[38;5;124mepoch\u001b[39m\u001b[38;5;124m'\u001b[39m]\n",
      "File \u001b[0;32m~/Library/Python/3.9/lib/python/site-packages/torch/nn/modules/module.py:2152\u001b[0m, in \u001b[0;36mModule.load_state_dict\u001b[0;34m(self, state_dict, strict, assign)\u001b[0m\n\u001b[1;32m   2147\u001b[0m         error_msgs\u001b[38;5;241m.\u001b[39minsert(\n\u001b[1;32m   2148\u001b[0m             \u001b[38;5;241m0\u001b[39m, \u001b[38;5;124m'\u001b[39m\u001b[38;5;124mMissing key(s) in state_dict: \u001b[39m\u001b[38;5;132;01m{}\u001b[39;00m\u001b[38;5;124m. \u001b[39m\u001b[38;5;124m'\u001b[39m\u001b[38;5;241m.\u001b[39mformat(\n\u001b[1;32m   2149\u001b[0m                 \u001b[38;5;124m'\u001b[39m\u001b[38;5;124m, \u001b[39m\u001b[38;5;124m'\u001b[39m\u001b[38;5;241m.\u001b[39mjoin(\u001b[38;5;124mf\u001b[39m\u001b[38;5;124m'\u001b[39m\u001b[38;5;124m\"\u001b[39m\u001b[38;5;132;01m{\u001b[39;00mk\u001b[38;5;132;01m}\u001b[39;00m\u001b[38;5;124m\"\u001b[39m\u001b[38;5;124m'\u001b[39m \u001b[38;5;28;01mfor\u001b[39;00m k \u001b[38;5;129;01min\u001b[39;00m missing_keys)))\n\u001b[1;32m   2151\u001b[0m \u001b[38;5;28;01mif\u001b[39;00m \u001b[38;5;28mlen\u001b[39m(error_msgs) \u001b[38;5;241m>\u001b[39m \u001b[38;5;241m0\u001b[39m:\n\u001b[0;32m-> 2152\u001b[0m     \u001b[38;5;28;01mraise\u001b[39;00m \u001b[38;5;167;01mRuntimeError\u001b[39;00m(\u001b[38;5;124m'\u001b[39m\u001b[38;5;124mError(s) in loading state_dict for \u001b[39m\u001b[38;5;132;01m{}\u001b[39;00m\u001b[38;5;124m:\u001b[39m\u001b[38;5;130;01m\\n\u001b[39;00m\u001b[38;5;130;01m\\t\u001b[39;00m\u001b[38;5;132;01m{}\u001b[39;00m\u001b[38;5;124m'\u001b[39m\u001b[38;5;241m.\u001b[39mformat(\n\u001b[1;32m   2153\u001b[0m                        \u001b[38;5;28mself\u001b[39m\u001b[38;5;241m.\u001b[39m\u001b[38;5;18m__class__\u001b[39m\u001b[38;5;241m.\u001b[39m\u001b[38;5;18m__name__\u001b[39m, \u001b[38;5;124m\"\u001b[39m\u001b[38;5;130;01m\\n\u001b[39;00m\u001b[38;5;130;01m\\t\u001b[39;00m\u001b[38;5;124m\"\u001b[39m\u001b[38;5;241m.\u001b[39mjoin(error_msgs)))\n\u001b[1;32m   2154\u001b[0m \u001b[38;5;28;01mreturn\u001b[39;00m _IncompatibleKeys(missing_keys, unexpected_keys)\n",
      "\u001b[0;31mRuntimeError\u001b[0m: Error(s) in loading state_dict for PINN:\n\tUnexpected key(s) in state_dict: \"layers.4.weight\", \"layers.4.bias\", \"layers.5.weight\", \"layers.5.bias\", \"layers.6.weight\", \"layers.6.bias\", \"layers.7.weight\", \"layers.7.bias\". \n\tsize mismatch for layers.0.weight: copying a param with shape torch.Size([1000, 4]) from checkpoint, the shape in current model is torch.Size([2058, 4]).\n\tsize mismatch for layers.0.bias: copying a param with shape torch.Size([1000]) from checkpoint, the shape in current model is torch.Size([2058]).\n\tsize mismatch for layers.1.weight: copying a param with shape torch.Size([1000, 1000]) from checkpoint, the shape in current model is torch.Size([2058, 2058]).\n\tsize mismatch for layers.1.bias: copying a param with shape torch.Size([1000]) from checkpoint, the shape in current model is torch.Size([2058]).\n\tsize mismatch for layers.2.weight: copying a param with shape torch.Size([1000, 1000]) from checkpoint, the shape in current model is torch.Size([2058, 2058]).\n\tsize mismatch for layers.2.bias: copying a param with shape torch.Size([1000]) from checkpoint, the shape in current model is torch.Size([2058]).\n\tsize mismatch for layers.3.weight: copying a param with shape torch.Size([1000, 1000]) from checkpoint, the shape in current model is torch.Size([4, 2058]).\n\tsize mismatch for layers.3.bias: copying a param with shape torch.Size([1000]) from checkpoint, the shape in current model is torch.Size([4])."
     ]
    }
   ],
   "source": [
    "# load model\n",
    "input_dim = 4\n",
    "output_dim = 4\n",
    "# hidden_units = [1024, 1024, 1024]\n",
    "# hidden_units = [2058, 2058, 2058]\n",
    "# hidden_units = [1024, 1024, 1024, 1024, 1024]\n",
    "hidden_units = [1000, 1000, 1000, 1000, 1000, 1000, 1000]\n",
    "\n",
    "pinn = PINN(input_dim, output_dim, hidden_units, model_name=None).to(device)\n",
    "pinn, _ = pinn.load_checkpoint_num(optimizer=None, checkpoint_dir=model_dir, model_name=model_name, checkpoint_num=model_checkpoint_num, mode='test')\n",
    "pinn.eval()"
   ]
  },
  {
   "cell_type": "code",
   "execution_count": null,
   "metadata": {},
   "outputs": [],
   "source": [
    "# testing domain\n",
    "x_max = 1\n",
    "y_max = 1\n",
    "z_max = 1\n",
    "t_max = 2 # TODO: set t>2 to test outside of training domain\n",
    "\n",
    "Nx = 20\n",
    "Ny = 20\n",
    "Nz = 20\n",
    "Nt = 30\n",
    "\n",
    "dx = x_max / (Nx - 1)\n",
    "dy = y_max / (Ny - 1)\n",
    "dz = z_max / (Nz - 1)\n",
    "dt = t_max / (Nt - 1)\n",
    "\n",
    "x_test = np.linspace(0, x_max, Nx)\n",
    "y_test = np.linspace(0, y_max, Ny)\n",
    "z_test = np.linspace(0, z_max, Nz)\n",
    "t_test = np.linspace(0, t_max, Nt)\n",
    "\n",
    "x_grid, y_grid, z_grid = np.meshgrid(x_test, y_test, z_test, indexing='ij')"
   ]
  },
  {
   "cell_type": "code",
   "execution_count": null,
   "metadata": {},
   "outputs": [],
   "source": [
    "# testing points\n",
    "xyz_combinations = torch.cartesian_prod(torch.tensor(x_test, dtype=torch.float32), torch.tensor(y_test, dtype=torch.float32), torch.tensor(z_test, dtype=torch.float32))\n",
    "num_points = xyz_combinations.shape[0]"
   ]
  },
  {
   "cell_type": "code",
   "execution_count": null,
   "metadata": {},
   "outputs": [],
   "source": [
    "# model outputs of each time step will be stored in these lists\n",
    "# for example, u_test[0] will contain u for all grid points at t = 0, u_test[-1] will contain u for all grid points at t = t_max\n",
    "u_test = []\n",
    "v_test = []\n",
    "w_test = []\n",
    "p_test = []\n",
    "velocity_norm = []"
   ]
  },
  {
   "cell_type": "code",
   "execution_count": null,
   "metadata": {},
   "outputs": [],
   "source": [
    "def predict():\n",
    "  # iterate over time and store the model outputs\n",
    "  for _t in t_test:\n",
    "    _xyzt_combinations = torch.cat((xyz_combinations, torch.full((num_points, 1), _t, dtype=torch.float32)), dim=1)\n",
    "    _input_xyzt = _xyzt_combinations.to(device)\n",
    "    _output_uvwp = pinn(_input_xyzt)\n",
    "\n",
    "    _u_test = _output_uvwp[:, 0].to(\"cpu\").detach().numpy()\n",
    "    _v_test = _output_uvwp[:, 1].to(\"cpu\").detach().numpy()\n",
    "    _w_test = _output_uvwp[:, 2].to(\"cpu\").detach().numpy()\n",
    "    _p_test = _output_uvwp[:, 3].to(\"cpu\").detach().numpy()\n",
    "    _velocity_norm = np.linalg.norm([_u_test, _v_test, _w_test], axis=0)\n",
    "    \n",
    "    u_test.append(_u_test)\n",
    "    v_test.append(_v_test)\n",
    "    w_test.append(_w_test)\n",
    "    p_test.append(_p_test)\n",
    "    velocity_norm.append(_velocity_norm)"
   ]
  },
  {
   "cell_type": "code",
   "execution_count": null,
   "metadata": {},
   "outputs": [],
   "source": [
    "predict()"
   ]
  },
  {
   "cell_type": "code",
   "execution_count": null,
   "metadata": {},
   "outputs": [],
   "source": [
    "# min & max values of the model outputs\n",
    "\n",
    "velocity_norm = np.array(velocity_norm)\n",
    "min_velocity_norm = velocity_norm.min()\n",
    "max_velocity_norm = velocity_norm.max()\n",
    "\n",
    "min_pressure = np.array(p_test).min()\n",
    "max_pressure = np.array(p_test).max()"
   ]
  },
  {
   "cell_type": "code",
   "execution_count": null,
   "metadata": {},
   "outputs": [],
   "source": [
    "def test_velocity():\n",
    "  frames = []\n",
    "\n",
    "  for t_frame in range(Nt):\n",
    "    _scatter = go.Scatter3d(\n",
    "        x=wing_df['x'],\n",
    "        y=wing_df['y'],\n",
    "        z=wing_df['z'],\n",
    "        mode='markers',\n",
    "        marker=dict(size=1, color='slategrey')\n",
    "    )\n",
    "\n",
    "    _cone = go.Cone(\n",
    "        x=x_grid.flatten(),\n",
    "        y=y_grid.flatten(),\n",
    "        z=z_grid.flatten(),\n",
    "        u=u_test[t_frame],\n",
    "        v=v_test[t_frame],\n",
    "        w=w_test[t_frame],\n",
    "        colorscale='jet',\n",
    "        cmin=min_velocity_norm,\n",
    "        cmax=max_velocity_norm,\n",
    "        colorbar_title='Velocity<br>Magnitude',\n",
    "        opacity=0.1,\n",
    "        sizemode=\"scaled\",\n",
    "        sizeref=max_velocity_norm\n",
    "    )\n",
    "\n",
    "    _frame = go.Frame(data=[_scatter, _cone])\n",
    "\n",
    "    frames.append(_frame)\n",
    "\n",
    "  # Create figure\n",
    "  fig = go.Figure(\n",
    "      data=[go.Scatter3d(),\n",
    "            go.Cone()])\n",
    "      \n",
    "  fig.update_layout(\n",
    "          scene = dict(\n",
    "            xaxis=dict(range=[0, x_max], autorange=False),\n",
    "            yaxis=dict(range=[0, y_max], autorange=False),\n",
    "            zaxis=dict(range=[0, z_max], autorange=False),\n",
    "          ))\n",
    "\n",
    "  fig.update(frames=frames)\n",
    "\n",
    "  fig.update_layout(updatemenus=[dict(type=\"buttons\",\n",
    "                            buttons=[dict(label=\"Play\",\n",
    "                                          method=\"animate\",\n",
    "                                          args=[None, dict(frame=dict(redraw=True,fromcurrent=True, mode='immediate'))])])])\n",
    "\n",
    "  fig.show()"
   ]
  },
  {
   "cell_type": "code",
   "execution_count": null,
   "metadata": {},
   "outputs": [],
   "source": [
    "def test_pressure():\n",
    "\n",
    "  frames = []\n",
    "\n",
    "  for t_frame in range(Nt):\n",
    "    _scatter = go.Scatter3d(\n",
    "        x=wing_df['x'],\n",
    "        y=wing_df['y'],\n",
    "        z=wing_df['z'],\n",
    "        mode='markers',\n",
    "        marker=dict(size=1, color='slategrey')\n",
    "    )\n",
    "\n",
    "    _scatter_p = go.Scatter3d(\n",
    "        x=x_grid.flatten(),\n",
    "        y=y_grid.flatten(),\n",
    "        z=z_grid.flatten(),\n",
    "        mode='markers',\n",
    "        marker=dict(\n",
    "          size=4,  # Adjust the size of the marker if needed\n",
    "          color=p_test[t_frame],  # Set the color of the markers based on the pressure values\n",
    "          colorscale='jet',  # Choose a colorscale (e.g., Viridis, Jet, etc.)\n",
    "          cmin=min_pressure,\n",
    "          cmax=max_pressure,\n",
    "          colorbar=dict(title='Pressure'),  # Optional colorbar to indicate the scale\n",
    "          opacity=0.1  # Adjust the opacity if needed\n",
    "        )\n",
    "    )\n",
    "\n",
    "    _frame = go.Frame(data=[_scatter, _scatter_p])\n",
    "\n",
    "    frames.append(_frame)\n",
    "\n",
    "  # Create figure\n",
    "  fig = go.Figure(\n",
    "      data=[go.Scatter3d(),\n",
    "            go.Scatter3d()])\n",
    "      \n",
    "  fig.update_layout(\n",
    "          scene = dict(\n",
    "            xaxis=dict(range=[0, x_max], autorange=False),\n",
    "            yaxis=dict(range=[0, y_max], autorange=False),\n",
    "            zaxis=dict(range=[0, z_max], autorange=False),\n",
    "          ))\n",
    "\n",
    "  fig.update(frames=frames)\n",
    "\n",
    "  fig.update_layout(updatemenus=[dict(type=\"buttons\",\n",
    "                            buttons=[dict(label=\"Play\",\n",
    "                                          method=\"animate\",\n",
    "                                          args=[None, dict(frame=dict(redraw=True,fromcurrent=True, mode='immediate'))])])])\n",
    "\n",
    "  fig.show()"
   ]
  },
  {
   "cell_type": "code",
   "execution_count": null,
   "metadata": {},
   "outputs": [],
   "source": [
    "test_velocity()"
   ]
  },
  {
   "cell_type": "code",
   "execution_count": null,
   "metadata": {},
   "outputs": [],
   "source": [
    "test_pressure()"
   ]
  }
 ],
 "metadata": {
  "kernelspec": {
   "display_name": "Python 3",
   "language": "python",
   "name": "python3"
  },
  "language_info": {
   "codemirror_mode": {
    "name": "ipython",
    "version": 3
   },
   "file_extension": ".py",
   "mimetype": "text/x-python",
   "name": "python",
   "nbconvert_exporter": "python",
   "pygments_lexer": "ipython3",
   "version": "3.9.6"
  },
  "orig_nbformat": 4
 },
 "nbformat": 4,
 "nbformat_minor": 2
}
