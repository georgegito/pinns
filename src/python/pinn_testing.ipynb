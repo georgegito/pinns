{
 "cells": [
  {
   "cell_type": "markdown",
   "metadata": {},
   "source": [
    "# Physics Informed Neural Networks <br> F1 Car Front Wing Aerodymanics"
   ]
  },
  {
   "cell_type": "markdown",
   "metadata": {},
   "source": [
    "## PINN"
   ]
  },
  {
   "cell_type": "code",
   "execution_count": null,
   "metadata": {},
   "outputs": [],
   "source": [
    "import numpy as np\n",
    "import pandas as pd\n",
    "import matplotlib.pyplot as plt\n",
    "import torch\n",
    "import plotly.express as px\n",
    "import plotly.graph_objects as go\n",
    "from pinn import PINN\n",
    "import utils"
   ]
  },
  {
   "cell_type": "code",
   "execution_count": null,
   "metadata": {},
   "outputs": [],
   "source": [
    "in_dir = \"/Users/ggito/repos/pinns/data/\"\n",
    "points_filename = \"front_wing_points_final.csv\"\n",
    "models_out_dir = \"/Users/ggito/repos/pinns/data/models/\""
   ]
  },
  {
   "cell_type": "code",
   "execution_count": null,
   "metadata": {},
   "outputs": [],
   "source": [
    "filename = \"v2_45.pt\""
   ]
  },
  {
   "cell_type": "code",
   "execution_count": null,
   "metadata": {},
   "outputs": [],
   "source": [
    "# if torch.backends.mps.is_available():\n",
    "#   device = torch.device(\"mps\")\n",
    "# elif torch.cuda.is_available():\n",
    "#   device = torch.device(\"cuda\")\n",
    "# else:\n",
    "#   print(\"GPU device not found.\")\n",
    "\n",
    "device = torch.device(\"cpu\")\n",
    "\n",
    "print(device)"
   ]
  },
  {
   "cell_type": "code",
   "execution_count": null,
   "metadata": {},
   "outputs": [],
   "source": [
    "wing_df = pd.read_csv(in_dir + points_filename)\n",
    "print(wing_df)"
   ]
  },
  {
   "cell_type": "code",
   "execution_count": null,
   "metadata": {},
   "outputs": [],
   "source": [
    "x_min, y_min, z_min = wing_df.min()\n",
    "x_max, y_max, z_max = wing_df.max()\n",
    "\n",
    "overall_min = min(x_min, y_min, z_min)\n",
    "overall_max = max(x_max, y_max, z_max)\n",
    "\n",
    "xyz_range = (overall_min, overall_max)\n",
    "print(xyz_range)"
   ]
  },
  {
   "cell_type": "code",
   "execution_count": null,
   "metadata": {},
   "outputs": [],
   "source": [
    "# df = px.data.iris()\n",
    "# fig = px.scatter_3d(wing_df, x='x', y='y', z='z')\n",
    "# fig.update_traces(marker_size = 1)\n",
    "# fig.update_traces(marker_color = 'slategrey')\n",
    "# fig.update_layout(\n",
    "#     scene = dict(\n",
    "#         xaxis = dict(range=xyz_range),\n",
    "#         yaxis = dict(range=xyz_range),\n",
    "#         zaxis = dict(range=xyz_range)))\n",
    "\n",
    "# fig.show()"
   ]
  },
  {
   "cell_type": "code",
   "execution_count": null,
   "metadata": {},
   "outputs": [],
   "source": [
    "input_dim = 4\n",
    "output_dim = 4\n",
    "hidden_units = [1024, 1024, 1024]\n",
    "pinn = PINN(input_dim, output_dim, hidden_units).to(device)\n",
    "checkpoint = torch.load(models_out_dir + filename)\n",
    "pinn.load_state_dict(checkpoint['state_dict'])\n",
    "pinn.eval()"
   ]
  },
  {
   "cell_type": "code",
   "execution_count": null,
   "metadata": {},
   "outputs": [],
   "source": [
    "x_max = 1\n",
    "y_max = 1\n",
    "z_max = 1\n",
    "t_max = 1 # TODO: set t>1 to test outside of training domain\n",
    "\n",
    "Nx = 20\n",
    "Ny = 20\n",
    "Nz = 20\n",
    "Nt = 20\n",
    "\n",
    "dx = x_max / (Nx - 1)\n",
    "dy = y_max / (Ny - 1)\n",
    "dz = z_max / (Nz - 1)\n",
    "dt = t_max / (Nt - 1)\n",
    "\n",
    "x_test = np.linspace(0, x_max, Nx)\n",
    "y_test = np.linspace(0, y_max, Ny)\n",
    "z_test = np.linspace(0, z_max, Nz)\n",
    "t_test = np.linspace(0, t_max, Nt)\n",
    "\n",
    "x_grid, y_grid, z_grid = np.meshgrid(x_test, y_test, z_test, indexing='ij')"
   ]
  },
  {
   "cell_type": "code",
   "execution_count": null,
   "metadata": {},
   "outputs": [],
   "source": [
    "xyz_combinations = torch.cartesian_prod(torch.tensor(x_test, dtype=torch.float32), torch.tensor(y_test, dtype=torch.float32), torch.tensor(z_test, dtype=torch.float32))\n",
    "num_of_points = xyz_combinations.shape[0]"
   ]
  },
  {
   "cell_type": "code",
   "execution_count": null,
   "metadata": {},
   "outputs": [],
   "source": [
    "# model outputs of each time step will be stored in these lists\n",
    "# for example, u_test[0] will contain u for all grid points at t = 0, u_test[-1] will contain u for all grid points at t = t_max\n",
    "u_test = []\n",
    "v_test = []\n",
    "w_test = []\n",
    "p_test = []\n",
    "velocity_norm = []\n",
    "\n",
    "# iterate over time and store the model outputs\n",
    "for _t in t_test:\n",
    "  _xyzt_combinations = torch.cat((xyz_combinations, torch.full((num_of_points, 1), _t, dtype=torch.float32)), dim=1)\n",
    "  _input_xyzt = _xyzt_combinations.to(device)\n",
    "  _output_uvwp = pinn(_input_xyzt)\n",
    "\n",
    "  _u_test = _output_uvwp[:, 0].to(\"cpu\").detach().numpy()\n",
    "  _v_test = _output_uvwp[:, 1].to(\"cpu\").detach().numpy()\n",
    "  _w_test = _output_uvwp[:, 2].to(\"cpu\").detach().numpy()\n",
    "  _p_test = _output_uvwp[:, 3].to(\"cpu\").detach().numpy()\n",
    "  _velocity_norm = np.linalg.norm([_u_test, _v_test, _w_test], axis=0)\n",
    "  \n",
    "  u_test.append(_u_test)\n",
    "  v_test.append(_v_test)\n",
    "  w_test.append(_w_test)\n",
    "  p_test.append(_p_test)\n",
    "  velocity_norm.append(_velocity_norm)"
   ]
  },
  {
   "cell_type": "code",
   "execution_count": null,
   "metadata": {},
   "outputs": [],
   "source": [
    "np.shape(velocity_norm)"
   ]
  },
  {
   "cell_type": "code",
   "execution_count": null,
   "metadata": {},
   "outputs": [],
   "source": [
    "velocity_norm = np.array(velocity_norm)\n",
    "min_velocity_norm = velocity_norm.min()\n",
    "max_velocity_norm = velocity_norm.max()\n",
    "\n",
    "min_pressure = np.array(p_test).min()\n",
    "max_pressure = np.array(p_test).max()"
   ]
  },
  {
   "cell_type": "code",
   "execution_count": null,
   "metadata": {},
   "outputs": [],
   "source": [
    "frames = []\n",
    "\n",
    "for t_frame in range(Nt):\n",
    "  _scatter = go.Scatter3d(\n",
    "      x=wing_df['x'],\n",
    "      y=wing_df['y'],\n",
    "      z=wing_df['z'],\n",
    "      mode='markers',\n",
    "      marker=dict(size=1, color='slategrey')\n",
    "  )\n",
    "\n",
    "  _cone = go.Cone(\n",
    "      x=x_grid.flatten(),\n",
    "      y=y_grid.flatten(),\n",
    "      z=z_grid.flatten(),\n",
    "      u=u_test[t_frame],\n",
    "      v=v_test[t_frame],\n",
    "      w=w_test[t_frame],\n",
    "      colorscale='jet',\n",
    "      cmin=min_velocity_norm,\n",
    "      cmax=max_velocity_norm,\n",
    "      colorbar_title='Velocity<br>Magnitude',\n",
    "      opacity=0.1,\n",
    "      sizemode=\"scaled\",\n",
    "      sizeref=max_velocity_norm\n",
    "  )\n",
    "\n",
    "  _frame = go.Frame(data=[_scatter, _cone])\n",
    "\n",
    "  frames.append(_frame)"
   ]
  },
  {
   "cell_type": "code",
   "execution_count": null,
   "metadata": {},
   "outputs": [],
   "source": [
    "# Create figure\n",
    "fig = go.Figure(\n",
    "    data=[go.Scatter3d(),\n",
    "          go.Cone()])\n",
    "    \n",
    "fig.update_layout(\n",
    "         scene = dict(\n",
    "          xaxis=dict(range=[0, x_max], autorange=False),\n",
    "          yaxis=dict(range=[0, y_max], autorange=False),\n",
    "          zaxis=dict(range=[0, z_max], autorange=False),\n",
    "        ))\n",
    "\n",
    "fig.update(frames=frames)\n",
    "\n",
    "fig.update_layout(updatemenus=[dict(type=\"buttons\",\n",
    "                          buttons=[dict(label=\"Play\",\n",
    "                                        method=\"animate\",\n",
    "                                        args=[None, dict(frame=dict(redraw=True,fromcurrent=True, mode='immediate'))])])])\n",
    "\n",
    "fig.show()"
   ]
  },
  {
   "cell_type": "code",
   "execution_count": null,
   "metadata": {},
   "outputs": [],
   "source": [
    "frames = []\n",
    "\n",
    "for t_frame in range(Nt):\n",
    "  _scatter = go.Scatter3d(\n",
    "      x=wing_df['x'],\n",
    "      y=wing_df['y'],\n",
    "      z=wing_df['z'],\n",
    "      mode='markers',\n",
    "      marker=dict(size=1, color='slategrey')\n",
    "  )\n",
    "\n",
    "  _scatter_p = go.Scatter3d(\n",
    "      x=x_grid.flatten(),\n",
    "      y=y_grid.flatten(),\n",
    "      z=z_grid.flatten(),\n",
    "      mode='markers',\n",
    "      marker=dict(\n",
    "        size=4,  # Adjust the size of the marker if needed\n",
    "        color=p_test[t_frame],  # Set the color of the markers based on the pressure values\n",
    "        colorscale='jet',  # Choose a colorscale (e.g., Viridis, Jet, etc.)\n",
    "        cmin=min_pressure,\n",
    "        cmax=max_pressure,\n",
    "        colorbar=dict(title='Pressure'),  # Optional colorbar to indicate the scale\n",
    "        opacity=0.1  # Adjust the opacity if needed\n",
    "      )\n",
    "  )\n",
    "\n",
    "  _frame = go.Frame(data=[_scatter, _scatter_p])\n",
    "\n",
    "  frames.append(_frame)"
   ]
  },
  {
   "cell_type": "code",
   "execution_count": null,
   "metadata": {},
   "outputs": [],
   "source": [
    "# Create figure\n",
    "fig = go.Figure(\n",
    "    data=[go.Scatter3d(),\n",
    "          go.Scatter3d()])\n",
    "    \n",
    "fig.update_layout(\n",
    "        scene = dict(\n",
    "          xaxis=dict(range=[0, x_max], autorange=False),\n",
    "          yaxis=dict(range=[0, y_max], autorange=False),\n",
    "          zaxis=dict(range=[0, z_max], autorange=False),\n",
    "        ))\n",
    "\n",
    "fig.update(frames=frames)\n",
    "\n",
    "fig.update_layout(updatemenus=[dict(type=\"buttons\",\n",
    "                          buttons=[dict(label=\"Play\",\n",
    "                                        method=\"animate\",\n",
    "                                        args=[None, dict(frame=dict(redraw=True,fromcurrent=True, mode='immediate'))])])])\n",
    "\n",
    "fig.show()"
   ]
  }
 ],
 "metadata": {
  "kernelspec": {
   "display_name": "Python 3",
   "language": "python",
   "name": "python3"
  },
  "language_info": {
   "codemirror_mode": {
    "name": "ipython",
    "version": 3
   },
   "file_extension": ".py",
   "mimetype": "text/x-python",
   "name": "python",
   "nbconvert_exporter": "python",
   "pygments_lexer": "ipython3",
   "version": "3.9.6"
  },
  "orig_nbformat": 4
 },
 "nbformat": 4,
 "nbformat_minor": 2
}
