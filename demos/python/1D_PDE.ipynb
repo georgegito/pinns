{
 "cells": [
  {
   "attachments": {},
   "cell_type": "markdown",
   "metadata": {},
   "source": [
    "# Unsteady Heat Conduction Equation"
   ]
  },
  {
   "attachments": {},
   "cell_type": "markdown",
   "metadata": {},
   "source": [
    "$$\\frac{\\partial T(x,t)}{\\partial t} = \\alpha \\frac{\\partial^2 T(x,t)}{\\partial x^2}$$"
   ]
  },
  {
   "cell_type": "code",
   "execution_count": null,
   "metadata": {},
   "outputs": [],
   "source": [
    "import torch\n",
    "import torch.nn as nn\n",
    "import numpy as np\n",
    "import matplotlib.pyplot as plt"
   ]
  },
  {
   "cell_type": "code",
   "execution_count": null,
   "metadata": {},
   "outputs": [],
   "source": [
    "# Problem parameters\n",
    "L = 1.0  # Length of the domain\n",
    "alpha = 1.0  # Thermal diffusivity\n",
    "\n",
    "# Discretization parameters\n",
    "Nx = 100  # Number of spatial grid points\n",
    "Nt = 100  # Number of time steps\n",
    "dx = L / (Nx - 1)\n",
    "max_time = 0.2  # New maximum time\n",
    "dt = max_time / (Nt - 1)\n",
    "\n",
    "# Initial condition\n",
    "def T_initial(x):\n",
    "    return np.sin(np.pi * x) + 0.5 * np.sin(3 * np.pi * x) + 0.25 * np.sin(5 * np.pi * x)\n",
    "\n",
    "# Create a spatial grid\n",
    "x_values = np.linspace(0, 1, 100)\n",
    "\n",
    "# Evaluate the initial condition at the grid points\n",
    "T_values = T_initial(x_values)\n",
    "\n",
    "# Plot the initial temperature distribution\n",
    "plt.figure()\n",
    "plt.plot(x_values, T_values, label=\"Initial Temperature\")\n",
    "plt.xlabel(\"x\")\n",
    "plt.ylabel(\"Temperature\")\n",
    "plt.title(\"Initial Temperature Distribution (t=0)\")\n",
    "plt.legend()\n",
    "plt.show()\n",
    "\n",
    "# Boundary conditions (Dirichlet)\n",
    "T_left = 0.0\n",
    "T_right = 0.0"
   ]
  },
  {
   "attachments": {},
   "cell_type": "markdown",
   "metadata": {},
   "source": [
    "## Crank-Nicolson (Finite Difference Method)"
   ]
  },
  {
   "cell_type": "code",
   "execution_count": null,
   "metadata": {},
   "outputs": [],
   "source": [
    "# Initialize the temperature matrix\n",
    "T_matrix = np.zeros((Nx, Nt))\n",
    "\n",
    "# Set the initial condition\n",
    "T_matrix[:, 0] = T_initial(np.linspace(0, L, Nx))\n",
    "\n",
    "# Set up the tridiagonal matrix for the Crank-Nicolson method\n",
    "A = np.eye(Nx - 2) * (2 + 2 * alpha * dt / dx**2) + np.eye(Nx - 2, k=1) * (-alpha * dt / dx**2) + np.eye(Nx - 2, k=-1) * (-alpha * dt / dx**2)\n",
    "B = np.eye(Nx - 2) * (2 - 2 * alpha * dt / dx**2) + np.eye(Nx - 2, k=1) * (alpha * dt / dx**2) + np.eye(Nx - 2, k=-1) * (alpha * dt / dx**2)\n",
    "\n",
    "# Time-stepping loop\n",
    "for n in range(1, Nt):\n",
    "    # Set up the right-hand side vector\n",
    "    rhs = np.dot(B, T_matrix[1:-1, n - 1])\n",
    "    rhs[0] += alpha * dt / dx**2 * T_left\n",
    "    rhs[-1] += alpha * dt / dx**2 * T_right\n",
    "\n",
    "    # Solve the linear system\n",
    "    T_matrix[1:-1, n] = np.linalg.solve(A, rhs)\n",
    "\n",
    "    # Enforce boundary conditions\n",
    "    T_matrix[0, n] = T_left\n",
    "    T_matrix[-1, n] = T_right"
   ]
  },
  {
   "cell_type": "code",
   "execution_count": null,
   "metadata": {},
   "outputs": [],
   "source": [
    "plt.figure()\n",
    "plt.contourf(np.linspace(0, L, Nx), np.linspace(0, max_time, Nt), T_matrix.T, cmap=\"jet\")\n",
    "plt.xlabel(\"x\")\n",
    "plt.ylabel(\"t\")\n",
    "plt.title(\"Temperature Distribution (Crank-Nicolson)\")\n",
    "plt.colorbar(label=\"Temperature\")\n",
    "plt.show()"
   ]
  },
  {
   "attachments": {},
   "cell_type": "markdown",
   "metadata": {},
   "source": [
    "## Fipy (Finite Volume PDE Solver)"
   ]
  },
  {
   "cell_type": "code",
   "execution_count": null,
   "metadata": {},
   "outputs": [],
   "source": [
    "import fipy as fp\n",
    "\n",
    "# Problem parameters\n",
    "L = 1.0  # Length of the domain\n",
    "alpha = 1.0  # Thermal diffusivity\n",
    "\n",
    "# Discretization parameters\n",
    "Nx = 500  # Number of spatial grid points\n",
    "Nt = 500  # Number of time steps\n",
    "dx = L / (Nx - 1)\n",
    "max_time = 0.2  # New maximum time\n",
    "dt = max_time / (Nt - 1)\n",
    "\n",
    "# Initial condition\n",
    "def T_initial(x):\n",
    "    return np.sin(np.pi * x) + 0.5 * np.sin(3 * np.pi * x) + 0.25 * np.sin(5 * np.pi * x)\n",
    "\n",
    "# Create the mesh\n",
    "mesh = fp.Grid1D(nx=Nx, dx=L/Nx)\n",
    "\n",
    "# Define the temperature variable\n",
    "T = fp.CellVariable(name=\"temperature\", mesh=mesh, value=0.)\n",
    "\n",
    "T.setValue(T_initial(T.mesh.x.value))\n",
    "\n",
    "# Boundary conditions (Dirichlet)\n",
    "T_left = 0.0\n",
    "T_right = 0.0\n",
    "\n",
    "# Set boundary conditions\n",
    "T.constrain(T_left, where=mesh.facesLeft)\n",
    "T.constrain(T_right, where=mesh.facesRight)\n",
    "\n",
    "# Define the transient diffusion equation\n",
    "eq = fp.TransientTerm() == fp.DiffusionTerm(coeff=alpha)\n",
    "\n",
    "# Initialize temperature history array\n",
    "T_history = np.zeros((Nt, Nx))\n",
    "\n",
    "# Time-stepping\n",
    "t = 0\n",
    "for step in range(Nt):\n",
    "    t += dt\n",
    "    eq.solve(var=T, dt=dt)\n",
    "    T_history[step, :] = T.value"
   ]
  },
  {
   "cell_type": "code",
   "execution_count": null,
   "metadata": {},
   "outputs": [],
   "source": [
    "# Create contour plot\n",
    "x_values = mesh.x.value\n",
    "t_values = np.linspace(0, max_time, Nt)\n",
    "X, T_grid = np.meshgrid(x_values, t_values)\n",
    "plt.contourf(X, T_grid, T_history, cmap=\"jet\")\n",
    "plt.xlabel(\"x\")\n",
    "plt.ylabel(\"t\")\n",
    "plt.colorbar(label=\"Temperature\")\n",
    "plt.title(\"Temperature Distribution (Fipy)\")\n",
    "plt.show()"
   ]
  },
  {
   "attachments": {},
   "cell_type": "markdown",
   "metadata": {},
   "source": [
    "## PINN"
   ]
  },
  {
   "cell_type": "code",
   "execution_count": null,
   "metadata": {},
   "outputs": [],
   "source": [
    "class PINN(nn.Module):\n",
    "    def __init__(self, input_dim, output_dim, hidden_units):\n",
    "        super(PINN, self).__init__()\n",
    "        self.layers = nn.ModuleList()\n",
    "        in_units = input_dim\n",
    "        for units in hidden_units:\n",
    "            self.layers.append(nn.Linear(in_units, units))\n",
    "            in_units = units\n",
    "        self.layers.append(nn.Linear(in_units, output_dim))\n",
    "\n",
    "    def forward(self, x):\n",
    "        for layer in self.layers[:-1]:\n",
    "            x = torch.tanh(layer(x))\n",
    "        x = self.layers[-1](x)\n",
    "        return x"
   ]
  },
  {
   "cell_type": "code",
   "execution_count": null,
   "metadata": {},
   "outputs": [],
   "source": [
    "def pinn_loss(model, x, t, alpha, T_left, T_right, T_initial):\n",
    "    T = model(torch.cat([x, t], dim=1))\n",
    "\n",
    "    T_x = torch.autograd.grad(T, x, grad_outputs=torch.ones_like(T), create_graph=True, retain_graph=True, only_inputs=True)[0]\n",
    "    T_xx = torch.autograd.grad(T_x, x, grad_outputs=torch.ones_like(T_x), create_graph=True, retain_graph=True, only_inputs=True)[0]\n",
    "    T_t = torch.autograd.grad(T, t, grad_outputs=torch.ones_like(T), create_graph=True, retain_graph=True, only_inputs=True)[0]\n",
    "\n",
    "    f = T_t - alpha * T_xx\n",
    "\n",
    "    # Initial condition loss\n",
    "    T_initial_pred = model(torch.cat([x, torch.zeros_like(t)], dim=1))\n",
    "    T_initial_true = T_initial(x.detach().numpy())  # Detach x before converting to a numpy array\n",
    "    T_initial_true = torch.tensor(T_initial_true, dtype=torch.float32)  # Convert back to a tensor\n",
    "    ic_loss = torch.mean(torch.square(T_initial_pred - T_initial_true))\n",
    "\n",
    "    # Boundary conditions loss\n",
    "    T_left_pred = model(torch.cat([torch.zeros_like(x), t], dim=1))\n",
    "    T_right_pred = model(torch.cat([torch.ones_like(x), t], dim=1))\n",
    "    bc_loss = torch.mean(torch.square(T_left_pred - T_left)) + torch.mean(torch.square(T_right_pred - T_right))\n",
    "\n",
    "    # Combine PDE residual, initial condition, and boundary condition losses\n",
    "    total_loss = torch.mean(torch.square(f)) + ic_loss + bc_loss\n",
    "\n",
    "    return total_loss"
   ]
  },
  {
   "cell_type": "code",
   "execution_count": null,
   "metadata": {},
   "outputs": [],
   "source": [
    "input_dim = 2\n",
    "output_dim = 1\n",
    "hidden_units = [64, 64, 64, 64]\n",
    "alpha = 1.0\n",
    "\n",
    "device = torch.device('cuda' if torch.cuda.is_available() else 'cpu')\n",
    "pinn = PINN(input_dim, output_dim, hidden_units).to(device)"
   ]
  },
  {
   "cell_type": "code",
   "execution_count": null,
   "metadata": {},
   "outputs": [],
   "source": [
    "learning_rate = 1e-3\n",
    "epochs = 10000\n",
    "optimizer = torch.optim.Adam(pinn.parameters(), lr=learning_rate)\n",
    "\n",
    "for epoch in range(epochs):\n",
    "    x = torch.tensor(np.random.uniform(0, 1, size=(100, 1)), dtype=torch.float32, device=device, requires_grad=True)\n",
    "    t = torch.tensor(np.random.uniform(0, 1, size=(100, 1)), dtype=torch.float32, device=device, requires_grad=True)\n",
    "    \n",
    "    optimizer.zero_grad()\n",
    "    loss = pinn_loss(pinn, x, t, alpha, T_left, T_right, T_initial)\n",
    "    loss.backward()\n",
    "    optimizer.step()\n",
    "\n",
    "    if epoch % 1000 == 0:\n",
    "        print(f'Epoch: {epoch}, Loss: {loss.item()}')\n",
    "\n",
    "learning_rate = 1e-4\n",
    "epochs = 10000\n",
    "optimizer = torch.optim.Adam(pinn.parameters(), lr=learning_rate)\n",
    "\n",
    "for epoch in range(epochs):\n",
    "    x = torch.tensor(np.random.uniform(0, 1, size=(100, 1)), dtype=torch.float32, device=device, requires_grad=True)\n",
    "    t = torch.tensor(np.random.uniform(0, 1, size=(100, 1)), dtype=torch.float32, device=device, requires_grad=True)\n",
    "    \n",
    "    optimizer.zero_grad()\n",
    "    loss = pinn_loss(pinn, x, t, alpha, T_left, T_right, T_initial)\n",
    "    loss.backward()\n",
    "    optimizer.step()\n",
    "\n",
    "    if epoch % 1000 == 0:\n",
    "        print(f'Epoch: {epoch}, Loss: {loss.item()}')"
   ]
  },
  {
   "cell_type": "code",
   "execution_count": null,
   "metadata": {},
   "outputs": [],
   "source": [
    "learning_rate = 1e-5\n",
    "epochs = 10000\n",
    "optimizer = torch.optim.Adam(pinn.parameters(), lr=learning_rate)\n",
    "\n",
    "for epoch in range(epochs):\n",
    "    x = torch.tensor(np.random.uniform(0, 1, size=(100, 1)), dtype=torch.float32, device=device, requires_grad=True)\n",
    "    t = torch.tensor(np.random.uniform(0, 1, size=(100, 1)), dtype=torch.float32, device=device, requires_grad=True)\n",
    "    \n",
    "    optimizer.zero_grad()\n",
    "    loss = pinn_loss(pinn, x, t, alpha, T_left, T_right, T_initial)\n",
    "    loss.backward()\n",
    "    optimizer.step()\n",
    "\n",
    "    if epoch % 1000 == 0:\n",
    "        print(f'Epoch: {epoch}, Loss: {loss.item()}')"
   ]
  },
  {
   "cell_type": "code",
   "execution_count": null,
   "metadata": {},
   "outputs": [],
   "source": [
    "def analytical_solution(x, t, alpha):\n",
    "    term1 = np.sin(np.pi * x) * np.exp(-(np.pi * alpha)**2 * t)\n",
    "    term2 = 0.5 * np.sin(3 * np.pi * x) * np.exp(-(9 * np.pi * alpha)**2 * t)\n",
    "    term3 = 0.25 * np.sin(5 * np.pi * x) * np.exp(-(25 * np.pi * alpha)**2 * t)\n",
    "    \n",
    "    T = term1 + term2 + term3\n",
    "    return T\n",
    "\n",
    "def analytical_solution_2d(x, t, alpha):\n",
    "    x = np.array(x)\n",
    "    t = np.array(t)\n",
    "    \n",
    "    x_grid, t_grid = np.meshgrid(x, t)\n",
    "\n",
    "    term1 = np.sin(np.pi * x_grid) * np.exp(-(np.pi * alpha)**2 * t_grid)\n",
    "    term2 = 0.5 * np.sin(3 * np.pi * x_grid) * np.exp(-(9 * np.pi * alpha)**2 * t_grid)\n",
    "    term3 = 0.25 * np.sin(5 * np.pi * x_grid) * np.exp(-(25 * np.pi * alpha)**2 * t_grid)\n",
    "\n",
    "    T = term1 + term2 + term3\n",
    "    return T\n"
   ]
  },
  {
   "cell_type": "code",
   "execution_count": null,
   "metadata": {},
   "outputs": [],
   "source": [
    "# Generate a grid of points in the x-t domain\n",
    "x_test = np.linspace(0, 1, 100)\n",
    "t_test = np.linspace(0, max_time, 100)\n",
    "x_grid, t_grid = np.meshgrid(x_test, t_test)\n",
    "x_grid = x_grid.reshape(-1, 1)\n",
    "t_grid = t_grid.reshape(-1, 1)"
   ]
  },
  {
   "cell_type": "code",
   "execution_count": null,
   "metadata": {},
   "outputs": [],
   "source": [
    "# T_analytical = analytical_solution(x_grid, t_grid, alpha)\n",
    "T_analytical = analytical_solution_2d(x_test, t_test, alpha)"
   ]
  },
  {
   "cell_type": "code",
   "execution_count": null,
   "metadata": {},
   "outputs": [],
   "source": [
    "# Evaluate the model at the grid points\n",
    "x_test_tensor = torch.tensor(x_grid, dtype=torch.float32, device=device, requires_grad=True)\n",
    "t_test_tensor = torch.tensor(t_grid, dtype=torch.float32, device=device, requires_grad=True)\n",
    "T_test = pinn(torch.cat([x_test_tensor, t_test_tensor], dim=1))\n",
    "T_test = T_test.detach().cpu().numpy().reshape(100, 100)"
   ]
  },
  {
   "cell_type": "code",
   "execution_count": null,
   "metadata": {},
   "outputs": [],
   "source": [
    "# Create a contour plot of the temperature distribution\n",
    "plt.figure()\n",
    "plt.contourf(x_test, t_test, T_test, cmap=\"jet\")\n",
    "plt.xlabel(\"x\")\n",
    "plt.ylabel(\"t\")\n",
    "plt.title(\"Temperature Distribution (PINN)\")\n",
    "plt.colorbar(label=\"Temperature\")\n",
    "plt.show()\n",
    "\n",
    "# plt.figure()\n",
    "# plt.contourf(np.linspace(0, L, Nx), np.linspace(0, max_time, Nt), T_matrix.T, cmap=\"jet\")\n",
    "# plt.xlabel(\"x\")\n",
    "# plt.ylabel(\"t\")\n",
    "# plt.title(\"Temperature Distribution (Crank-Nicolson)\")\n",
    "# plt.colorbar(label=\"Temperature\")\n",
    "# plt.show()\n",
    "\n",
    "x_values = mesh.x.value\n",
    "t_values = np.linspace(0, max_time, Nt)\n",
    "X, T_grid = np.meshgrid(x_values, t_values)\n",
    "plt.contourf(X, T_grid, T_history, cmap=\"jet\")\n",
    "plt.xlabel(\"x\")\n",
    "plt.ylabel(\"t\")\n",
    "plt.colorbar(label=\"Temperature\")\n",
    "plt.title(\"Temperature Distribution (Fipy)\")\n",
    "plt.show()\n",
    "\n",
    "plt.figure()\n",
    "plt.contourf(x_test, t_test, T_analytical, cmap=\"jet\")\n",
    "plt.xlabel(\"x\")\n",
    "plt.ylabel(\"t\")\n",
    "plt.title(\"Temperature Distribution (Analytical)\")\n",
    "plt.colorbar(label=\"Temperature\")\n",
    "plt.show()"
   ]
  }
 ],
 "metadata": {
  "kernelspec": {
   "display_name": "Python 3",
   "language": "python",
   "name": "python3"
  },
  "language_info": {
   "codemirror_mode": {
    "name": "ipython",
    "version": 3
   },
   "file_extension": ".py",
   "mimetype": "text/x-python",
   "name": "python",
   "nbconvert_exporter": "python",
   "pygments_lexer": "ipython3",
   "version": "3.9.0"
  },
  "orig_nbformat": 4,
  "vscode": {
   "interpreter": {
    "hash": "81794d4967e6c3204c66dcd87b604927b115b27c00565d3d43f05ba2f3a2cb0d"
   }
  }
 },
 "nbformat": 4,
 "nbformat_minor": 2
}
